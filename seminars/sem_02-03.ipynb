{
 "cells": [
  {
   "cell_type": "markdown",
   "id": "acc5a9b0",
   "metadata": {
    "id": "acc5a9b0"
   },
   "source": [
    "# План семинара\n",
    "- Функционалы и метрики\n",
    "- Кросс-валидация\n",
    "- Переобучение и регуляризация\n",
    "- Гиперпараметры и их оптимизация"
   ]
  },
  {
   "cell_type": "markdown",
   "id": "f9e5ed40",
   "metadata": {
    "id": "f9e5ed40"
   },
   "source": [
    "# Функционалы и метрики\n",
    "\n",
    "Quick recap\n",
    "\n",
    "Функционал (или функция потерь == loss function)  - это функция, позволяющая обучить модель (то есть то, что мы стараемся оптимизировать, подбирая параметры модели - в случае линейной регрессии параметры - это веса)\n",
    "\n",
    "Метрика - это оценка качества модели, которую можно использовать к любым моделям (позволяет ответить на вопрос, насколько точно модель может предсказывать целевую переменную)\n",
    "\n",
    "Пример: Чтобы обучить линейную регрессию мы можем минизировать функционал MSE\n",
    "\n",
    "Если мы имеем n наблюдений и k признаков\n",
    "\n",
    "$\\Sigma_{i=0}^{n}(\\hat y_{i} - y_{i})^{2} \\rightarrow min_{w}$\n",
    "\n",
    "где $\\hat y_{i} = \\Sigma_{i=0}^{k}w_{k}X_{ik}$\n",
    "\n",
    "А как метрику можем использовать RMSE\n",
    "\n",
    "$RMSE = \\sqrt{\\Sigma_{i=0}^{n}(\\hat y_{i} - y_{i})^{2}}$\n",
    "\n",
    "Фундаментальное различие функционала и метрик в том, что метрика должна отражать нашу бизнес-задачу или научный вопрос, а функционал должен быть подобран так, чтобы он лучше лучше всего помогал достичь цель (позволял достичь наилучшных показателей метрики или метрик)\n",
    "\n",
    "Аналогия из обучения в вышке: Чтобы сдать матан, мы можем учить производные различных функций, то есть тогда наш функционал - это количество производных, которые мы знаем. А метрикой того, что мы сдали матан будет являться оценка, полученная в конце курса.\n",
    "\n",
    "Оценка в курсе - это понятная метрика, которую нам дал мир. А является ли зубрежка производных лучшим функционалом для достижения поставленной цели решать уже вам, как исследователям\n",
    "\n",
    "И еще, хотя функционал и метрики - это разные по смыслу и использованию инструменты, они могут быть считаться одинаково (то есть к примеру обучать линейную регрессию можно обучать с помощью функционала MSE, и проверять качество тоже можно с помощью MSE)"
   ]
  },
  {
   "cell_type": "code",
   "execution_count": 1,
   "id": "bf0cd6af",
   "metadata": {
    "ExecuteTime": {
     "end_time": "2021-09-20T20:03:51.857595Z",
     "start_time": "2021-09-20T20:03:51.853794Z"
    },
    "id": "bf0cd6af"
   },
   "outputs": [],
   "source": [
    "# pip install scikit-learn\n",
    "\n",
    "import pandas as pd\n",
    "import numpy as np\n",
    "import sklearn\n",
    "from sklearn.linear_model import SGDRegressor\n",
    "from sklearn.datasets import load_diabetes "
   ]
  },
  {
   "cell_type": "code",
   "execution_count": 2,
   "id": "479241c9",
   "metadata": {
    "ExecuteTime": {
     "end_time": "2021-09-20T20:03:51.868197Z",
     "start_time": "2021-09-20T20:03:51.860440Z"
    },
    "id": "479241c9"
   },
   "outputs": [],
   "source": [
    "np.random.seed(42)"
   ]
  },
  {
   "cell_type": "code",
   "execution_count": 3,
   "id": "d6afdc27",
   "metadata": {
    "ExecuteTime": {
     "end_time": "2021-09-20T20:03:51.891504Z",
     "start_time": "2021-09-20T20:03:51.889057Z"
    },
    "id": "d6afdc27"
   },
   "outputs": [],
   "source": [
    "import warnings\n",
    "warnings.filterwarnings('ignore')"
   ]
  },
  {
   "cell_type": "code",
   "execution_count": 4,
   "id": "dae1a3aa",
   "metadata": {},
   "outputs": [
    {
     "data": {
      "text/plain": [
       "(2, 3)"
      ]
     },
     "execution_count": 4,
     "metadata": {},
     "output_type": "execute_result"
    }
   ],
   "source": [
    "a, b = 2, 3\n",
    "a, b"
   ]
  },
  {
   "cell_type": "code",
   "execution_count": 14,
   "id": "818d9dff",
   "metadata": {
    "ExecuteTime": {
     "end_time": "2021-09-20T20:03:51.921761Z",
     "start_time": "2021-09-20T20:03:51.893244Z"
    },
    "id": "818d9dff"
   },
   "outputs": [],
   "source": [
    "X, y = load_diabetes(return_X_y=True,as_frame=True, scaled=True)\n"
   ]
  },
  {
   "cell_type": "code",
   "execution_count": 16,
   "id": "f53fecca",
   "metadata": {},
   "outputs": [
    {
     "data": {
      "text/html": [
       "<div>\n",
       "<style scoped>\n",
       "    .dataframe tbody tr th:only-of-type {\n",
       "        vertical-align: middle;\n",
       "    }\n",
       "\n",
       "    .dataframe tbody tr th {\n",
       "        vertical-align: top;\n",
       "    }\n",
       "\n",
       "    .dataframe thead th {\n",
       "        text-align: right;\n",
       "    }\n",
       "</style>\n",
       "<table border=\"1\" class=\"dataframe\">\n",
       "  <thead>\n",
       "    <tr style=\"text-align: right;\">\n",
       "      <th></th>\n",
       "      <th>age</th>\n",
       "      <th>sex</th>\n",
       "      <th>bmi</th>\n",
       "      <th>bp</th>\n",
       "      <th>s1</th>\n",
       "      <th>s2</th>\n",
       "      <th>s3</th>\n",
       "      <th>s4</th>\n",
       "      <th>s5</th>\n",
       "      <th>s6</th>\n",
       "    </tr>\n",
       "  </thead>\n",
       "  <tbody>\n",
       "    <tr>\n",
       "      <th>287</th>\n",
       "      <td>0.045341</td>\n",
       "      <td>-0.044642</td>\n",
       "      <td>-0.006206</td>\n",
       "      <td>-0.015999</td>\n",
       "      <td>0.125019</td>\n",
       "      <td>0.125198</td>\n",
       "      <td>0.019187</td>\n",
       "      <td>0.034309</td>\n",
       "      <td>0.032432</td>\n",
       "      <td>-0.005220</td>\n",
       "    </tr>\n",
       "    <tr>\n",
       "      <th>211</th>\n",
       "      <td>0.092564</td>\n",
       "      <td>-0.044642</td>\n",
       "      <td>0.036907</td>\n",
       "      <td>0.021872</td>\n",
       "      <td>-0.024960</td>\n",
       "      <td>-0.016658</td>\n",
       "      <td>0.000779</td>\n",
       "      <td>-0.039493</td>\n",
       "      <td>-0.022517</td>\n",
       "      <td>-0.021788</td>\n",
       "    </tr>\n",
       "  </tbody>\n",
       "</table>\n",
       "</div>"
      ],
      "text/plain": [
       "          age       sex       bmi        bp        s1        s2        s3  \\\n",
       "287  0.045341 -0.044642 -0.006206 -0.015999  0.125019  0.125198  0.019187   \n",
       "211  0.092564 -0.044642  0.036907  0.021872 -0.024960 -0.016658  0.000779   \n",
       "\n",
       "           s4        s5        s6  \n",
       "287  0.034309  0.032432 -0.005220  \n",
       "211 -0.039493 -0.022517 -0.021788  "
      ]
     },
     "execution_count": 16,
     "metadata": {},
     "output_type": "execute_result"
    }
   ],
   "source": [
    "X.sample(2, random_state = 42)"
   ]
  },
  {
   "cell_type": "code",
   "execution_count": 17,
   "id": "af29b203",
   "metadata": {},
   "outputs": [
    {
     "data": {
      "text/plain": [
       "287    219.0\n",
       "211     70.0\n",
       "Name: target, dtype: float64"
      ]
     },
     "execution_count": 17,
     "metadata": {},
     "output_type": "execute_result"
    }
   ],
   "source": [
    "y.sample(2, random_state = 42)"
   ]
  },
  {
   "cell_type": "code",
   "execution_count": 18,
   "id": "705ca49c",
   "metadata": {
    "ExecuteTime": {
     "end_time": "2021-09-20T20:03:51.942848Z",
     "start_time": "2021-09-20T20:03:51.923438Z"
    },
    "id": "705ca49c",
    "outputId": "c7472d8f-d761-4934-e090-b887dd2b1e58"
   },
   "outputs": [
    {
     "data": {
      "text/html": [
       "<div>\n",
       "<style scoped>\n",
       "    .dataframe tbody tr th:only-of-type {\n",
       "        vertical-align: middle;\n",
       "    }\n",
       "\n",
       "    .dataframe tbody tr th {\n",
       "        vertical-align: top;\n",
       "    }\n",
       "\n",
       "    .dataframe thead th {\n",
       "        text-align: right;\n",
       "    }\n",
       "</style>\n",
       "<table border=\"1\" class=\"dataframe\">\n",
       "  <thead>\n",
       "    <tr style=\"text-align: right;\">\n",
       "      <th></th>\n",
       "      <th>age</th>\n",
       "      <th>sex</th>\n",
       "      <th>bmi</th>\n",
       "      <th>bp</th>\n",
       "      <th>s1</th>\n",
       "      <th>s2</th>\n",
       "      <th>s3</th>\n",
       "      <th>s4</th>\n",
       "      <th>s5</th>\n",
       "      <th>s6</th>\n",
       "    </tr>\n",
       "  </thead>\n",
       "  <tbody>\n",
       "    <tr>\n",
       "      <th>count</th>\n",
       "      <td>442.000</td>\n",
       "      <td>442.000</td>\n",
       "      <td>442.000</td>\n",
       "      <td>442.000</td>\n",
       "      <td>442.000</td>\n",
       "      <td>442.000</td>\n",
       "      <td>442.000</td>\n",
       "      <td>442.000</td>\n",
       "      <td>442.000</td>\n",
       "      <td>442.000</td>\n",
       "    </tr>\n",
       "    <tr>\n",
       "      <th>mean</th>\n",
       "      <td>-0.000</td>\n",
       "      <td>0.000</td>\n",
       "      <td>-0.000</td>\n",
       "      <td>-0.000</td>\n",
       "      <td>-0.000</td>\n",
       "      <td>0.000</td>\n",
       "      <td>-0.000</td>\n",
       "      <td>-0.000</td>\n",
       "      <td>0.000</td>\n",
       "      <td>0.000</td>\n",
       "    </tr>\n",
       "    <tr>\n",
       "      <th>std</th>\n",
       "      <td>0.048</td>\n",
       "      <td>0.048</td>\n",
       "      <td>0.048</td>\n",
       "      <td>0.048</td>\n",
       "      <td>0.048</td>\n",
       "      <td>0.048</td>\n",
       "      <td>0.048</td>\n",
       "      <td>0.048</td>\n",
       "      <td>0.048</td>\n",
       "      <td>0.048</td>\n",
       "    </tr>\n",
       "    <tr>\n",
       "      <th>min</th>\n",
       "      <td>-0.107</td>\n",
       "      <td>-0.045</td>\n",
       "      <td>-0.090</td>\n",
       "      <td>-0.112</td>\n",
       "      <td>-0.127</td>\n",
       "      <td>-0.116</td>\n",
       "      <td>-0.102</td>\n",
       "      <td>-0.076</td>\n",
       "      <td>-0.126</td>\n",
       "      <td>-0.138</td>\n",
       "    </tr>\n",
       "    <tr>\n",
       "      <th>25%</th>\n",
       "      <td>-0.037</td>\n",
       "      <td>-0.045</td>\n",
       "      <td>-0.034</td>\n",
       "      <td>-0.037</td>\n",
       "      <td>-0.034</td>\n",
       "      <td>-0.030</td>\n",
       "      <td>-0.035</td>\n",
       "      <td>-0.039</td>\n",
       "      <td>-0.033</td>\n",
       "      <td>-0.033</td>\n",
       "    </tr>\n",
       "    <tr>\n",
       "      <th>50%</th>\n",
       "      <td>0.005</td>\n",
       "      <td>-0.045</td>\n",
       "      <td>-0.007</td>\n",
       "      <td>-0.006</td>\n",
       "      <td>-0.004</td>\n",
       "      <td>-0.004</td>\n",
       "      <td>-0.007</td>\n",
       "      <td>-0.003</td>\n",
       "      <td>-0.002</td>\n",
       "      <td>-0.001</td>\n",
       "    </tr>\n",
       "    <tr>\n",
       "      <th>75%</th>\n",
       "      <td>0.038</td>\n",
       "      <td>0.051</td>\n",
       "      <td>0.031</td>\n",
       "      <td>0.036</td>\n",
       "      <td>0.028</td>\n",
       "      <td>0.030</td>\n",
       "      <td>0.029</td>\n",
       "      <td>0.034</td>\n",
       "      <td>0.032</td>\n",
       "      <td>0.028</td>\n",
       "    </tr>\n",
       "    <tr>\n",
       "      <th>max</th>\n",
       "      <td>0.111</td>\n",
       "      <td>0.051</td>\n",
       "      <td>0.171</td>\n",
       "      <td>0.132</td>\n",
       "      <td>0.154</td>\n",
       "      <td>0.199</td>\n",
       "      <td>0.181</td>\n",
       "      <td>0.185</td>\n",
       "      <td>0.134</td>\n",
       "      <td>0.136</td>\n",
       "    </tr>\n",
       "  </tbody>\n",
       "</table>\n",
       "</div>"
      ],
      "text/plain": [
       "           age      sex      bmi       bp       s1       s2       s3       s4  \\\n",
       "count  442.000  442.000  442.000  442.000  442.000  442.000  442.000  442.000   \n",
       "mean    -0.000    0.000   -0.000   -0.000   -0.000    0.000   -0.000   -0.000   \n",
       "std      0.048    0.048    0.048    0.048    0.048    0.048    0.048    0.048   \n",
       "min     -0.107   -0.045   -0.090   -0.112   -0.127   -0.116   -0.102   -0.076   \n",
       "25%     -0.037   -0.045   -0.034   -0.037   -0.034   -0.030   -0.035   -0.039   \n",
       "50%      0.005   -0.045   -0.007   -0.006   -0.004   -0.004   -0.007   -0.003   \n",
       "75%      0.038    0.051    0.031    0.036    0.028    0.030    0.029    0.034   \n",
       "max      0.111    0.051    0.171    0.132    0.154    0.199    0.181    0.185   \n",
       "\n",
       "            s5       s6  \n",
       "count  442.000  442.000  \n",
       "mean     0.000    0.000  \n",
       "std      0.048    0.048  \n",
       "min     -0.126   -0.138  \n",
       "25%     -0.033   -0.033  \n",
       "50%     -0.002   -0.001  \n",
       "75%      0.032    0.028  \n",
       "max      0.134    0.136  "
      ]
     },
     "execution_count": 18,
     "metadata": {},
     "output_type": "execute_result"
    }
   ],
   "source": [
    "round(X.describe(), 3)"
   ]
  },
  {
   "cell_type": "code",
   "execution_count": 19,
   "id": "9e6e3ca3",
   "metadata": {
    "ExecuteTime": {
     "end_time": "2021-09-20T20:03:51.955438Z",
     "start_time": "2021-09-20T20:03:51.947473Z"
    },
    "id": "9e6e3ca3",
    "outputId": "8925d113-07be-4f4a-bd71-b4ebe3ef926c"
   },
   "outputs": [
    {
     "data": {
      "text/plain": [
       "0      151.0\n",
       "1       75.0\n",
       "2      141.0\n",
       "3      206.0\n",
       "4      135.0\n",
       "       ...  \n",
       "437    178.0\n",
       "438    104.0\n",
       "439    132.0\n",
       "440    220.0\n",
       "441     57.0\n",
       "Name: target, Length: 442, dtype: float64"
      ]
     },
     "execution_count": 19,
     "metadata": {},
     "output_type": "execute_result"
    }
   ],
   "source": [
    "y"
   ]
  },
  {
   "cell_type": "code",
   "execution_count": 20,
   "id": "093f5695",
   "metadata": {
    "ExecuteTime": {
     "end_time": "2021-09-20T20:03:51.962949Z",
     "start_time": "2021-09-20T20:03:51.957145Z"
    },
    "id": "093f5695"
   },
   "outputs": [],
   "source": [
    "# Разобьем данные на обучающую и тестовую выборки\n",
    "\n",
    "from sklearn.model_selection import train_test_split\n",
    "\n",
    "X_train, X_test, y_train, y_test = train_test_split(X, y, test_size=0.3)"
   ]
  },
  {
   "cell_type": "code",
   "execution_count": 38,
   "id": "ef944OHib88V",
   "metadata": {
    "id": "ef944OHib88V",
    "outputId": "9c6de041-97af-4bf7-c14f-b878ece1d891"
   },
   "outputs": [
    {
     "name": "stdout",
     "output_type": "stream",
     "text": [
      "%pylab is deprecated, use %matplotlib inline and import the required libraries.\n",
      "Populating the interactive namespace from numpy and matplotlib\n"
     ]
    },
    {
     "data": {
      "image/png": "[encoded data removed]",
      "text/plain": [
       "<Figure size 640x480 with 1 Axes>"
      ]
     },
     "metadata": {},
     "output_type": "display_data"
    }
   ],
   "source": [
    "from matplotlib import pylab as plt\n",
    "%pylab inline\n",
    "\n",
    "plt.hist(y, bins = 30)\n",
    "plt.title('Распределение таргета')\n",
    "plt.grid()"
   ]
  },
  {
   "cell_type": "markdown",
   "id": "912f1b35",
   "metadata": {
    "id": "912f1b35"
   },
   "source": [
    "Как было рассказано на лекции, линейную регрессию можно обучать с помощью разного функционала (не только MSE, который мы разбирали на прошлом семинаре) и оценивать с помощью разных метрик - закодим это "
   ]
  },
  {
   "cell_type": "code",
   "execution_count": 22,
   "id": "UuoWoq1rb88W",
   "metadata": {
    "id": "UuoWoq1rb88W",
    "outputId": "aaa9d7a7-f070-48c9-f2ee-9a2971ef3872"
   },
   "outputs": [
    {
     "data": {
      "image/png": "[encoded data removed]",
      "text/plain": [
       "<Figure size 640x480 with 1 Axes>"
      ]
     },
     "metadata": {},
     "output_type": "display_data"
    }
   ],
   "source": [
    "plt.hist(y_train, bins = 30)\n",
    "plt.title('Распределение таргета train')\n",
    "plt.grid()"
   ]
  },
  {
   "cell_type": "code",
   "execution_count": 23,
   "id": "XmATyDfab88W",
   "metadata": {
    "id": "XmATyDfab88W",
    "outputId": "c9cd13ed-8f60-4992-c428-a2bd0ee7ff2e"
   },
   "outputs": [
    {
     "data": {
      "image/png": "[encoded data removed]",
      "text/plain": [
       "<Figure size 640x480 with 1 Axes>"
      ]
     },
     "metadata": {},
     "output_type": "display_data"
    }
   ],
   "source": [
    "plt.hist(y_test, bins = 30)\n",
    "plt.title('Распределение таргета test')\n",
    "plt.grid()"
   ]
  },
  {
   "cell_type": "code",
   "execution_count": 24,
   "id": "10e0432b",
   "metadata": {},
   "outputs": [
    {
     "data": {
      "text/plain": [
       "(0.3009049773755656, 0.6990950226244343)"
      ]
     },
     "execution_count": 24,
     "metadata": {},
     "output_type": "execute_result"
    }
   ],
   "source": [
    "len(y_test)/len(y), len(y_train)/len(y)"
   ]
  },
  {
   "cell_type": "code",
   "execution_count": 25,
   "id": "5bc14aeb",
   "metadata": {},
   "outputs": [],
   "source": [
    "X_test_mini = X_test.iloc[:2]"
   ]
  },
  {
   "cell_type": "code",
   "execution_count": 26,
   "id": "36c143cd",
   "metadata": {},
   "outputs": [
    {
     "data": {
      "text/html": [
       "<div>\n",
       "<style scoped>\n",
       "    .dataframe tbody tr th:only-of-type {\n",
       "        vertical-align: middle;\n",
       "    }\n",
       "\n",
       "    .dataframe tbody tr th {\n",
       "        vertical-align: top;\n",
       "    }\n",
       "\n",
       "    .dataframe thead th {\n",
       "        text-align: right;\n",
       "    }\n",
       "</style>\n",
       "<table border=\"1\" class=\"dataframe\">\n",
       "  <thead>\n",
       "    <tr style=\"text-align: right;\">\n",
       "      <th></th>\n",
       "      <th>age</th>\n",
       "      <th>sex</th>\n",
       "      <th>bmi</th>\n",
       "      <th>bp</th>\n",
       "      <th>s1</th>\n",
       "      <th>s2</th>\n",
       "      <th>s3</th>\n",
       "      <th>s4</th>\n",
       "      <th>s5</th>\n",
       "      <th>s6</th>\n",
       "    </tr>\n",
       "  </thead>\n",
       "  <tbody>\n",
       "    <tr>\n",
       "      <th>287</th>\n",
       "      <td>0.045341</td>\n",
       "      <td>-0.044642</td>\n",
       "      <td>-0.006206</td>\n",
       "      <td>-0.015999</td>\n",
       "      <td>0.125019</td>\n",
       "      <td>0.125198</td>\n",
       "      <td>0.019187</td>\n",
       "      <td>0.034309</td>\n",
       "      <td>0.032432</td>\n",
       "      <td>-0.005220</td>\n",
       "    </tr>\n",
       "    <tr>\n",
       "      <th>211</th>\n",
       "      <td>0.092564</td>\n",
       "      <td>-0.044642</td>\n",
       "      <td>0.036907</td>\n",
       "      <td>0.021872</td>\n",
       "      <td>-0.024960</td>\n",
       "      <td>-0.016658</td>\n",
       "      <td>0.000779</td>\n",
       "      <td>-0.039493</td>\n",
       "      <td>-0.022517</td>\n",
       "      <td>-0.021788</td>\n",
       "    </tr>\n",
       "  </tbody>\n",
       "</table>\n",
       "</div>"
      ],
      "text/plain": [
       "          age       sex       bmi        bp        s1        s2        s3  \\\n",
       "287  0.045341 -0.044642 -0.006206 -0.015999  0.125019  0.125198  0.019187   \n",
       "211  0.092564 -0.044642  0.036907  0.021872 -0.024960 -0.016658  0.000779   \n",
       "\n",
       "           s4        s5        s6  \n",
       "287  0.034309  0.032432 -0.005220  \n",
       "211 -0.039493 -0.022517 -0.021788  "
      ]
     },
     "execution_count": 26,
     "metadata": {},
     "output_type": "execute_result"
    }
   ],
   "source": [
    "X_test_mini"
   ]
  },
  {
   "cell_type": "code",
   "execution_count": 30,
   "id": "b266dd96",
   "metadata": {
    "ExecuteTime": {
     "end_time": "2021-09-20T20:03:52.207120Z",
     "start_time": "2021-09-20T20:03:51.964240Z"
    },
    "id": "b266dd96",
    "outputId": "70d52319-5241-4d90-faea-45b008a6be8a"
   },
   "outputs": [
    {
     "name": "stdout",
     "output_type": "stream",
     "text": [
      "MSE loss: \n",
      "mae=41.89298909796864\n",
      "mse=2808.623769045036\n",
      "R2=0.47972144365777447\n",
      "\n",
      "MAE loss: \n",
      "mae=62.03621310642976\n",
      "mse=5496.004963662136\n",
      "R2=-0.018097745828053124\n",
      "\n",
      "MSE loss TRAIN: \n",
      "mae=45.14624394363024\n",
      "mse=2999.9715754295335\n",
      "R2=0.5120634259513716\n",
      "\n"
     ]
    }
   ],
   "source": [
    "from sklearn.metrics import mean_squared_error, mean_absolute_error, r2_score\n",
    "\n",
    "lr_mse = SGDRegressor(max_iter=50000) # MSE\n",
    "lr_mae = SGDRegressor(loss='epsilon_insensitive', epsilon=0, max_iter=50000) # MAE\n",
    "\n",
    "lr_mse.fit(X_train, y_train)\n",
    "lr_mae.fit(X_train, y_train)\n",
    "\n",
    "y_pred_mse = lr_mse.predict(X_test)\n",
    "y_pred_mae = lr_mae.predict(X_test)\n",
    "\n",
    "print(f'''MSE loss: \n",
    "mae={mean_absolute_error(y_test, y_pred_mse)}\n",
    "mse={mean_squared_error(y_test, y_pred_mse)}\n",
    "R2={r2_score(y_test, y_pred_mse)}\n",
    "''')\n",
    "\n",
    "print(f'''MAE loss: \n",
    "mae={mean_absolute_error(y_test, y_pred_mae)}\n",
    "mse={mean_squared_error(y_test, y_pred_mae)}\n",
    "R2={r2_score(y_test, y_pred_mae)}\n",
    "''')\n",
    "\n",
    "print(f'''MSE loss TRAIN: \n",
    "mae={mean_absolute_error(y_train, lr_mse.predict(X_train))}\n",
    "mse={mean_squared_error(y_train, lr_mse.predict(X_train))}\n",
    "R2={r2_score(y_train, lr_mse.predict(X_train))}\n",
    "''')\n",
    "\n"
   ]
  },
  {
   "cell_type": "code",
   "execution_count": 63,
   "id": "0b68b91a",
   "metadata": {},
   "outputs": [
    {
     "data": {
      "image/png": "[encoded data removed]",
      "text/plain": [
       "<Figure size 640x480 with 1 Axes>"
      ]
     },
     "metadata": {},
     "output_type": "display_data"
    }
   ],
   "source": [
    "plt.hist((y_test-y_pred_mse)**2, bins=30)\n",
    "plt.show()"
   ]
  },
  {
   "cell_type": "code",
   "execution_count": 44,
   "id": "5b6422e4",
   "metadata": {},
   "outputs": [
    {
     "data": {
      "image/png": "[encoded data removed]",
      "text/plain": [
       "<Figure size 640x480 with 1 Axes>"
      ]
     },
     "metadata": {},
     "output_type": "display_data"
    }
   ],
   "source": [
    "plt.hist(np.abs((y_test-y_pred_mse)), bins=30)\n",
    "plt.show()"
   ]
  },
  {
   "cell_type": "code",
   "execution_count": 47,
   "id": "1c95ddb0",
   "metadata": {},
   "outputs": [
    {
     "data": {
      "image/png": "[encoded data removed]",
      "text/plain": [
       "<Figure size 640x480 with 1 Axes>"
      ]
     },
     "metadata": {},
     "output_type": "display_data"
    }
   ],
   "source": [
    "plt.hist(np.abs((y_test-y_pred_mse)/y_test * 100), bins=30)\n",
    "plt.show()"
   ]
  },
  {
   "cell_type": "code",
   "execution_count": 52,
   "id": "3e0accfc",
   "metadata": {},
   "outputs": [
    {
     "data": {
      "text/plain": [
       "age   -0.041840\n",
       "sex   -0.044642\n",
       "bmi    0.041218\n",
       "bp    -0.026328\n",
       "s1    -0.031840\n",
       "s2    -0.030437\n",
       "s3    -0.036038\n",
       "s4     0.002943\n",
       "s5     0.033654\n",
       "s6    -0.017646\n",
       "Name: 56, dtype: float64"
      ]
     },
     "execution_count": 52,
     "metadata": {},
     "output_type": "execute_result"
    }
   ],
   "source": [
    "X_test.iloc[(np.abs((y_test-y_pred_mse)/y_test)).argmax()]"
   ]
  },
  {
   "cell_type": "markdown",
   "id": "19825a90",
   "metadata": {
    "id": "19825a90"
   },
   "source": [
    "Как мы говорили раньше, метрика должна отражать реальную цель из мира, поэтому нередко возникает потребность в написании своих собственных метрик, которые лучше описывают вашу конретную реальность. В задачах, связанных с медициной (как у нас сейчас), довольно высокая цена ошибки (у человека есть диабет, а мы его не нашли). Поэтому для того, чтобы ответить на вопрос, можно ли модель использовать в жизни, имеет смысл использовать метрику максимальной ошибки модели\n",
    "\n",
    "$max error = max(|\\hat y_{i} - y_{i}|)$"
   ]
  },
  {
   "cell_type": "code",
   "execution_count": 31,
   "id": "08903158",
   "metadata": {},
   "outputs": [],
   "source": [
    "a = [120, 130, 156, 183, 194, 201]"
   ]
  },
  {
   "cell_type": "code",
   "execution_count": 33,
   "id": "4897f415",
   "metadata": {},
   "outputs": [
    {
     "data": {
      "text/plain": [
       "164.0"
      ]
     },
     "execution_count": 33,
     "metadata": {},
     "output_type": "execute_result"
    }
   ],
   "source": [
    "np.sum(a)/6"
   ]
  },
  {
   "cell_type": "code",
   "execution_count": 31,
   "id": "0af21500",
   "metadata": {
    "ExecuteTime": {
     "end_time": "2021-09-20T20:03:52.213290Z",
     "start_time": "2021-09-20T20:03:52.208515Z"
    },
    "id": "0af21500",
    "outputId": "3796e0bf-e203-46ab-d4de-18aa0527a2d1"
   },
   "outputs": [
    {
     "name": "stdout",
     "output_type": "stream",
     "text": [
      "MSE Loss: 137.9988201942495\n",
      "MAE Loss: 175.53054245547997\n"
     ]
    }
   ],
   "source": [
    "def max_error(y_true, y_pred):\n",
    "    max_erorr = np.abs(y_true - y_pred).max()\n",
    "    return max_erorr\n",
    "\n",
    "def quantile_error(y_true, y_pred, q=0.95):\n",
    "    q_error = np.quantile(np.abs(y_true -  y_pred), q)\n",
    "    return q_error\n",
    "\n",
    "# Оценим максимальную ошибку в обоих случаях\n",
    "\n",
    "print(f'MSE Loss: {max_error(y_test, y_pred_mse)}')\n",
    "print(f'MAE Loss: {max_error(y_test, y_pred_mae)}')"
   ]
  },
  {
   "cell_type": "markdown",
   "id": "afbc9291",
   "metadata": {
    "id": "afbc9291"
   },
   "source": [
    "BTW, в sklearn есть большое количество уже реализованных метрик - можете посмотреть их список и варианты применения здесь\n",
    "\n",
    "https://scikit-learn.org/stable/modules/model_evaluation.html#regression-metrics"
   ]
  },
  {
   "cell_type": "markdown",
   "id": "eecb1ad2",
   "metadata": {
    "id": "eecb1ad2"
   },
   "source": [
    "#  Кросс-валидация"
   ]
  },
  {
   "cell_type": "markdown",
   "id": "9107f201",
   "metadata": {
    "id": "9107f201"
   },
   "source": [
    "Когда выбран функционал и метрика, можно задаться вопросом: а насколько я могу доверять полученным результатам (значениям метрики), не являются ли они случайности или совпадением ? Кросс-валидация - это инструмент для ответа на этот вопрос."
   ]
  },
  {
   "cell_type": "code",
   "execution_count": 53,
   "id": "316b94f3",
   "metadata": {
    "ExecuteTime": {
     "end_time": "2021-09-20T20:03:52.216719Z",
     "start_time": "2021-09-20T20:03:52.214661Z"
    },
    "id": "316b94f3"
   },
   "outputs": [],
   "source": [
    "from sklearn.model_selection import cross_validate, cross_val_score"
   ]
  },
  {
   "cell_type": "markdown",
   "id": "244c3991",
   "metadata": {
    "id": "244c3991"
   },
   "source": [
    "здесь можно посмотреть какие параметры требуются для этой функции\n",
    "https://scikit-learn.org/stable/modules/generated/sklearn.model_selection.cross_validate.html"
   ]
  },
  {
   "cell_type": "code",
   "execution_count": 54,
   "id": "05b21625",
   "metadata": {
    "ExecuteTime": {
     "end_time": "2021-09-20T20:03:53.112215Z",
     "start_time": "2021-09-20T20:03:52.218043Z"
    },
    "id": "05b21625",
    "outputId": "4db21f92-4153-4dcc-aa6f-ea5b6480e7a9"
   },
   "outputs": [
    {
     "name": "stdout",
     "output_type": "stream",
     "text": [
      "[CV] END ..................................., score=-2997.254 total time=   0.1s\n",
      "[CV] END ..................................., score=-3035.856 total time=   0.1s\n",
      "[CV] END ..................................., score=-3162.551 total time=   0.1s\n",
      "[CV] END ..................................., score=-2902.281 total time=   0.1s\n",
      "[CV] END ..................................., score=-3027.932 total time=   0.1s\n",
      "test mse errors are [-2997.25389809 -3035.85563487 -3162.55058858 -2902.2809329\n",
      " -3027.93173657]\n",
      "mean test mse = -3025.1745582020108\n"
     ]
    }
   ],
   "source": [
    "# проверим на кросс-валидации значения ошибок MSE, MAE, R2 \n",
    "# для линейной регрессии, обученной с помощью функционала MSE\n",
    "\n",
    "num_splits=5\n",
    "\n",
    "cv_res = cross_validate(lr_mse,\n",
    "                     X,\n",
    "                     y,\n",
    "                     scoring='neg_mean_squared_error', # метрика, которую нужно оценить\n",
    "                     cv=num_splits, # количество разбиений или класс-сплиттер\n",
    "                     verbose = 4\n",
    "                    )\n",
    "\n",
    "print(f\"test mse errors are {cv_res['test_score']}\")\n",
    "print(f\"mean test mse = {cv_res['test_score'].mean()}\")"
   ]
  },
  {
   "cell_type": "code",
   "execution_count": 55,
   "id": "e584c1e1",
   "metadata": {},
   "outputs": [
    {
     "data": {
      "text/plain": [
       "{'fit_time': array([0.05458522, 0.05813813, 0.05823088, 0.05948114, 0.05796027]),\n",
       " 'score_time': array([0.00069284, 0.00067902, 0.0007062 , 0.00061297, 0.00064588]),\n",
       " 'test_score': array([-2997.25389809, -3035.85563487, -3162.55058858, -2902.2809329 ,\n",
       "        -3027.93173657])}"
      ]
     },
     "execution_count": 55,
     "metadata": {},
     "output_type": "execute_result"
    }
   ],
   "source": [
    "cv_res"
   ]
  },
  {
   "cell_type": "code",
   "execution_count": 57,
   "id": "ab5906ac",
   "metadata": {
    "ExecuteTime": {
     "end_time": "2021-09-20T20:03:54.005611Z",
     "start_time": "2021-09-20T20:03:53.114755Z"
    },
    "id": "ab5906ac",
    "outputId": "3db202e5-66e6-42bb-ca43-2dc66dc0cea0"
   },
   "outputs": [
    {
     "name": "stdout",
     "output_type": "stream",
     "text": [
      "test mse errors are [-2963.63959739 -3033.84389432 -3158.57098353 -2896.72459799\n",
      " -3043.02068914] \n",
      "and  mean mse = -3019.159952471328\n",
      "\n",
      "test mae errors are [-44.85391849 -44.94723273 -47.98457404 -42.72528185 -44.07966392] \n",
      "and  mean mae = -44.91813420510037\n",
      "\n",
      "test R2 are [0.39185737 0.5218101  0.49532183 0.44785044 0.52972385] \n",
      "and  mean R2 = 0.4773127193107712\n",
      "\n"
     ]
    }
   ],
   "source": [
    "# Проведем кросс-валидацию сразу для нескольких метрик\n",
    "\n",
    "cv_res2 = cross_validate(lr_mse,\n",
    "                     X,\n",
    "                     y,\n",
    "                     scoring=['neg_mean_squared_error', 'neg_mean_absolute_error', 'r2'],\n",
    "                     cv=num_splits\n",
    "                    )\n",
    "print(f\"\"\"test mse errors are {cv_res2['test_neg_mean_squared_error']} \n",
    "and  mean mse = {cv_res2['test_neg_mean_squared_error'].mean()}\n",
    "\"\"\")\n",
    "\n",
    "print(f\"\"\"test mae errors are {cv_res2['test_neg_mean_absolute_error']} \n",
    "and  mean mae = {cv_res2['test_neg_mean_absolute_error'].mean()}\n",
    "\"\"\")\n",
    "\n",
    "\n",
    "print(f\"\"\"test R2 are {cv_res2['test_r2']} \n",
    "and  mean R2 = {cv_res2['test_r2'].mean()}\n",
    "\"\"\")\n"
   ]
  },
  {
   "cell_type": "code",
   "execution_count": 58,
   "id": "2a273212",
   "metadata": {},
   "outputs": [
    {
     "data": {
      "text/html": [
       "<div>\n",
       "<style scoped>\n",
       "    .dataframe tbody tr th:only-of-type {\n",
       "        vertical-align: middle;\n",
       "    }\n",
       "\n",
       "    .dataframe tbody tr th {\n",
       "        vertical-align: top;\n",
       "    }\n",
       "\n",
       "    .dataframe thead th {\n",
       "        text-align: right;\n",
       "    }\n",
       "</style>\n",
       "<table border=\"1\" class=\"dataframe\">\n",
       "  <thead>\n",
       "    <tr style=\"text-align: right;\">\n",
       "      <th></th>\n",
       "      <th>fit_time</th>\n",
       "      <th>score_time</th>\n",
       "      <th>test_neg_mean_squared_error</th>\n",
       "      <th>test_neg_mean_absolute_error</th>\n",
       "      <th>test_r2</th>\n",
       "    </tr>\n",
       "  </thead>\n",
       "  <tbody>\n",
       "    <tr>\n",
       "      <th>0</th>\n",
       "      <td>0.067420</td>\n",
       "      <td>0.001011</td>\n",
       "      <td>-2963.639597</td>\n",
       "      <td>-44.853918</td>\n",
       "      <td>0.391857</td>\n",
       "    </tr>\n",
       "    <tr>\n",
       "      <th>1</th>\n",
       "      <td>0.059679</td>\n",
       "      <td>0.000825</td>\n",
       "      <td>-3033.843894</td>\n",
       "      <td>-44.947233</td>\n",
       "      <td>0.521810</td>\n",
       "    </tr>\n",
       "    <tr>\n",
       "      <th>2</th>\n",
       "      <td>0.062925</td>\n",
       "      <td>0.000949</td>\n",
       "      <td>-3158.570984</td>\n",
       "      <td>-47.984574</td>\n",
       "      <td>0.495322</td>\n",
       "    </tr>\n",
       "    <tr>\n",
       "      <th>3</th>\n",
       "      <td>0.056406</td>\n",
       "      <td>0.000797</td>\n",
       "      <td>-2896.724598</td>\n",
       "      <td>-42.725282</td>\n",
       "      <td>0.447850</td>\n",
       "    </tr>\n",
       "    <tr>\n",
       "      <th>4</th>\n",
       "      <td>0.050901</td>\n",
       "      <td>0.000925</td>\n",
       "      <td>-3043.020689</td>\n",
       "      <td>-44.079664</td>\n",
       "      <td>0.529724</td>\n",
       "    </tr>\n",
       "  </tbody>\n",
       "</table>\n",
       "</div>"
      ],
      "text/plain": [
       "   fit_time  score_time  test_neg_mean_squared_error  \\\n",
       "0  0.067420    0.001011                 -2963.639597   \n",
       "1  0.059679    0.000825                 -3033.843894   \n",
       "2  0.062925    0.000949                 -3158.570984   \n",
       "3  0.056406    0.000797                 -2896.724598   \n",
       "4  0.050901    0.000925                 -3043.020689   \n",
       "\n",
       "   test_neg_mean_absolute_error   test_r2  \n",
       "0                    -44.853918  0.391857  \n",
       "1                    -44.947233  0.521810  \n",
       "2                    -47.984574  0.495322  \n",
       "3                    -42.725282  0.447850  \n",
       "4                    -44.079664  0.529724  "
      ]
     },
     "execution_count": 58,
     "metadata": {},
     "output_type": "execute_result"
    }
   ],
   "source": [
    "pd.DataFrame(cv_res2)"
   ]
  },
  {
   "cell_type": "code",
   "execution_count": 59,
   "id": "c79294c0",
   "metadata": {},
   "outputs": [],
   "source": [
    "def max_error(y_true, y_pred):\n",
    "    max_erorr = np.abs(y_true - y_pred).max()\n",
    "    return max_erorr"
   ]
  },
  {
   "cell_type": "code",
   "execution_count": 60,
   "id": "8cb5c351",
   "metadata": {
    "ExecuteTime": {
     "end_time": "2021-09-20T20:03:54.925817Z",
     "start_time": "2021-09-20T20:03:54.007607Z"
    },
    "id": "8cb5c351",
    "outputId": "a95df431-f9f8-4356-8242-d0c11ade7a08"
   },
   "outputs": [
    {
     "data": {
      "text/plain": [
       "array([-137.24493203, -161.02710244, -120.62547048, -131.37082076,\n",
       "       -135.70877775])"
      ]
     },
     "execution_count": 60,
     "metadata": {},
     "output_type": "execute_result"
    }
   ],
   "source": [
    "# для тех, кто хочет хочет дополнительно подумать\n",
    "\n",
    "# кросс-валидацию можно проводить на основе своей кастомной метрики, но для этого\n",
    "# из нее нужно сделать объект scorer\n",
    "\n",
    "from sklearn.metrics import make_scorer\n",
    "\n",
    "max_error_scorer = make_scorer(max_error, greater_is_better=False)\n",
    "\n",
    "cv_res3 = cross_validate(lr_mse,\n",
    "                     X,\n",
    "                     y,\n",
    "                     scoring=max_error_scorer,\n",
    "                     cv=num_splits\n",
    "                    )\n",
    "cv_res3['test_score']"
   ]
  },
  {
   "cell_type": "markdown",
   "id": "a85e17c6",
   "metadata": {
    "id": "a85e17c6"
   },
   "source": [
    "# Немного feature engineering"
   ]
  },
  {
   "cell_type": "markdown",
   "id": "192c235d",
   "metadata": {
    "id": "192c235d"
   },
   "source": [
    "Один из самых главных источников улучшения качества прогноза модели - это информативный набор признаков. Поэтому в попытке улучшить качество нашей модели обогатим наше признаковое пространство попарныи произведениями признаков"
   ]
  },
  {
   "cell_type": "code",
   "execution_count": 49,
   "id": "3f268b47",
   "metadata": {
    "ExecuteTime": {
     "end_time": "2021-09-20T20:03:54.996285Z",
     "start_time": "2021-09-20T20:03:54.927938Z"
    },
    "id": "3f268b47",
    "outputId": "730e1db5-c7ee-4009-ab2d-3926a3c639a4"
   },
   "outputs": [
    {
     "name": "stdout",
     "output_type": "stream",
     "text": [
      "Index(['age', 'sex', 'bmi', 'bp', 's1', 's2', 's3', 's4', 's5', 's6'], dtype='object')\n"
     ]
    },
    {
     "data": {
      "text/html": [
       "<div>\n",
       "<style scoped>\n",
       "    .dataframe tbody tr th:only-of-type {\n",
       "        vertical-align: middle;\n",
       "    }\n",
       "\n",
       "    .dataframe tbody tr th {\n",
       "        vertical-align: top;\n",
       "    }\n",
       "\n",
       "    .dataframe thead th {\n",
       "        text-align: right;\n",
       "    }\n",
       "</style>\n",
       "<table border=\"1\" class=\"dataframe\">\n",
       "  <thead>\n",
       "    <tr style=\"text-align: right;\">\n",
       "      <th></th>\n",
       "      <th>age</th>\n",
       "      <th>sex</th>\n",
       "      <th>bmi</th>\n",
       "      <th>bp</th>\n",
       "      <th>s1</th>\n",
       "      <th>s2</th>\n",
       "      <th>s3</th>\n",
       "      <th>s4</th>\n",
       "      <th>s5</th>\n",
       "      <th>s6</th>\n",
       "      <th>...</th>\n",
       "      <th>s6_x_age</th>\n",
       "      <th>s6_x_sex</th>\n",
       "      <th>s6_x_bmi</th>\n",
       "      <th>s6_x_bp</th>\n",
       "      <th>s6_x_s1</th>\n",
       "      <th>s6_x_s2</th>\n",
       "      <th>s6_x_s3</th>\n",
       "      <th>s6_x_s4</th>\n",
       "      <th>s6_x_s5</th>\n",
       "      <th>s6_x_s6</th>\n",
       "    </tr>\n",
       "  </thead>\n",
       "  <tbody>\n",
       "    <tr>\n",
       "      <th>0</th>\n",
       "      <td>0.038076</td>\n",
       "      <td>0.050680</td>\n",
       "      <td>0.061696</td>\n",
       "      <td>0.021872</td>\n",
       "      <td>-0.044223</td>\n",
       "      <td>-0.034821</td>\n",
       "      <td>-0.043401</td>\n",
       "      <td>-0.002592</td>\n",
       "      <td>0.019907</td>\n",
       "      <td>-0.017646</td>\n",
       "      <td>...</td>\n",
       "      <td>-0.000672</td>\n",
       "      <td>-0.000894</td>\n",
       "      <td>-0.001089</td>\n",
       "      <td>-0.000386</td>\n",
       "      <td>0.000780</td>\n",
       "      <td>0.000614</td>\n",
       "      <td>0.000766</td>\n",
       "      <td>0.000046</td>\n",
       "      <td>-0.000351</td>\n",
       "      <td>0.000311</td>\n",
       "    </tr>\n",
       "    <tr>\n",
       "      <th>1</th>\n",
       "      <td>-0.001882</td>\n",
       "      <td>-0.044642</td>\n",
       "      <td>-0.051474</td>\n",
       "      <td>-0.026328</td>\n",
       "      <td>-0.008449</td>\n",
       "      <td>-0.019163</td>\n",
       "      <td>0.074412</td>\n",
       "      <td>-0.039493</td>\n",
       "      <td>-0.068332</td>\n",
       "      <td>-0.092204</td>\n",
       "      <td>...</td>\n",
       "      <td>0.000174</td>\n",
       "      <td>0.004116</td>\n",
       "      <td>0.004746</td>\n",
       "      <td>0.002428</td>\n",
       "      <td>0.000779</td>\n",
       "      <td>0.001767</td>\n",
       "      <td>-0.006861</td>\n",
       "      <td>0.003641</td>\n",
       "      <td>0.006300</td>\n",
       "      <td>0.008502</td>\n",
       "    </tr>\n",
       "    <tr>\n",
       "      <th>2</th>\n",
       "      <td>0.085299</td>\n",
       "      <td>0.050680</td>\n",
       "      <td>0.044451</td>\n",
       "      <td>-0.005670</td>\n",
       "      <td>-0.045599</td>\n",
       "      <td>-0.034194</td>\n",
       "      <td>-0.032356</td>\n",
       "      <td>-0.002592</td>\n",
       "      <td>0.002861</td>\n",
       "      <td>-0.025930</td>\n",
       "      <td>...</td>\n",
       "      <td>-0.002212</td>\n",
       "      <td>-0.001314</td>\n",
       "      <td>-0.001153</td>\n",
       "      <td>0.000147</td>\n",
       "      <td>0.001182</td>\n",
       "      <td>0.000887</td>\n",
       "      <td>0.000839</td>\n",
       "      <td>0.000067</td>\n",
       "      <td>-0.000074</td>\n",
       "      <td>0.000672</td>\n",
       "    </tr>\n",
       "    <tr>\n",
       "      <th>3</th>\n",
       "      <td>-0.089063</td>\n",
       "      <td>-0.044642</td>\n",
       "      <td>-0.011595</td>\n",
       "      <td>-0.036656</td>\n",
       "      <td>0.012191</td>\n",
       "      <td>0.024991</td>\n",
       "      <td>-0.036038</td>\n",
       "      <td>0.034309</td>\n",
       "      <td>0.022688</td>\n",
       "      <td>-0.009362</td>\n",
       "      <td>...</td>\n",
       "      <td>0.000834</td>\n",
       "      <td>0.000418</td>\n",
       "      <td>0.000109</td>\n",
       "      <td>0.000343</td>\n",
       "      <td>-0.000114</td>\n",
       "      <td>-0.000234</td>\n",
       "      <td>0.000337</td>\n",
       "      <td>-0.000321</td>\n",
       "      <td>-0.000212</td>\n",
       "      <td>0.000088</td>\n",
       "    </tr>\n",
       "    <tr>\n",
       "      <th>4</th>\n",
       "      <td>0.005383</td>\n",
       "      <td>-0.044642</td>\n",
       "      <td>-0.036385</td>\n",
       "      <td>0.021872</td>\n",
       "      <td>0.003935</td>\n",
       "      <td>0.015596</td>\n",
       "      <td>0.008142</td>\n",
       "      <td>-0.002592</td>\n",
       "      <td>-0.031988</td>\n",
       "      <td>-0.046641</td>\n",
       "      <td>...</td>\n",
       "      <td>-0.000251</td>\n",
       "      <td>0.002082</td>\n",
       "      <td>0.001697</td>\n",
       "      <td>-0.001020</td>\n",
       "      <td>-0.000184</td>\n",
       "      <td>-0.000727</td>\n",
       "      <td>-0.000380</td>\n",
       "      <td>0.000121</td>\n",
       "      <td>0.001492</td>\n",
       "      <td>0.002175</td>\n",
       "    </tr>\n",
       "    <tr>\n",
       "      <th>...</th>\n",
       "      <td>...</td>\n",
       "      <td>...</td>\n",
       "      <td>...</td>\n",
       "      <td>...</td>\n",
       "      <td>...</td>\n",
       "      <td>...</td>\n",
       "      <td>...</td>\n",
       "      <td>...</td>\n",
       "      <td>...</td>\n",
       "      <td>...</td>\n",
       "      <td>...</td>\n",
       "      <td>...</td>\n",
       "      <td>...</td>\n",
       "      <td>...</td>\n",
       "      <td>...</td>\n",
       "      <td>...</td>\n",
       "      <td>...</td>\n",
       "      <td>...</td>\n",
       "      <td>...</td>\n",
       "      <td>...</td>\n",
       "      <td>...</td>\n",
       "    </tr>\n",
       "    <tr>\n",
       "      <th>437</th>\n",
       "      <td>0.041708</td>\n",
       "      <td>0.050680</td>\n",
       "      <td>0.019662</td>\n",
       "      <td>0.059744</td>\n",
       "      <td>-0.005697</td>\n",
       "      <td>-0.002566</td>\n",
       "      <td>-0.028674</td>\n",
       "      <td>-0.002592</td>\n",
       "      <td>0.031193</td>\n",
       "      <td>0.007207</td>\n",
       "      <td>...</td>\n",
       "      <td>0.000301</td>\n",
       "      <td>0.000365</td>\n",
       "      <td>0.000142</td>\n",
       "      <td>0.000431</td>\n",
       "      <td>-0.000041</td>\n",
       "      <td>-0.000018</td>\n",
       "      <td>-0.000207</td>\n",
       "      <td>-0.000019</td>\n",
       "      <td>0.000225</td>\n",
       "      <td>0.000052</td>\n",
       "    </tr>\n",
       "    <tr>\n",
       "      <th>438</th>\n",
       "      <td>-0.005515</td>\n",
       "      <td>0.050680</td>\n",
       "      <td>-0.015906</td>\n",
       "      <td>-0.067642</td>\n",
       "      <td>0.049341</td>\n",
       "      <td>0.079165</td>\n",
       "      <td>-0.028674</td>\n",
       "      <td>0.034309</td>\n",
       "      <td>-0.018114</td>\n",
       "      <td>0.044485</td>\n",
       "      <td>...</td>\n",
       "      <td>-0.000245</td>\n",
       "      <td>0.002255</td>\n",
       "      <td>-0.000708</td>\n",
       "      <td>-0.003009</td>\n",
       "      <td>0.002195</td>\n",
       "      <td>0.003522</td>\n",
       "      <td>-0.001276</td>\n",
       "      <td>0.001526</td>\n",
       "      <td>-0.000806</td>\n",
       "      <td>0.001979</td>\n",
       "    </tr>\n",
       "    <tr>\n",
       "      <th>439</th>\n",
       "      <td>0.041708</td>\n",
       "      <td>0.050680</td>\n",
       "      <td>-0.015906</td>\n",
       "      <td>0.017293</td>\n",
       "      <td>-0.037344</td>\n",
       "      <td>-0.013840</td>\n",
       "      <td>-0.024993</td>\n",
       "      <td>-0.011080</td>\n",
       "      <td>-0.046883</td>\n",
       "      <td>0.015491</td>\n",
       "      <td>...</td>\n",
       "      <td>0.000646</td>\n",
       "      <td>0.000785</td>\n",
       "      <td>-0.000246</td>\n",
       "      <td>0.000268</td>\n",
       "      <td>-0.000578</td>\n",
       "      <td>-0.000214</td>\n",
       "      <td>-0.000387</td>\n",
       "      <td>-0.000172</td>\n",
       "      <td>-0.000726</td>\n",
       "      <td>0.000240</td>\n",
       "    </tr>\n",
       "    <tr>\n",
       "      <th>440</th>\n",
       "      <td>-0.045472</td>\n",
       "      <td>-0.044642</td>\n",
       "      <td>0.039062</td>\n",
       "      <td>0.001215</td>\n",
       "      <td>0.016318</td>\n",
       "      <td>0.015283</td>\n",
       "      <td>-0.028674</td>\n",
       "      <td>0.026560</td>\n",
       "      <td>0.044529</td>\n",
       "      <td>-0.025930</td>\n",
       "      <td>...</td>\n",
       "      <td>0.001179</td>\n",
       "      <td>0.001158</td>\n",
       "      <td>-0.001013</td>\n",
       "      <td>-0.000032</td>\n",
       "      <td>-0.000423</td>\n",
       "      <td>-0.000396</td>\n",
       "      <td>0.000744</td>\n",
       "      <td>-0.000689</td>\n",
       "      <td>-0.001155</td>\n",
       "      <td>0.000672</td>\n",
       "    </tr>\n",
       "    <tr>\n",
       "      <th>441</th>\n",
       "      <td>-0.045472</td>\n",
       "      <td>-0.044642</td>\n",
       "      <td>-0.073030</td>\n",
       "      <td>-0.081413</td>\n",
       "      <td>0.083740</td>\n",
       "      <td>0.027809</td>\n",
       "      <td>0.173816</td>\n",
       "      <td>-0.039493</td>\n",
       "      <td>-0.004222</td>\n",
       "      <td>0.003064</td>\n",
       "      <td>...</td>\n",
       "      <td>-0.000139</td>\n",
       "      <td>-0.000137</td>\n",
       "      <td>-0.000224</td>\n",
       "      <td>-0.000249</td>\n",
       "      <td>0.000257</td>\n",
       "      <td>0.000085</td>\n",
       "      <td>0.000533</td>\n",
       "      <td>-0.000121</td>\n",
       "      <td>-0.000013</td>\n",
       "      <td>0.000009</td>\n",
       "    </tr>\n",
       "  </tbody>\n",
       "</table>\n",
       "<p>442 rows × 110 columns</p>\n",
       "</div>"
      ],
      "text/plain": [
       "          age       sex       bmi        bp        s1        s2        s3  \\\n",
       "0    0.038076  0.050680  0.061696  0.021872 -0.044223 -0.034821 -0.043401   \n",
       "1   -0.001882 -0.044642 -0.051474 -0.026328 -0.008449 -0.019163  0.074412   \n",
       "2    0.085299  0.050680  0.044451 -0.005670 -0.045599 -0.034194 -0.032356   \n",
       "3   -0.089063 -0.044642 -0.011595 -0.036656  0.012191  0.024991 -0.036038   \n",
       "4    0.005383 -0.044642 -0.036385  0.021872  0.003935  0.015596  0.008142   \n",
       "..        ...       ...       ...       ...       ...       ...       ...   \n",
       "437  0.041708  0.050680  0.019662  0.059744 -0.005697 -0.002566 -0.028674   \n",
       "438 -0.005515  0.050680 -0.015906 -0.067642  0.049341  0.079165 -0.028674   \n",
       "439  0.041708  0.050680 -0.015906  0.017293 -0.037344 -0.013840 -0.024993   \n",
       "440 -0.045472 -0.044642  0.039062  0.001215  0.016318  0.015283 -0.028674   \n",
       "441 -0.045472 -0.044642 -0.073030 -0.081413  0.083740  0.027809  0.173816   \n",
       "\n",
       "           s4        s5        s6  ...  s6_x_age  s6_x_sex  s6_x_bmi  \\\n",
       "0   -0.002592  0.019907 -0.017646  ... -0.000672 -0.000894 -0.001089   \n",
       "1   -0.039493 -0.068332 -0.092204  ...  0.000174  0.004116  0.004746   \n",
       "2   -0.002592  0.002861 -0.025930  ... -0.002212 -0.001314 -0.001153   \n",
       "3    0.034309  0.022688 -0.009362  ...  0.000834  0.000418  0.000109   \n",
       "4   -0.002592 -0.031988 -0.046641  ... -0.000251  0.002082  0.001697   \n",
       "..        ...       ...       ...  ...       ...       ...       ...   \n",
       "437 -0.002592  0.031193  0.007207  ...  0.000301  0.000365  0.000142   \n",
       "438  0.034309 -0.018114  0.044485  ... -0.000245  0.002255 -0.000708   \n",
       "439 -0.011080 -0.046883  0.015491  ...  0.000646  0.000785 -0.000246   \n",
       "440  0.026560  0.044529 -0.025930  ...  0.001179  0.001158 -0.001013   \n",
       "441 -0.039493 -0.004222  0.003064  ... -0.000139 -0.000137 -0.000224   \n",
       "\n",
       "      s6_x_bp   s6_x_s1   s6_x_s2   s6_x_s3   s6_x_s4   s6_x_s5   s6_x_s6  \n",
       "0   -0.000386  0.000780  0.000614  0.000766  0.000046 -0.000351  0.000311  \n",
       "1    0.002428  0.000779  0.001767 -0.006861  0.003641  0.006300  0.008502  \n",
       "2    0.000147  0.001182  0.000887  0.000839  0.000067 -0.000074  0.000672  \n",
       "3    0.000343 -0.000114 -0.000234  0.000337 -0.000321 -0.000212  0.000088  \n",
       "4   -0.001020 -0.000184 -0.000727 -0.000380  0.000121  0.001492  0.002175  \n",
       "..        ...       ...       ...       ...       ...       ...       ...  \n",
       "437  0.000431 -0.000041 -0.000018 -0.000207 -0.000019  0.000225  0.000052  \n",
       "438 -0.003009  0.002195  0.003522 -0.001276  0.001526 -0.000806  0.001979  \n",
       "439  0.000268 -0.000578 -0.000214 -0.000387 -0.000172 -0.000726  0.000240  \n",
       "440 -0.000032 -0.000423 -0.000396  0.000744 -0.000689 -0.001155  0.000672  \n",
       "441 -0.000249  0.000257  0.000085  0.000533 -0.000121 -0.000013  0.000009  \n",
       "\n",
       "[442 rows x 110 columns]"
      ]
     },
     "execution_count": 49,
     "metadata": {},
     "output_type": "execute_result"
    }
   ],
   "source": [
    "import copy\n",
    "\n",
    "cols = copy.deepcopy(X.columns)\n",
    "print(cols)\n",
    "\n",
    "for col1 in cols:\n",
    "    for col2 in cols:\n",
    "        col_name = col1 + '_x_' + col2\n",
    "        if col_name not in X.columns:\n",
    "            X[col_name] = X[col1]*X[col2]\n",
    "X"
   ]
  },
  {
   "cell_type": "markdown",
   "id": "9e5b9d73",
   "metadata": {
    "id": "9e5b9d73"
   },
   "source": [
    "# Переобучение и регуляризация"
   ]
  },
  {
   "cell_type": "markdown",
   "id": "31079bbe",
   "metadata": {
    "id": "31079bbe"
   },
   "source": [
    "Переобучение - ситуация, когда модель хорошо выучила обучающую выборку, но при этом показывает гораздо более низкое качество точности на тестовых данных. Это можно интерпретровать как модель стала слишком специфичной и потеряла обобщающую способность\n",
    "\n",
    "В случае линеной регрессии, одним из симптомов переобучения являются высокие значения весов. С этим борются регуляризацией.\n",
    "\n",
    "Регуляризация Lasso или L1-регуляризация:\n",
    "\n",
    "$Q_{lasso}(w) = Q(w) + \\alpha \\Sigma_{j=0}^{k}|w_{k}|$\n",
    "\n",
    "Регуляризация Ridge или L2-регуляризация:\n",
    "\n",
    "$Q_{ridge}(w) = Q(w) + \\alpha \\Sigma_{j=0}^{k}w_{k}^{2}$\n",
    "\n",
    "\n",
    "Как было рассказано в лекции, несмотря на то, что оба вида регуляризации ведут к занижению значений весов, отличие регуляризации Lasso заключается в том, что она может привести часть весов к 0 (что эквивалетно безинформативности  соответствующего признака), в случае Ridge регрессии веса могут быть сколько угодно близки к 0, но никогда не равны.\n",
    "\n",
    "Объяснение в лекции :)\n"
   ]
  },
  {
   "cell_type": "code",
   "execution_count": 50,
   "id": "ba3352a3",
   "metadata": {
    "ExecuteTime": {
     "end_time": "2021-09-20T20:03:55.004798Z",
     "start_time": "2021-09-20T20:03:54.997613Z"
    },
    "id": "ba3352a3"
   },
   "outputs": [],
   "source": [
    "X_train, X_test, y_train, y_test = train_test_split(X, y)"
   ]
  },
  {
   "cell_type": "code",
   "execution_count": 51,
   "id": "L-K2ex-jb88b",
   "metadata": {
    "id": "L-K2ex-jb88b",
    "outputId": "a388e7f3-f899-45aa-cd92-4f0f2bb4dfa1"
   },
   "outputs": [
    {
     "data": {
      "text/plain": [
       "2359.5390522089415"
      ]
     },
     "execution_count": 51,
     "metadata": {},
     "output_type": "execute_result"
    }
   ],
   "source": [
    "lr_mse.fit(X_train, y_train)\n",
    "\n",
    "pred = lr_mse.predict(X_test)\n",
    "\n",
    "mean_squared_error(y_test, pred)"
   ]
  },
  {
   "cell_type": "code",
   "execution_count": 52,
   "id": "e6636439",
   "metadata": {
    "ExecuteTime": {
     "end_time": "2021-09-20T20:03:55.074878Z",
     "start_time": "2021-09-20T20:03:55.006328Z"
    },
    "id": "e6636439",
    "outputId": "3c21f883-f73d-41bb-cf39-72e43480f202",
    "scrolled": false
   },
   "outputs": [
    {
     "name": "stdout",
     "output_type": "stream",
     "text": [
      "alpha=1e-08\n",
      "Train MSE: 2523.2309636109044\n",
      "Test MSE: 2964.3878245470914\n",
      "[ 3.42764714e+01  6.00290690e+01  4.20700907e+02  3.30262660e+02\n",
      " -1.96407260e+02  7.15142803e+01 -3.41970254e+02 -5.26949172e+01\n",
      "  6.61126058e+02  1.34437615e+02  1.43987820e+03  5.31103694e+03\n",
      "  6.11136367e+02  1.84294792e+03  4.68209018e+02 -4.44829627e+03\n",
      " -1.13075714e+03  1.42627908e+03  1.12033936e+03  8.47522790e+02\n",
      " -9.43759576e+02 -5.76875482e+04  3.75728184e+02  2.30917968e+03\n",
      "  2.18190433e+03 -4.41727309e+03  3.22496841e+03 -1.56019040e+03\n",
      "  9.79006672e+02  1.07052551e+03 -1.32956018e+03  8.37013174e+02\n",
      "  3.42140835e+02  4.16538694e+03 -3.86269312e+03 -2.20967526e+03\n",
      "  6.98946401e+03 -1.34199500e+03  2.79344631e+03  2.19383780e+03\n",
      " -9.57642583e+02 -1.17895539e+02 -1.67986177e+02 -1.48109718e+03\n",
      " -6.95785783e+03  6.51742101e+03  4.68361216e+03  9.26812277e+01\n",
      "  1.69038611e+03 -1.82319356e+03  2.39021533e+03  4.20223695e+03\n",
      " -1.74431691e+03 -7.62630483e+03 -3.61975804e+03 -1.59316645e+03\n",
      " -1.69030329e+04 -1.92199654e+04  8.72801704e+03  4.23878341e+03\n",
      " -1.82885726e+03 -3.84877251e+02  6.17145068e+03  6.57894364e+03\n",
      "  2.94913279e+03  6.50171902e+03  1.02498296e+04 -2.44448260e+03\n",
      "  3.52484313e+03 -3.04951016e+03  2.36673320e+03 -4.74914106e+03\n",
      " -2.46905546e+03  1.84610288e+03 -1.41117333e+04  1.07366692e+04\n",
      "  1.71070427e+04  2.40533164e+04  9.48536329e+02 -6.69170367e+02\n",
      "  7.30561485e+02 -1.92977720e+03  1.79546922e+03  2.32498080e+03\n",
      " -1.07614613e+04  1.28760862e+04  2.92491521e+03  1.60227748e+04\n",
      " -1.06398209e+04  1.69482739e+03 -3.47431312e+02 -2.58389954e+03\n",
      " -2.29080732e+03  2.56053660e+03 -9.90662991e+03  7.45682510e+03\n",
      "  1.55198646e+03  2.79388492e+03  4.13585550e+03 -2.11157866e+03\n",
      "  7.27004525e+02 -8.00588521e+02 -6.12912544e+02  1.65577439e+01\n",
      " -6.45141350e+03  2.86548206e+03  5.24815059e+03  5.77044627e+03\n",
      "  1.10757683e+03  1.06617195e+03] \n",
      "\n",
      "alpha=0.25\n",
      "Train MSE: 3286.1235560398263\n",
      "Test MSE: 2394.085449487572\n",
      "[   0.          -59.04452245  435.858342    204.2428373    -0.\n",
      "   -0.         -189.65527723    0.          402.55652241   46.06100016\n",
      "    0.            0.            0.            0.            0.\n",
      "   -0.           -0.            0.            0.            0.\n",
      "    0.           -0.            0.            0.            0.\n",
      "   -0.            0.           -0.            0.            0.\n",
      "    0.            0.            0.            0.            0.\n",
      "   -0.           -0.            0.            0.            0.\n",
      "    0.            0.            0.            0.            0.\n",
      "    0.           -0.            0.            0.            0.\n",
      "    0.            0.            0.            0.            0.\n",
      "    0.           -0.            0.           -0.            0.\n",
      "   -0.           -0.           -0.            0.            0.\n",
      "    0.           -0.            0.            0.            0.\n",
      "   -0.            0.           -0.           -0.           -0.\n",
      "   -0.           -0.           -0.            0.           -0.\n",
      "    0.           -0.            0.            0.            0.\n",
      "    0.           -0.            0.           -0.            0.\n",
      "    0.            0.            0.            0.           -0.\n",
      "    0.            0.           -0.           -0.            0.\n",
      "    0.            0.            0.            0.            0.\n",
      "    0.           -0.            0.            0.            0.        ] \n",
      "\n",
      "alpha=0.5\n",
      "Train MSE: 3520.0539816134064\n",
      "Test MSE: 2714.0992836933724\n",
      "[  0.          -0.         397.33943024 126.99507653   0.\n",
      "   0.         -94.28764556   0.         384.83237802   0.\n",
      "   0.           0.           0.           0.          -0.\n",
      "  -0.          -0.           0.           0.           0.\n",
      "   0.          -0.           0.           0.           0.\n",
      "  -0.           0.          -0.           0.           0.\n",
      "   0.           0.           0.           0.          -0.\n",
      "  -0.          -0.           0.           0.           0.\n",
      "   0.           0.           0.           0.           0.\n",
      "   0.          -0.           0.           0.           0.\n",
      "  -0.           0.          -0.           0.           0.\n",
      "   0.          -0.           0.           0.           0.\n",
      "  -0.          -0.          -0.           0.           0.\n",
      "   0.          -0.           0.           0.           0.\n",
      "  -0.           0.          -0.          -0.          -0.\n",
      "  -0.          -0.          -0.           0.          -0.\n",
      "   0.          -0.           0.           0.           0.\n",
      "   0.          -0.           0.           0.           0.\n",
      "   0.           0.           0.           0.           0.\n",
      "   0.           0.           0.          -0.           0.\n",
      "   0.           0.           0.           0.           0.\n",
      "   0.          -0.           0.           0.           0.        ] \n",
      "\n",
      "alpha=0.75\n",
      "Train MSE: 3810.413550268425\n",
      "Test MSE: 3179.3506810319723\n",
      "[  0.          -0.         342.7742312   55.70609808   0.\n",
      "   0.         -21.38176597   0.         351.30254632   0.\n",
      "   0.           0.           0.           0.          -0.\n",
      "  -0.          -0.           0.           0.           0.\n",
      "   0.          -0.           0.           0.           0.\n",
      "  -0.           0.          -0.           0.           0.\n",
      "   0.           0.           0.           0.          -0.\n",
      "  -0.          -0.           0.           0.           0.\n",
      "   0.           0.           0.           0.           0.\n",
      "   0.          -0.           0.           0.           0.\n",
      "  -0.           0.          -0.           0.           0.\n",
      "   0.          -0.           0.           0.           0.\n",
      "  -0.          -0.          -0.           0.           0.\n",
      "   0.          -0.           0.          -0.           0.\n",
      "  -0.           0.          -0.          -0.          -0.\n",
      "  -0.          -0.          -0.           0.          -0.\n",
      "   0.          -0.           0.           0.           0.\n",
      "   0.          -0.           0.           0.           0.\n",
      "   0.           0.           0.           0.           0.\n",
      "  -0.           0.           0.           0.           0.\n",
      "   0.           0.           0.           0.           0.\n",
      "   0.          -0.           0.           0.           0.        ] \n",
      "\n",
      "alpha=1.0\n",
      "Train MSE: 4158.752310963154\n",
      "Test MSE: 3756.701705632032\n",
      "[  0.          -0.         271.93131605   0.           0.\n",
      "   0.          -0.           0.         298.4744206    0.\n",
      "   0.           0.           0.           0.          -0.\n",
      "  -0.          -0.           0.           0.           0.\n",
      "   0.          -0.           0.           0.           0.\n",
      "  -0.           0.          -0.           0.           0.\n",
      "   0.           0.           0.           0.          -0.\n",
      "  -0.          -0.           0.           0.           0.\n",
      "   0.           0.           0.           0.           0.\n",
      "   0.          -0.           0.           0.           0.\n",
      "  -0.           0.          -0.           0.           0.\n",
      "   0.          -0.           0.           0.           0.\n",
      "  -0.          -0.          -0.           0.           0.\n",
      "   0.           0.           0.          -0.           0.\n",
      "  -0.           0.          -0.          -0.          -0.\n",
      "   0.          -0.          -0.           0.          -0.\n",
      "   0.          -0.           0.           0.           0.\n",
      "   0.          -0.           0.           0.           0.\n",
      "   0.           0.           0.           0.           0.\n",
      "  -0.           0.           0.           0.           0.\n",
      "   0.           0.           0.           0.           0.\n",
      "   0.          -0.           0.           0.           0.        ] \n",
      "\n"
     ]
    }
   ],
   "source": [
    "# альфа - это гиперпараметр, посмотрим как зависят значения весов от него\n",
    "\n",
    "from sklearn.linear_model import Lasso\n",
    "\n",
    "for a in np.arange(0, 1.1, 0.25):\n",
    "    if a == 0:\n",
    "        a += 0.00000001\n",
    "    lasso = Lasso(alpha=a)\n",
    "    lasso.fit(X_train, y_train)\n",
    "\n",
    "    y_pred_tr = lasso.predict(X_train)\n",
    "    y_pred2 = lasso.predict(X_test)\n",
    "\n",
    "    print('alpha={}'.format(a))\n",
    "    print('Train MSE:', mean_squared_error(y_train, y_pred_tr))\n",
    "    print('Test MSE:', mean_squared_error(y_test, y_pred2))\n",
    "    print(lasso.coef_,'\\n')"
   ]
  },
  {
   "cell_type": "code",
   "execution_count": 53,
   "id": "c022610b",
   "metadata": {},
   "outputs": [
    {
     "data": {
      "text/plain": [
       "Index(['age', 'sex', 'bmi', 'bp', 's1', 's2', 's3', 's4', 's5', 's6',\n",
       "       ...\n",
       "       's6_x_age', 's6_x_sex', 's6_x_bmi', 's6_x_bp', 's6_x_s1', 's6_x_s2',\n",
       "       's6_x_s3', 's6_x_s4', 's6_x_s5', 's6_x_s6'],\n",
       "      dtype='object', length=110)"
      ]
     },
     "execution_count": 53,
     "metadata": {},
     "output_type": "execute_result"
    }
   ],
   "source": [
    "X.columns"
   ]
  },
  {
   "cell_type": "code",
   "execution_count": 54,
   "id": "3e2c6394",
   "metadata": {},
   "outputs": [
    {
     "data": {
      "text/html": [
       "<style>#sk-container-id-1 {color: black;background-color: white;}#sk-container-id-1 pre{padding: 0;}#sk-container-id-1 div.sk-toggleable {background-color: white;}#sk-container-id-1 label.sk-toggleable__label {cursor: pointer;display: block;width: 100%;margin-bottom: 0;padding: 0.3em;box-sizing: border-box;text-align: center;}#sk-container-id-1 label.sk-toggleable__label-arrow:before {content: \"▸\";float: left;margin-right: 0.25em;color: #696969;}#sk-container-id-1 label.sk-toggleable__label-arrow:hover:before {color: black;}#sk-container-id-1 div.sk-estimator:hover label.sk-toggleable__label-arrow:before {color: black;}#sk-container-id-1 div.sk-toggleable__content {max-height: 0;max-width: 0;overflow: hidden;text-align: left;background-color: #f0f8ff;}#sk-container-id-1 div.sk-toggleable__content pre {margin: 0.2em;color: black;border-radius: 0.25em;background-color: #f0f8ff;}#sk-container-id-1 input.sk-toggleable__control:checked~div.sk-toggleable__content {max-height: 200px;max-width: 100%;overflow: auto;}#sk-container-id-1 input.sk-toggleable__control:checked~label.sk-toggleable__label-arrow:before {content: \"▾\";}#sk-container-id-1 div.sk-estimator input.sk-toggleable__control:checked~label.sk-toggleable__label {background-color: #d4ebff;}#sk-container-id-1 div.sk-label input.sk-toggleable__control:checked~label.sk-toggleable__label {background-color: #d4ebff;}#sk-container-id-1 input.sk-hidden--visually {border: 0;clip: rect(1px 1px 1px 1px);clip: rect(1px, 1px, 1px, 1px);height: 1px;margin: -1px;overflow: hidden;padding: 0;position: absolute;width: 1px;}#sk-container-id-1 div.sk-estimator {font-family: monospace;background-color: #f0f8ff;border: 1px dotted black;border-radius: 0.25em;box-sizing: border-box;margin-bottom: 0.5em;}#sk-container-id-1 div.sk-estimator:hover {background-color: #d4ebff;}#sk-container-id-1 div.sk-parallel-item::after {content: \"\";width: 100%;border-bottom: 1px solid gray;flex-grow: 1;}#sk-container-id-1 div.sk-label:hover label.sk-toggleable__label {background-color: #d4ebff;}#sk-container-id-1 div.sk-serial::before {content: \"\";position: absolute;border-left: 1px solid gray;box-sizing: border-box;top: 0;bottom: 0;left: 50%;z-index: 0;}#sk-container-id-1 div.sk-serial {display: flex;flex-direction: column;align-items: center;background-color: white;padding-right: 0.2em;padding-left: 0.2em;position: relative;}#sk-container-id-1 div.sk-item {position: relative;z-index: 1;}#sk-container-id-1 div.sk-parallel {display: flex;align-items: stretch;justify-content: center;background-color: white;position: relative;}#sk-container-id-1 div.sk-item::before, #sk-container-id-1 div.sk-parallel-item::before {content: \"\";position: absolute;border-left: 1px solid gray;box-sizing: border-box;top: 0;bottom: 0;left: 50%;z-index: -1;}#sk-container-id-1 div.sk-parallel-item {display: flex;flex-direction: column;z-index: 1;position: relative;background-color: white;}#sk-container-id-1 div.sk-parallel-item:first-child::after {align-self: flex-end;width: 50%;}#sk-container-id-1 div.sk-parallel-item:last-child::after {align-self: flex-start;width: 50%;}#sk-container-id-1 div.sk-parallel-item:only-child::after {width: 0;}#sk-container-id-1 div.sk-dashed-wrapped {border: 1px dashed gray;margin: 0 0.4em 0.5em 0.4em;box-sizing: border-box;padding-bottom: 0.4em;background-color: white;}#sk-container-id-1 div.sk-label label {font-family: monospace;font-weight: bold;display: inline-block;line-height: 1.2em;}#sk-container-id-1 div.sk-label-container {text-align: center;}#sk-container-id-1 div.sk-container {/* jupyter's `normalize.less` sets `[hidden] { display: none; }` but bootstrap.min.css set `[hidden] { display: none !important; }` so we also need the `!important` here to be able to override the default hidden behavior on the sphinx rendered scikit-learn.org. See: https://github.com/scikit-learn/scikit-learn/issues/21755 */display: inline-block !important;position: relative;}#sk-container-id-1 div.sk-text-repr-fallback {display: none;}</style><div id=\"sk-container-id-1\" class=\"sk-top-container\"><div class=\"sk-text-repr-fallback\"><pre>Lasso()</pre><b>In a Jupyter environment, please rerun this cell to show the HTML representation or trust the notebook. <br />On GitHub, the HTML representation is unable to render, please try loading this page with nbviewer.org.</b></div><div class=\"sk-container\" hidden><div class=\"sk-item\"><div class=\"sk-estimator sk-toggleable\"><input class=\"sk-toggleable__control sk-hidden--visually\" id=\"sk-estimator-id-1\" type=\"checkbox\" checked><label for=\"sk-estimator-id-1\" class=\"sk-toggleable__label sk-toggleable__label-arrow\">Lasso</label><div class=\"sk-toggleable__content\"><pre>Lasso()</pre></div></div></div></div></div>"
      ],
      "text/plain": [
       "Lasso()"
      ]
     },
     "execution_count": 54,
     "metadata": {},
     "output_type": "execute_result"
    }
   ],
   "source": [
    "lasso"
   ]
  },
  {
   "cell_type": "code",
   "execution_count": 55,
   "id": "0c0ba58a",
   "metadata": {},
   "outputs": [
    {
     "data": {
      "text/html": [
       "<div>\n",
       "<style scoped>\n",
       "    .dataframe tbody tr th:only-of-type {\n",
       "        vertical-align: middle;\n",
       "    }\n",
       "\n",
       "    .dataframe tbody tr th {\n",
       "        vertical-align: top;\n",
       "    }\n",
       "\n",
       "    .dataframe thead th {\n",
       "        text-align: right;\n",
       "    }\n",
       "</style>\n",
       "<table border=\"1\" class=\"dataframe\">\n",
       "  <thead>\n",
       "    <tr style=\"text-align: right;\">\n",
       "      <th></th>\n",
       "      <th>0</th>\n",
       "      <th>1</th>\n",
       "    </tr>\n",
       "  </thead>\n",
       "  <tbody>\n",
       "    <tr>\n",
       "      <th>0</th>\n",
       "      <td>age</td>\n",
       "      <td>0.000000</td>\n",
       "    </tr>\n",
       "    <tr>\n",
       "      <th>1</th>\n",
       "      <td>sex</td>\n",
       "      <td>-0.000000</td>\n",
       "    </tr>\n",
       "    <tr>\n",
       "      <th>2</th>\n",
       "      <td>bmi</td>\n",
       "      <td>271.931316</td>\n",
       "    </tr>\n",
       "    <tr>\n",
       "      <th>3</th>\n",
       "      <td>bp</td>\n",
       "      <td>0.000000</td>\n",
       "    </tr>\n",
       "    <tr>\n",
       "      <th>4</th>\n",
       "      <td>s1</td>\n",
       "      <td>0.000000</td>\n",
       "    </tr>\n",
       "    <tr>\n",
       "      <th>...</th>\n",
       "      <td>...</td>\n",
       "      <td>...</td>\n",
       "    </tr>\n",
       "    <tr>\n",
       "      <th>105</th>\n",
       "      <td>s6_x_s2</td>\n",
       "      <td>0.000000</td>\n",
       "    </tr>\n",
       "    <tr>\n",
       "      <th>106</th>\n",
       "      <td>s6_x_s3</td>\n",
       "      <td>-0.000000</td>\n",
       "    </tr>\n",
       "    <tr>\n",
       "      <th>107</th>\n",
       "      <td>s6_x_s4</td>\n",
       "      <td>0.000000</td>\n",
       "    </tr>\n",
       "    <tr>\n",
       "      <th>108</th>\n",
       "      <td>s6_x_s5</td>\n",
       "      <td>0.000000</td>\n",
       "    </tr>\n",
       "    <tr>\n",
       "      <th>109</th>\n",
       "      <td>s6_x_s6</td>\n",
       "      <td>0.000000</td>\n",
       "    </tr>\n",
       "  </tbody>\n",
       "</table>\n",
       "<p>110 rows × 2 columns</p>\n",
       "</div>"
      ],
      "text/plain": [
       "           0           1\n",
       "0        age    0.000000\n",
       "1        sex   -0.000000\n",
       "2        bmi  271.931316\n",
       "3         bp    0.000000\n",
       "4         s1    0.000000\n",
       "..       ...         ...\n",
       "105  s6_x_s2    0.000000\n",
       "106  s6_x_s3   -0.000000\n",
       "107  s6_x_s4    0.000000\n",
       "108  s6_x_s5    0.000000\n",
       "109  s6_x_s6    0.000000\n",
       "\n",
       "[110 rows x 2 columns]"
      ]
     },
     "execution_count": 55,
     "metadata": {},
     "output_type": "execute_result"
    }
   ],
   "source": [
    "pd.DataFrame(zip(X.columns, lasso.coef_))"
   ]
  },
  {
   "cell_type": "code",
   "execution_count": 30,
   "id": "c171dd89",
   "metadata": {
    "ExecuteTime": {
     "end_time": "2021-09-20T20:03:55.133640Z",
     "start_time": "2021-09-20T20:03:55.076921Z"
    },
    "id": "c171dd89",
    "outputId": "cefe6126-5a55-4c24-8d1c-0275e80e813f",
    "scrolled": false
   },
   "outputs": [
    {
     "name": "stdout",
     "output_type": "stream",
     "text": [
      "alpha=1e-08\n",
      "Train MSE: 2377.74003873452\n",
      "Test MSE: 3966.916740304038\n",
      "[ 1.33826953e+02 -3.45589558e+02  3.58187558e+02  3.99780740e+02\n",
      " -8.18753939e+03  7.18046182e+03  2.50604361e+03 -1.06876839e+02\n",
      "  3.18096722e+03  9.24627695e+01  1.55792120e+03  1.18089442e+03\n",
      " -6.86418896e+02  1.92081210e+03 -5.46800277e+03 -2.94771666e-02\n",
      "  5.48794193e+03  5.59146045e+03  1.33161991e+03  5.31258628e+02\n",
      "  1.18089442e+03 -2.08683633e+00 -1.49917504e+03  4.14693304e+02\n",
      "  7.44984331e+03 -4.34274038e+03 -4.56396404e+03 -4.90918738e+03\n",
      " -4.13189444e+02  6.97673460e+02 -6.86418896e+02 -1.49917504e+03\n",
      " -4.65764124e+01  1.30117297e+03 -9.22179375e+03  7.89455956e+03\n",
      "  4.66572662e+03  1.10510086e+03  4.53759469e+03 -8.89748737e+01\n",
      "  1.92081210e+03  4.14693303e+02  1.30117297e+03  1.01534699e+03\n",
      "  9.05904072e+03 -6.94777176e+03 -5.00134377e+03 -6.88714490e+02\n",
      " -4.06838228e+03 -1.02636022e+03 -5.46800277e+03  7.44984331e+03\n",
      " -9.22179375e+03  9.05904073e+03  9.20658332e+04 -6.29038107e+04\n",
      " -5.56467133e+04 -2.62267942e+04 -3.10364134e+04  7.60558267e+03\n",
      " -2.94779687e-02 -4.34274038e+03  7.89455956e+03 -6.94777176e+03\n",
      " -6.29038107e+04  4.22231879e+04  4.02326383e+04  1.73332672e+04\n",
      "  2.39455323e+04 -7.28129407e+03  5.48794193e+03 -4.56396404e+03\n",
      "  4.66572662e+03 -5.00134377e+03 -5.56467133e+04  4.02326383e+04\n",
      "  3.15739899e+04  1.44500101e+04  1.61816684e+04 -1.13523882e+03\n",
      "  5.59146045e+03 -4.90918738e+03  1.10510086e+03 -6.88714491e+02\n",
      " -2.62267942e+04  1.73332672e+04  1.44500101e+04  1.37525224e+04\n",
      "  1.26005845e+03  3.31493332e+03  1.33161991e+03 -4.13189445e+02\n",
      "  4.53759470e+03 -4.06838228e+03 -3.10364134e+04  2.39455323e+04\n",
      "  1.61816684e+04  1.26005845e+03  2.83326713e+04 -3.81297916e+03\n",
      "  5.31258628e+02  6.97673460e+02 -8.89748730e+01 -1.02636022e+03\n",
      "  7.60558267e+03 -7.28129407e+03 -1.13523882e+03  3.31493332e+03\n",
      " -3.81297916e+03  1.44516137e+03] \n",
      "\n",
      "alpha=0.25\n",
      "Train MSE: 3023.1498473359884\n",
      "Test MSE: 2851.442597483864\n",
      "[  41.69549789 -176.17119126  377.44002121  286.66534949  -40.14896248\n",
      "  -61.43684903 -223.20712585  132.07651696  330.17585847  113.34215186\n",
      "   23.1804916    26.14552972    3.2929737    24.51334136   -7.22972245\n",
      "   -9.62108851   -7.18726582    7.86514914   11.52633233   14.79579858\n",
      "   26.14552972   -1.06380661    3.29049377   12.97868698    5.47357899\n",
      "   -0.60852497    6.42454055   -2.25347598    7.32635509   12.1253161\n",
      "    3.2929737     3.29049377   25.5706478    19.39109201    4.74965458\n",
      "    5.04115113   -4.5116987     8.23170215    8.75468511   12.64357555\n",
      "   24.51334136   12.97868698   19.39109201   18.18156018    6.57281894\n",
      "    6.97188833   -3.89066668    4.4778605     7.87975378   10.3994147\n",
      "   -7.22972245    5.47357899    4.74965458    6.57281894   12.57200026\n",
      "    9.97089507    4.54430109    2.10264865    4.15750384   11.15455784\n",
      "   -9.62108851   -0.60852497    5.04115113    6.97188833    9.97089507\n",
      "    7.47391021   -0.82925061    7.02028683    4.64422242   11.27759245\n",
      "   -7.18726582    6.42454055   -4.5116987    -3.89066668    4.54430109\n",
      "   -0.82925061    3.2783527    -2.37287005    8.42444203   -4.00399347\n",
      "    7.86514914   -2.25347598    8.23170215    4.4778605     2.10264865\n",
      "    7.02028683   -2.37287005    7.81611069   -6.14323795   13.53936024\n",
      "   11.52633233    7.32635509    8.75468511    7.87975378    4.15750384\n",
      "    4.64422242    8.42444203   -6.14323795   -2.17110222    7.68285253\n",
      "   14.79579858   12.1253161    12.64357555   10.3994147    11.15455784\n",
      "   11.27759245   -4.00399347   13.53936024    7.68285253   21.16871693] \n",
      "\n",
      "alpha=0.5\n",
      "Train MSE: 3170.4772920115765\n",
      "Test MSE: 3026.580210447454\n",
      "[  45.03310955 -126.53251435  319.81858661  239.50693887  -14.90333892\n",
      "  -41.23940723 -193.33922051  129.56814303  277.97722381  116.29367307\n",
      "   11.00920711   12.84222235    1.38498421   12.97062486   -4.73264958\n",
      "   -6.34028319   -4.06635205    3.58667477    6.23798886    7.70705404\n",
      "   12.84222235   -0.76406434    1.03269299    6.39560334    2.55633978\n",
      "   -0.64811694    3.8283447    -1.07453075    3.30814897    5.72445662\n",
      "    1.38498421    1.03269299   16.79994868   10.48928927    1.65768001\n",
      "    1.23658851   -2.63628059    4.37961521    5.51642       7.08734846\n",
      "   12.97062486    6.39560334   10.48928927   11.11080137    3.41449704\n",
      "    2.75979945   -1.54842358    2.07027391    4.8464272     5.5703915\n",
      "   -4.73264958    2.55633978    1.65768001    3.41449704    6.06115511\n",
      "    4.32880298    1.90619684    1.5756066     2.39807847    5.64991364\n",
      "   -6.34028319   -0.64811694    1.23658851    2.75979945    4.32880298\n",
      "    3.11125617    0.78705718    2.83150797    0.88160805    5.07506853\n",
      "   -4.06635205    3.8283447    -2.63628059   -1.54842358    1.90619684\n",
      "    0.78705718   -0.53802561   -0.94282183    3.44317039   -2.23594317\n",
      "    3.58667477   -1.07453075    4.37961521    2.07027391    1.5756066\n",
      "    2.83150797   -0.94282183    5.42707582   -1.76004739    7.51508078\n",
      "    6.23798886    3.30814897    5.51642       4.8464272     2.39807847\n",
      "    0.88160805    3.44317039   -1.76004739    1.40348359    4.6761628\n",
      "    7.70705404    5.72445662    7.08734846    5.5703915     5.64991364\n",
      "    5.07506853   -2.23594317    7.51508078    4.6761628    10.78048247] \n",
      "\n",
      "alpha=0.75\n",
      "Train MSE: 3312.3830247310557\n",
      "Test MSE: 3198.03291635141\n",
      "[ 4.60004088e+01 -9.60446028e+01  2.78546628e+02  2.07948613e+02\n",
      " -1.54524516e+00 -2.56032006e+01 -1.72142188e+02  1.23757891e+02\n",
      "  2.43249211e+02  1.13184889e+02  6.95404825e+00  8.39391327e+00\n",
      "  6.69376941e-01  8.87419184e+00 -3.78364064e+00 -5.03549711e+00\n",
      " -2.92289297e+00  2.15734794e+00  4.28871973e+00  5.18620008e+00\n",
      "  8.39391327e+00 -5.79963628e-01  3.46838840e-01  4.18621479e+00\n",
      "  1.60121837e+00 -6.05110914e-01  2.85832773e+00 -7.01623531e-01\n",
      "  2.00312596e+00  3.58834667e+00  6.69376941e-01  3.46838840e-01\n",
      "  1.30228397e+01  7.25658262e+00  7.08013854e-01  1.40783962e-01\n",
      " -1.90101121e+00  3.01865301e+00  4.18452807e+00  5.00593554e+00\n",
      "  8.87419184e+00  4.18621479e+00  7.25658262e+00  8.29345738e+00\n",
      "  2.25349675e+00  1.40865944e+00 -8.33201742e-01  1.26476399e+00\n",
      "  3.60001080e+00  3.77587133e+00 -3.78364064e+00  1.60121837e+00\n",
      "  7.08013854e-01  2.25349675e+00  3.93609094e+00  2.57598499e+00\n",
      "  1.08795355e+00  1.30505355e+00  1.74032650e+00  3.73616884e+00\n",
      " -5.03549711e+00 -6.05110914e-01  1.40783962e-01  1.40865944e+00\n",
      "  2.57598499e+00  1.79285237e+00  1.12013687e+00  1.56226275e+00\n",
      " -1.38221722e-01  3.04270619e+00 -2.92289297e+00  2.85832773e+00\n",
      " -1.90101121e+00 -8.33201742e-01  1.08795355e+00  1.12013687e+00\n",
      " -1.44752111e+00 -5.63512532e-01  1.91476216e+00 -1.57061896e+00\n",
      "  2.15734794e+00 -7.01623531e-01  3.01865301e+00  1.26476399e+00\n",
      "  1.30505355e+00  1.56226275e+00 -5.63512532e-01  4.45897057e+00\n",
      " -5.10883230e-01  5.31199970e+00  4.28871973e+00  2.00312596e+00\n",
      "  4.18452807e+00  3.60001080e+00  1.74032650e+00 -1.38221722e-01\n",
      "  1.91476216e+00 -5.10883230e-01  2.13739015e+00  3.46414589e+00\n",
      "  5.18620008e+00  3.58834667e+00  5.00593554e+00  3.77587133e+00\n",
      "  3.73616884e+00  3.04270619e+00 -1.57061896e+00  5.31199970e+00\n",
      "  3.46414589e+00  7.18329495e+00] \n",
      "\n",
      "alpha=1.0\n",
      "Train MSE: 3442.5630946534698\n",
      "Test MSE: 3357.0279842031473\n",
      "[ 4.56958216e+01 -7.57043433e+01  2.47419402e+02  1.84830412e+02\n",
      "  6.65351259e+00 -1.46394007e+01 -1.55826261e+02  1.17594016e+02\n",
      "  2.17566781e+02  1.08318397e+02  4.95887286e+00  6.18401970e+00\n",
      "  3.07924249e-01  6.74460276e+00 -3.23057706e+00 -4.26443825e+00\n",
      " -2.31265077e+00  1.46224899e+00  3.25505580e+00  3.88233642e+00\n",
      "  6.18401970e+00 -4.57139332e-01  5.49670270e-02  3.09037217e+00\n",
      "  1.14526151e+00 -5.47498925e-01  2.32365014e+00 -5.15670689e-01\n",
      "  1.37967057e+00  2.54214853e+00  3.07924249e-01  5.49670270e-02\n",
      "  1.07669057e+01  5.55329814e+00  2.90167828e-01 -3.07630459e-01\n",
      " -1.48731525e+00  2.31289813e+00  3.41557500e+00  3.88998835e+00\n",
      "  6.74460276e+00  3.09037217e+00  5.55329814e+00  6.70375085e+00\n",
      "  1.65175399e+00  7.85249884e-01 -5.12539092e-01  8.78104412e-01\n",
      "  2.89161019e+00  2.83035169e+00 -3.23057706e+00  1.14526151e+00\n",
      "  2.90167828e-01  1.65175399e+00  2.91865373e+00  1.78139571e+00\n",
      "  7.03599310e-01  1.14245710e+00  1.39512334e+00  2.76734425e+00\n",
      " -4.26443825e+00 -5.47498925e-01 -3.07630459e-01  7.85249884e-01\n",
      "  1.78139571e+00  1.21489732e+00  1.18773101e+00  1.00122656e+00\n",
      " -5.21124371e-01  2.06817654e+00 -2.31265077e+00  2.32365014e+00\n",
      " -1.48731525e+00 -5.12539092e-01  7.03599310e-01  1.18773101e+00\n",
      " -1.74211772e+00 -4.04783473e-01  1.21784186e+00 -1.21572360e+00\n",
      "  1.46224899e+00 -5.15670689e-01  2.31289813e+00  8.78104412e-01\n",
      "  1.14245710e+00  1.00122656e+00 -4.04783473e-01  3.88505273e+00\n",
      "  1.49075665e-02  4.14482102e+00  3.25505580e+00  1.37967057e+00\n",
      "  3.41557500e+00  2.89161019e+00  1.39512334e+00 -5.21124371e-01\n",
      "  1.21784186e+00  1.49075665e-02  2.29339233e+00  2.78048822e+00\n",
      "  3.88233642e+00  2.54214853e+00  3.88998835e+00  2.83035169e+00\n",
      "  2.76734425e+00  2.06817654e+00 -1.21572360e+00  4.14482102e+00\n",
      "  2.78048822e+00  5.36193242e+00] \n",
      "\n"
     ]
    }
   ],
   "source": [
    "# альфа - это гиперпараметр, посмотрим как зависят значения весов от него\n",
    "\n",
    "from sklearn.linear_model import Ridge\n",
    "\n",
    "for a in np.arange(0, 1.1, 0.25):\n",
    "    if a == 0:\n",
    "        a += 0.00000001\n",
    "    ridge = Ridge(alpha=a)\n",
    "    ridge.fit(X_train, y_train)\n",
    "\n",
    "    y_pred_tr = ridge.predict(X_train)\n",
    "    y_pred2 = ridge.predict(X_test)\n",
    "\n",
    "    print('alpha={}'.format(a))\n",
    "    print('Train MSE:', mean_squared_error(y_train, y_pred_tr))\n",
    "    print('Test MSE:', mean_squared_error(y_test, y_pred2))\n",
    "    print(ridge.coef_,'\\n')"
   ]
  },
  {
   "cell_type": "markdown",
   "id": "02fb320a",
   "metadata": {
    "id": "02fb320a"
   },
   "source": [
    "А какой коэффициент альфа лучший ? И нужна ли здесь регуляризация ?\n",
    "\n",
    "Чтобы ответить на этот вопрос мы можем с помощью кросс-валидации перебрать различные значения альфы и выбрать лучшее значение. Этот процесс называется оптимизацией гиперпараметров. Альфа является гиперпараметром, потому что задача оптимизации функционала не позволяет найти ее оптимальное значение (в отличие от весов регрессии)."
   ]
  },
  {
   "cell_type": "code",
   "execution_count": 31,
   "id": "a04ffd86",
   "metadata": {
    "ExecuteTime": {
     "end_time": "2021-09-20T20:03:55.295117Z",
     "start_time": "2021-09-20T20:03:55.135370Z"
    },
    "id": "a04ffd86",
    "outputId": "19aba09d-9ed6-4d2d-be20-7532e8dc0363"
   },
   "outputs": [
    {
     "name": "stdout",
     "output_type": "stream",
     "text": [
      "Optimal alpha value is 0.025125628240201005\n"
     ]
    }
   ],
   "source": [
    "from sklearn.linear_model import LassoCV\n",
    "\n",
    "n_alphas = 200\n",
    "alphas = np.linspace(1e-10, 5, n_alphas)\n",
    "\n",
    "lasso_cv = LassoCV(alphas=alphas, cv=5, random_state=42)\n",
    "lasso_cv.fit(X, y)\n",
    "\n",
    "print(f'Optimal alpha value is {lasso_cv.alpha_}')\n"
   ]
  },
  {
   "cell_type": "code",
   "execution_count": 32,
   "id": "20de9b2c",
   "metadata": {
    "ExecuteTime": {
     "end_time": "2021-09-20T20:04:01.101956Z",
     "start_time": "2021-09-20T20:03:55.296894Z"
    },
    "id": "20de9b2c",
    "outputId": "475d854b-c16e-4946-e90d-04e66485778c",
    "scrolled": true
   },
   "outputs": [
    {
     "name": "stdout",
     "output_type": "stream",
     "text": [
      "{'alpha': 0.025125628240201005}\n"
     ]
    }
   ],
   "source": [
    "# Более общий способ использования кросс-валидации для поиска лучшего набора гиперпараметров\n",
    "\n",
    "\n",
    "from sklearn.model_selection import GridSearchCV\n",
    "\n",
    "params = {'alpha':alphas,}\n",
    "\n",
    "#print(params)\n",
    "cv = GridSearchCV(lasso,\n",
    "                  params,\n",
    "                  scoring='r2',\n",
    "                  cv=num_splits\n",
    "                 )\n",
    "cv.fit(X, y)\n",
    "\n",
    "print(cv.best_params_)"
   ]
  },
  {
   "cell_type": "code",
   "execution_count": 33,
   "id": "5b529a63",
   "metadata": {},
   "outputs": [
    {
     "data": {
      "text/html": [
       "<div>\n",
       "<style scoped>\n",
       "    .dataframe tbody tr th:only-of-type {\n",
       "        vertical-align: middle;\n",
       "    }\n",
       "\n",
       "    .dataframe tbody tr th {\n",
       "        vertical-align: top;\n",
       "    }\n",
       "\n",
       "    .dataframe thead th {\n",
       "        text-align: right;\n",
       "    }\n",
       "</style>\n",
       "<table border=\"1\" class=\"dataframe\">\n",
       "  <thead>\n",
       "    <tr style=\"text-align: right;\">\n",
       "      <th></th>\n",
       "      <th>mean_fit_time</th>\n",
       "      <th>std_fit_time</th>\n",
       "      <th>mean_score_time</th>\n",
       "      <th>std_score_time</th>\n",
       "      <th>param_alpha</th>\n",
       "      <th>params</th>\n",
       "      <th>split0_test_score</th>\n",
       "      <th>split1_test_score</th>\n",
       "      <th>split2_test_score</th>\n",
       "      <th>split3_test_score</th>\n",
       "      <th>split4_test_score</th>\n",
       "      <th>mean_test_score</th>\n",
       "      <th>std_test_score</th>\n",
       "      <th>rank_test_score</th>\n",
       "    </tr>\n",
       "  </thead>\n",
       "  <tbody>\n",
       "    <tr>\n",
       "      <th>0</th>\n",
       "      <td>0.042748</td>\n",
       "      <td>0.002577</td>\n",
       "      <td>0.002322</td>\n",
       "      <td>0.002720</td>\n",
       "      <td>0.0</td>\n",
       "      <td>{'alpha': 1e-10}</td>\n",
       "      <td>0.374011</td>\n",
       "      <td>0.532243</td>\n",
       "      <td>0.447966</td>\n",
       "      <td>0.088060</td>\n",
       "      <td>0.476719</td>\n",
       "      <td>0.383800</td>\n",
       "      <td>0.156425</td>\n",
       "      <td>32</td>\n",
       "    </tr>\n",
       "    <tr>\n",
       "      <th>1</th>\n",
       "      <td>0.005741</td>\n",
       "      <td>0.002474</td>\n",
       "      <td>0.004014</td>\n",
       "      <td>0.002079</td>\n",
       "      <td>0.025126</td>\n",
       "      <td>{'alpha': 0.025125628240201005}</td>\n",
       "      <td>0.420838</td>\n",
       "      <td>0.520400</td>\n",
       "      <td>0.492165</td>\n",
       "      <td>0.432448</td>\n",
       "      <td>0.544555</td>\n",
       "      <td>0.482081</td>\n",
       "      <td>0.048347</td>\n",
       "      <td>1</td>\n",
       "    </tr>\n",
       "    <tr>\n",
       "      <th>2</th>\n",
       "      <td>0.009695</td>\n",
       "      <td>0.002058</td>\n",
       "      <td>0.004092</td>\n",
       "      <td>0.001650</td>\n",
       "      <td>0.050251</td>\n",
       "      <td>{'alpha': 0.05025125638040201}</td>\n",
       "      <td>0.414919</td>\n",
       "      <td>0.519239</td>\n",
       "      <td>0.491511</td>\n",
       "      <td>0.441288</td>\n",
       "      <td>0.543241</td>\n",
       "      <td>0.482040</td>\n",
       "      <td>0.047718</td>\n",
       "      <td>2</td>\n",
       "    </tr>\n",
       "    <tr>\n",
       "      <th>3</th>\n",
       "      <td>0.008552</td>\n",
       "      <td>0.004244</td>\n",
       "      <td>0.007967</td>\n",
       "      <td>0.004077</td>\n",
       "      <td>0.075377</td>\n",
       "      <td>{'alpha': 0.07537688452060301}</td>\n",
       "      <td>0.408844</td>\n",
       "      <td>0.517860</td>\n",
       "      <td>0.490503</td>\n",
       "      <td>0.447690</td>\n",
       "      <td>0.541514</td>\n",
       "      <td>0.481282</td>\n",
       "      <td>0.047805</td>\n",
       "      <td>3</td>\n",
       "    </tr>\n",
       "    <tr>\n",
       "      <th>4</th>\n",
       "      <td>0.007882</td>\n",
       "      <td>0.001209</td>\n",
       "      <td>0.006866</td>\n",
       "      <td>0.002173</td>\n",
       "      <td>0.100503</td>\n",
       "      <td>{'alpha': 0.10050251266080401}</td>\n",
       "      <td>0.401952</td>\n",
       "      <td>0.515022</td>\n",
       "      <td>0.488770</td>\n",
       "      <td>0.452689</td>\n",
       "      <td>0.538919</td>\n",
       "      <td>0.479470</td>\n",
       "      <td>0.048189</td>\n",
       "      <td>4</td>\n",
       "    </tr>\n",
       "    <tr>\n",
       "      <th>...</th>\n",
       "      <td>...</td>\n",
       "      <td>...</td>\n",
       "      <td>...</td>\n",
       "      <td>...</td>\n",
       "      <td>...</td>\n",
       "      <td>...</td>\n",
       "      <td>...</td>\n",
       "      <td>...</td>\n",
       "      <td>...</td>\n",
       "      <td>...</td>\n",
       "      <td>...</td>\n",
       "      <td>...</td>\n",
       "      <td>...</td>\n",
       "      <td>...</td>\n",
       "    </tr>\n",
       "    <tr>\n",
       "      <th>195</th>\n",
       "      <td>0.003717</td>\n",
       "      <td>0.004344</td>\n",
       "      <td>0.012383</td>\n",
       "      <td>0.003991</td>\n",
       "      <td>4.899497</td>\n",
       "      <td>{'alpha': 4.899497487439196}</td>\n",
       "      <td>-0.098448</td>\n",
       "      <td>-0.027867</td>\n",
       "      <td>-0.000533</td>\n",
       "      <td>-0.008342</td>\n",
       "      <td>-0.002340</td>\n",
       "      <td>-0.027506</td>\n",
       "      <td>0.036772</td>\n",
       "      <td>93</td>\n",
       "    </tr>\n",
       "    <tr>\n",
       "      <th>196</th>\n",
       "      <td>0.008084</td>\n",
       "      <td>0.002016</td>\n",
       "      <td>0.007163</td>\n",
       "      <td>0.002258</td>\n",
       "      <td>4.924623</td>\n",
       "      <td>{'alpha': 4.924623115579397}</td>\n",
       "      <td>-0.098448</td>\n",
       "      <td>-0.027867</td>\n",
       "      <td>-0.000533</td>\n",
       "      <td>-0.008342</td>\n",
       "      <td>-0.002340</td>\n",
       "      <td>-0.027506</td>\n",
       "      <td>0.036772</td>\n",
       "      <td>93</td>\n",
       "    </tr>\n",
       "    <tr>\n",
       "      <th>197</th>\n",
       "      <td>0.007707</td>\n",
       "      <td>0.004620</td>\n",
       "      <td>0.004407</td>\n",
       "      <td>0.002524</td>\n",
       "      <td>4.949749</td>\n",
       "      <td>{'alpha': 4.9497487437195975}</td>\n",
       "      <td>-0.098448</td>\n",
       "      <td>-0.027867</td>\n",
       "      <td>-0.000533</td>\n",
       "      <td>-0.008342</td>\n",
       "      <td>-0.002340</td>\n",
       "      <td>-0.027506</td>\n",
       "      <td>0.036772</td>\n",
       "      <td>93</td>\n",
       "    </tr>\n",
       "    <tr>\n",
       "      <th>198</th>\n",
       "      <td>0.005005</td>\n",
       "      <td>0.003930</td>\n",
       "      <td>0.008612</td>\n",
       "      <td>0.005238</td>\n",
       "      <td>4.974874</td>\n",
       "      <td>{'alpha': 4.974874371859799}</td>\n",
       "      <td>-0.098448</td>\n",
       "      <td>-0.027867</td>\n",
       "      <td>-0.000533</td>\n",
       "      <td>-0.008342</td>\n",
       "      <td>-0.002340</td>\n",
       "      <td>-0.027506</td>\n",
       "      <td>0.036772</td>\n",
       "      <td>93</td>\n",
       "    </tr>\n",
       "    <tr>\n",
       "      <th>199</th>\n",
       "      <td>0.008242</td>\n",
       "      <td>0.005045</td>\n",
       "      <td>0.004842</td>\n",
       "      <td>0.003969</td>\n",
       "      <td>5.0</td>\n",
       "      <td>{'alpha': 5.0}</td>\n",
       "      <td>-0.098448</td>\n",
       "      <td>-0.027867</td>\n",
       "      <td>-0.000533</td>\n",
       "      <td>-0.008342</td>\n",
       "      <td>-0.002340</td>\n",
       "      <td>-0.027506</td>\n",
       "      <td>0.036772</td>\n",
       "      <td>93</td>\n",
       "    </tr>\n",
       "  </tbody>\n",
       "</table>\n",
       "<p>200 rows × 14 columns</p>\n",
       "</div>"
      ],
      "text/plain": [
       "     mean_fit_time  std_fit_time  mean_score_time  std_score_time param_alpha  \\\n",
       "0         0.042748      0.002577         0.002322        0.002720         0.0   \n",
       "1         0.005741      0.002474         0.004014        0.002079    0.025126   \n",
       "2         0.009695      0.002058         0.004092        0.001650    0.050251   \n",
       "3         0.008552      0.004244         0.007967        0.004077    0.075377   \n",
       "4         0.007882      0.001209         0.006866        0.002173    0.100503   \n",
       "..             ...           ...              ...             ...         ...   \n",
       "195       0.003717      0.004344         0.012383        0.003991    4.899497   \n",
       "196       0.008084      0.002016         0.007163        0.002258    4.924623   \n",
       "197       0.007707      0.004620         0.004407        0.002524    4.949749   \n",
       "198       0.005005      0.003930         0.008612        0.005238    4.974874   \n",
       "199       0.008242      0.005045         0.004842        0.003969         5.0   \n",
       "\n",
       "                              params  split0_test_score  split1_test_score  \\\n",
       "0                   {'alpha': 1e-10}           0.374011           0.532243   \n",
       "1    {'alpha': 0.025125628240201005}           0.420838           0.520400   \n",
       "2     {'alpha': 0.05025125638040201}           0.414919           0.519239   \n",
       "3     {'alpha': 0.07537688452060301}           0.408844           0.517860   \n",
       "4     {'alpha': 0.10050251266080401}           0.401952           0.515022   \n",
       "..                               ...                ...                ...   \n",
       "195     {'alpha': 4.899497487439196}          -0.098448          -0.027867   \n",
       "196     {'alpha': 4.924623115579397}          -0.098448          -0.027867   \n",
       "197    {'alpha': 4.9497487437195975}          -0.098448          -0.027867   \n",
       "198     {'alpha': 4.974874371859799}          -0.098448          -0.027867   \n",
       "199                   {'alpha': 5.0}          -0.098448          -0.027867   \n",
       "\n",
       "     split2_test_score  split3_test_score  split4_test_score  mean_test_score  \\\n",
       "0             0.447966           0.088060           0.476719         0.383800   \n",
       "1             0.492165           0.432448           0.544555         0.482081   \n",
       "2             0.491511           0.441288           0.543241         0.482040   \n",
       "3             0.490503           0.447690           0.541514         0.481282   \n",
       "4             0.488770           0.452689           0.538919         0.479470   \n",
       "..                 ...                ...                ...              ...   \n",
       "195          -0.000533          -0.008342          -0.002340        -0.027506   \n",
       "196          -0.000533          -0.008342          -0.002340        -0.027506   \n",
       "197          -0.000533          -0.008342          -0.002340        -0.027506   \n",
       "198          -0.000533          -0.008342          -0.002340        -0.027506   \n",
       "199          -0.000533          -0.008342          -0.002340        -0.027506   \n",
       "\n",
       "     std_test_score  rank_test_score  \n",
       "0          0.156425               32  \n",
       "1          0.048347                1  \n",
       "2          0.047718                2  \n",
       "3          0.047805                3  \n",
       "4          0.048189                4  \n",
       "..              ...              ...  \n",
       "195        0.036772               93  \n",
       "196        0.036772               93  \n",
       "197        0.036772               93  \n",
       "198        0.036772               93  \n",
       "199        0.036772               93  \n",
       "\n",
       "[200 rows x 14 columns]"
      ]
     },
     "execution_count": 33,
     "metadata": {},
     "output_type": "execute_result"
    }
   ],
   "source": [
    "pd.DataFrame(cv.cv_results_)"
   ]
  },
  {
   "cell_type": "markdown",
   "id": "3b10f2a2",
   "metadata": {
    "id": "3b10f2a2"
   },
   "source": [
    "Больше про то, как задавать поле поиска и какие еще есть методы оптимизации гиперпараметров можете прочитать здесь\n",
    "\n",
    "https://scikit-learn.org/stable/modules/grid_search.html"
   ]
  }
 ],
 "metadata": {
  "colab": {
   "provenance": []
  },
  "kernelspec": {
   "display_name": "main312",
   "language": "python",
   "name": "python3"
  },
  "language_info": {
   "codemirror_mode": {
    "name": "ipython",
    "version": 3
   },
   "file_extension": ".py",
   "mimetype": "text/x-python",
   "name": "python",
   "nbconvert_exporter": "python",
   "pygments_lexer": "ipython3",
   "version": "3.12.8"
  },
  "toc": {
   "base_numbering": 1,
   "nav_menu": {},
   "number_sections": true,
   "sideBar": true,
   "skip_h1_title": false,
   "title_cell": "Table of Contents",
   "title_sidebar": "Contents",
   "toc_cell": false,
   "toc_position": {},
   "toc_section_display": true,
   "toc_window_display": true
  }
 },
 "nbformat": 4,
 "nbformat_minor": 5
}
