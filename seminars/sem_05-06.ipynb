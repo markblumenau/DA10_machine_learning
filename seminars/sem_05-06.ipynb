{
  "cells": [
    {
      "cell_type": "markdown",
      "id": "abdaed11",
      "metadata": {
        "id": "abdaed11"
      },
      "source": [
        "# Темы семинара: отбор признаков и приложения\n",
        "\n",
        "- Фильтрационные методы\n",
        "- Оберточные методы\n",
        "- Встроенные методы\n",
        "- Нелинейные классификаторы\n",
        "- Сохранение модели"
      ]
    },
    {
      "cell_type": "code",
      "execution_count": 1,
      "id": "b943fa0e",
      "metadata": {
        "id": "b943fa0e"
      },
      "outputs": [],
      "source": [
        "import numpy as np\n",
        "import pandas as pd"
      ]
    },
    {
      "cell_type": "code",
      "execution_count": 5,
      "id": "anV6ALa0n8YA",
      "metadata": {
        "id": "anV6ALa0n8YA"
      },
      "outputs": [],
      "source": [
        "POKEMON = \"./Pokemon.csv\""
      ]
    },
    {
      "cell_type": "code",
      "execution_count": 6,
      "id": "11596569",
      "metadata": {
        "ExecuteTime": {
          "end_time": "2021-10-24T20:18:13.744445Z",
          "start_time": "2021-10-24T20:18:13.737712Z"
        },
        "id": "11596569"
      },
      "outputs": [],
      "source": [
        "data = pd.read_csv(POKEMON)"
      ]
    },
    {
      "cell_type": "code",
      "execution_count": 7,
      "id": "536a5bf6",
      "metadata": {
        "ExecuteTime": {
          "end_time": "2021-10-24T20:18:14.174945Z",
          "start_time": "2021-10-24T20:18:14.154295Z"
        },
        "colab": {
          "base_uri": "https://localhost:8080/",
          "height": 204
        },
        "id": "536a5bf6",
        "outputId": "1a3f541f-ce15-48ad-8195-c1a265179101"
      },
      "outputs": [
        {
          "data": {
            "text/html": [
              "<div>\n",
              "<style scoped>\n",
              "    .dataframe tbody tr th:only-of-type {\n",
              "        vertical-align: middle;\n",
              "    }\n",
              "\n",
              "    .dataframe tbody tr th {\n",
              "        vertical-align: top;\n",
              "    }\n",
              "\n",
              "    .dataframe thead th {\n",
              "        text-align: right;\n",
              "    }\n",
              "</style>\n",
              "<table border=\"1\" class=\"dataframe\">\n",
              "  <thead>\n",
              "    <tr style=\"text-align: right;\">\n",
              "      <th></th>\n",
              "      <th>#</th>\n",
              "      <th>Name</th>\n",
              "      <th>Type 1</th>\n",
              "      <th>Type 2</th>\n",
              "      <th>Total</th>\n",
              "      <th>HP</th>\n",
              "      <th>Attack</th>\n",
              "      <th>Defense</th>\n",
              "      <th>Sp. Atk</th>\n",
              "      <th>Sp. Def</th>\n",
              "      <th>Speed</th>\n",
              "      <th>Generation</th>\n",
              "      <th>Legendary</th>\n",
              "    </tr>\n",
              "  </thead>\n",
              "  <tbody>\n",
              "    <tr>\n",
              "      <th>0</th>\n",
              "      <td>1</td>\n",
              "      <td>Bulbasaur</td>\n",
              "      <td>Grass</td>\n",
              "      <td>Poison</td>\n",
              "      <td>318</td>\n",
              "      <td>45</td>\n",
              "      <td>49</td>\n",
              "      <td>49</td>\n",
              "      <td>65</td>\n",
              "      <td>65</td>\n",
              "      <td>45</td>\n",
              "      <td>1</td>\n",
              "      <td>False</td>\n",
              "    </tr>\n",
              "    <tr>\n",
              "      <th>1</th>\n",
              "      <td>2</td>\n",
              "      <td>Ivysaur</td>\n",
              "      <td>Grass</td>\n",
              "      <td>Poison</td>\n",
              "      <td>405</td>\n",
              "      <td>60</td>\n",
              "      <td>62</td>\n",
              "      <td>63</td>\n",
              "      <td>80</td>\n",
              "      <td>80</td>\n",
              "      <td>60</td>\n",
              "      <td>1</td>\n",
              "      <td>False</td>\n",
              "    </tr>\n",
              "    <tr>\n",
              "      <th>2</th>\n",
              "      <td>3</td>\n",
              "      <td>Venusaur</td>\n",
              "      <td>Grass</td>\n",
              "      <td>Poison</td>\n",
              "      <td>525</td>\n",
              "      <td>80</td>\n",
              "      <td>82</td>\n",
              "      <td>83</td>\n",
              "      <td>100</td>\n",
              "      <td>100</td>\n",
              "      <td>80</td>\n",
              "      <td>1</td>\n",
              "      <td>False</td>\n",
              "    </tr>\n",
              "    <tr>\n",
              "      <th>3</th>\n",
              "      <td>3</td>\n",
              "      <td>VenusaurMega Venusaur</td>\n",
              "      <td>Grass</td>\n",
              "      <td>Poison</td>\n",
              "      <td>625</td>\n",
              "      <td>80</td>\n",
              "      <td>100</td>\n",
              "      <td>123</td>\n",
              "      <td>122</td>\n",
              "      <td>120</td>\n",
              "      <td>80</td>\n",
              "      <td>1</td>\n",
              "      <td>False</td>\n",
              "    </tr>\n",
              "    <tr>\n",
              "      <th>4</th>\n",
              "      <td>4</td>\n",
              "      <td>Charmander</td>\n",
              "      <td>Fire</td>\n",
              "      <td>NaN</td>\n",
              "      <td>309</td>\n",
              "      <td>39</td>\n",
              "      <td>52</td>\n",
              "      <td>43</td>\n",
              "      <td>60</td>\n",
              "      <td>50</td>\n",
              "      <td>65</td>\n",
              "      <td>1</td>\n",
              "      <td>False</td>\n",
              "    </tr>\n",
              "  </tbody>\n",
              "</table>\n",
              "</div>"
            ],
            "text/plain": [
              "   #                   Name Type 1  Type 2  Total  HP  Attack  Defense  \\\n",
              "0  1              Bulbasaur  Grass  Poison    318  45      49       49   \n",
              "1  2                Ivysaur  Grass  Poison    405  60      62       63   \n",
              "2  3               Venusaur  Grass  Poison    525  80      82       83   \n",
              "3  3  VenusaurMega Venusaur  Grass  Poison    625  80     100      123   \n",
              "4  4             Charmander   Fire     NaN    309  39      52       43   \n",
              "\n",
              "   Sp. Atk  Sp. Def  Speed  Generation  Legendary  \n",
              "0       65       65     45           1      False  \n",
              "1       80       80     60           1      False  \n",
              "2      100      100     80           1      False  \n",
              "3      122      120     80           1      False  \n",
              "4       60       50     65           1      False  "
            ]
          },
          "execution_count": 7,
          "metadata": {},
          "output_type": "execute_result"
        }
      ],
      "source": [
        "data.head(5)"
      ]
    },
    {
      "cell_type": "markdown",
      "id": "d6d3fc35",
      "metadata": {
        "id": "d6d3fc35"
      },
      "source": [
        "Columns description (it's crucial!)\n",
        "\n",
        "\n",
        "- #: ID for each pokemon\n",
        "- Name: Name of each pokemon\n",
        "- Type 1: Each pokemon has a type, this determines weakness/resistance to attacks\n",
        "- Type 2: Some pokemon are dual type and have 2\n",
        "- Total: sum of all stats that come after this, a general guide to how strong a pokemon is\n",
        "- HP: hit points, or health, defines how much damage a pokemon can withstand before fainting\n",
        "- Attack: the base modifier for normal attacks (eg. Scratch, Punch)\n",
        "- Defense: the base damage resistance against normal attacks\n",
        "- SP Atk: special attack, the base modifier for special attacks (e.g. fire blast, bubble beam)\n",
        "- SP Def: the base damage resistance against special attacks\n",
        "- Speed: determines which pokemon attacks first each round"
      ]
    },
    {
      "cell_type": "code",
      "execution_count": 8,
      "id": "04cb438b",
      "metadata": {
        "colab": {
          "base_uri": "https://localhost:8080/"
        },
        "id": "04cb438b",
        "outputId": "aa131226-901f-45dd-c814-dcc7c073a17c"
      },
      "outputs": [
        {
          "name": "stdout",
          "output_type": "stream",
          "text": [
            "<class 'pandas.core.frame.DataFrame'>\n",
            "RangeIndex: 800 entries, 0 to 799\n",
            "Data columns (total 13 columns):\n",
            " #   Column      Non-Null Count  Dtype \n",
            "---  ------      --------------  ----- \n",
            " 0   #           800 non-null    int64 \n",
            " 1   Name        800 non-null    object\n",
            " 2   Type 1      800 non-null    object\n",
            " 3   Type 2      414 non-null    object\n",
            " 4   Total       800 non-null    int64 \n",
            " 5   HP          800 non-null    int64 \n",
            " 6   Attack      800 non-null    int64 \n",
            " 7   Defense     800 non-null    int64 \n",
            " 8   Sp. Atk     800 non-null    int64 \n",
            " 9   Sp. Def     800 non-null    int64 \n",
            " 10  Speed       800 non-null    int64 \n",
            " 11  Generation  800 non-null    int64 \n",
            " 12  Legendary   800 non-null    bool  \n",
            "dtypes: bool(1), int64(9), object(3)\n",
            "memory usage: 75.9+ KB\n"
          ]
        }
      ],
      "source": [
        "data.info()"
      ]
    },
    {
      "cell_type": "code",
      "execution_count": 9,
      "id": "8c535806",
      "metadata": {
        "ExecuteTime": {
          "end_time": "2021-10-24T20:18:18.393785Z",
          "start_time": "2021-10-24T20:18:18.385916Z"
        },
        "colab": {
          "base_uri": "https://localhost:8080/",
          "height": 486
        },
        "id": "8c535806",
        "outputId": "e43ad757-ad17-4c76-cd4e-e3527c602a14"
      },
      "outputs": [
        {
          "data": {
            "text/plain": [
              "#               0\n",
              "Name            0\n",
              "Type 1          0\n",
              "Type 2        386\n",
              "Total           0\n",
              "HP              0\n",
              "Attack          0\n",
              "Defense         0\n",
              "Sp. Atk         0\n",
              "Sp. Def         0\n",
              "Speed           0\n",
              "Generation      0\n",
              "Legendary       0\n",
              "dtype: int64"
            ]
          },
          "metadata": {},
          "output_type": "display_data"
        }
      ],
      "source": [
        "# fillna and drop useless cols\n",
        "\n",
        "display(data.isnull().sum())\n",
        "data['Type 2'] = data['Type 2'].fillna('No 2nd type')"
      ]
    },
    {
      "cell_type": "code",
      "execution_count": 10,
      "id": "7426f1af",
      "metadata": {
        "colab": {
          "base_uri": "https://localhost:8080/",
          "height": 486
        },
        "id": "7426f1af",
        "outputId": "c42a7bc1-eb93-49fc-804f-34f2480bd538"
      },
      "outputs": [
        {
          "data": {
            "text/plain": [
              "#             0\n",
              "Name          0\n",
              "Type 1        0\n",
              "Type 2        0\n",
              "Total         0\n",
              "HP            0\n",
              "Attack        0\n",
              "Defense       0\n",
              "Sp. Atk       0\n",
              "Sp. Def       0\n",
              "Speed         0\n",
              "Generation    0\n",
              "Legendary     0\n",
              "dtype: int64"
            ]
          },
          "metadata": {},
          "output_type": "display_data"
        }
      ],
      "source": [
        "display(data.isnull().sum())"
      ]
    },
    {
      "cell_type": "code",
      "execution_count": 11,
      "id": "ff5ecd35",
      "metadata": {
        "id": "ff5ecd35"
      },
      "outputs": [],
      "source": [
        "data.drop(columns=['#'], inplace=True)"
      ]
    },
    {
      "cell_type": "code",
      "execution_count": 12,
      "id": "a9ba5316",
      "metadata": {
        "id": "a9ba5316"
      },
      "outputs": [],
      "source": [
        "data.drop(columns=['Name'], inplace=True)"
      ]
    },
    {
      "cell_type": "code",
      "execution_count": 13,
      "id": "9417d6b8",
      "metadata": {
        "colab": {
          "base_uri": "https://localhost:8080/",
          "height": 419
        },
        "id": "9417d6b8",
        "outputId": "bb64bc54-23fb-4e4a-aaba-65f052dd0589"
      },
      "outputs": [
        {
          "data": {
            "text/html": [
              "<div>\n",
              "<style scoped>\n",
              "    .dataframe tbody tr th:only-of-type {\n",
              "        vertical-align: middle;\n",
              "    }\n",
              "\n",
              "    .dataframe tbody tr th {\n",
              "        vertical-align: top;\n",
              "    }\n",
              "\n",
              "    .dataframe thead th {\n",
              "        text-align: right;\n",
              "    }\n",
              "</style>\n",
              "<table border=\"1\" class=\"dataframe\">\n",
              "  <thead>\n",
              "    <tr style=\"text-align: right;\">\n",
              "      <th></th>\n",
              "      <th>Type 1</th>\n",
              "      <th>Type 2</th>\n",
              "      <th>Total</th>\n",
              "      <th>HP</th>\n",
              "      <th>Attack</th>\n",
              "      <th>Defense</th>\n",
              "      <th>Sp. Atk</th>\n",
              "      <th>Sp. Def</th>\n",
              "      <th>Speed</th>\n",
              "      <th>Generation</th>\n",
              "      <th>Legendary</th>\n",
              "    </tr>\n",
              "  </thead>\n",
              "  <tbody>\n",
              "    <tr>\n",
              "      <th>0</th>\n",
              "      <td>Grass</td>\n",
              "      <td>Poison</td>\n",
              "      <td>318</td>\n",
              "      <td>45</td>\n",
              "      <td>49</td>\n",
              "      <td>49</td>\n",
              "      <td>65</td>\n",
              "      <td>65</td>\n",
              "      <td>45</td>\n",
              "      <td>1</td>\n",
              "      <td>False</td>\n",
              "    </tr>\n",
              "    <tr>\n",
              "      <th>1</th>\n",
              "      <td>Grass</td>\n",
              "      <td>Poison</td>\n",
              "      <td>405</td>\n",
              "      <td>60</td>\n",
              "      <td>62</td>\n",
              "      <td>63</td>\n",
              "      <td>80</td>\n",
              "      <td>80</td>\n",
              "      <td>60</td>\n",
              "      <td>1</td>\n",
              "      <td>False</td>\n",
              "    </tr>\n",
              "    <tr>\n",
              "      <th>2</th>\n",
              "      <td>Grass</td>\n",
              "      <td>Poison</td>\n",
              "      <td>525</td>\n",
              "      <td>80</td>\n",
              "      <td>82</td>\n",
              "      <td>83</td>\n",
              "      <td>100</td>\n",
              "      <td>100</td>\n",
              "      <td>80</td>\n",
              "      <td>1</td>\n",
              "      <td>False</td>\n",
              "    </tr>\n",
              "    <tr>\n",
              "      <th>3</th>\n",
              "      <td>Grass</td>\n",
              "      <td>Poison</td>\n",
              "      <td>625</td>\n",
              "      <td>80</td>\n",
              "      <td>100</td>\n",
              "      <td>123</td>\n",
              "      <td>122</td>\n",
              "      <td>120</td>\n",
              "      <td>80</td>\n",
              "      <td>1</td>\n",
              "      <td>False</td>\n",
              "    </tr>\n",
              "    <tr>\n",
              "      <th>4</th>\n",
              "      <td>Fire</td>\n",
              "      <td>No 2nd type</td>\n",
              "      <td>309</td>\n",
              "      <td>39</td>\n",
              "      <td>52</td>\n",
              "      <td>43</td>\n",
              "      <td>60</td>\n",
              "      <td>50</td>\n",
              "      <td>65</td>\n",
              "      <td>1</td>\n",
              "      <td>False</td>\n",
              "    </tr>\n",
              "    <tr>\n",
              "      <th>...</th>\n",
              "      <td>...</td>\n",
              "      <td>...</td>\n",
              "      <td>...</td>\n",
              "      <td>...</td>\n",
              "      <td>...</td>\n",
              "      <td>...</td>\n",
              "      <td>...</td>\n",
              "      <td>...</td>\n",
              "      <td>...</td>\n",
              "      <td>...</td>\n",
              "      <td>...</td>\n",
              "    </tr>\n",
              "    <tr>\n",
              "      <th>795</th>\n",
              "      <td>Rock</td>\n",
              "      <td>Fairy</td>\n",
              "      <td>600</td>\n",
              "      <td>50</td>\n",
              "      <td>100</td>\n",
              "      <td>150</td>\n",
              "      <td>100</td>\n",
              "      <td>150</td>\n",
              "      <td>50</td>\n",
              "      <td>6</td>\n",
              "      <td>True</td>\n",
              "    </tr>\n",
              "    <tr>\n",
              "      <th>796</th>\n",
              "      <td>Rock</td>\n",
              "      <td>Fairy</td>\n",
              "      <td>700</td>\n",
              "      <td>50</td>\n",
              "      <td>160</td>\n",
              "      <td>110</td>\n",
              "      <td>160</td>\n",
              "      <td>110</td>\n",
              "      <td>110</td>\n",
              "      <td>6</td>\n",
              "      <td>True</td>\n",
              "    </tr>\n",
              "    <tr>\n",
              "      <th>797</th>\n",
              "      <td>Psychic</td>\n",
              "      <td>Ghost</td>\n",
              "      <td>600</td>\n",
              "      <td>80</td>\n",
              "      <td>110</td>\n",
              "      <td>60</td>\n",
              "      <td>150</td>\n",
              "      <td>130</td>\n",
              "      <td>70</td>\n",
              "      <td>6</td>\n",
              "      <td>True</td>\n",
              "    </tr>\n",
              "    <tr>\n",
              "      <th>798</th>\n",
              "      <td>Psychic</td>\n",
              "      <td>Dark</td>\n",
              "      <td>680</td>\n",
              "      <td>80</td>\n",
              "      <td>160</td>\n",
              "      <td>60</td>\n",
              "      <td>170</td>\n",
              "      <td>130</td>\n",
              "      <td>80</td>\n",
              "      <td>6</td>\n",
              "      <td>True</td>\n",
              "    </tr>\n",
              "    <tr>\n",
              "      <th>799</th>\n",
              "      <td>Fire</td>\n",
              "      <td>Water</td>\n",
              "      <td>600</td>\n",
              "      <td>80</td>\n",
              "      <td>110</td>\n",
              "      <td>120</td>\n",
              "      <td>130</td>\n",
              "      <td>90</td>\n",
              "      <td>70</td>\n",
              "      <td>6</td>\n",
              "      <td>True</td>\n",
              "    </tr>\n",
              "  </tbody>\n",
              "</table>\n",
              "<p>800 rows × 11 columns</p>\n",
              "</div>"
            ],
            "text/plain": [
              "      Type 1       Type 2  Total  HP  Attack  Defense  Sp. Atk  Sp. Def  \\\n",
              "0      Grass       Poison    318  45      49       49       65       65   \n",
              "1      Grass       Poison    405  60      62       63       80       80   \n",
              "2      Grass       Poison    525  80      82       83      100      100   \n",
              "3      Grass       Poison    625  80     100      123      122      120   \n",
              "4       Fire  No 2nd type    309  39      52       43       60       50   \n",
              "..       ...          ...    ...  ..     ...      ...      ...      ...   \n",
              "795     Rock        Fairy    600  50     100      150      100      150   \n",
              "796     Rock        Fairy    700  50     160      110      160      110   \n",
              "797  Psychic        Ghost    600  80     110       60      150      130   \n",
              "798  Psychic         Dark    680  80     160       60      170      130   \n",
              "799     Fire        Water    600  80     110      120      130       90   \n",
              "\n",
              "     Speed  Generation  Legendary  \n",
              "0       45           1      False  \n",
              "1       60           1      False  \n",
              "2       80           1      False  \n",
              "3       80           1      False  \n",
              "4       65           1      False  \n",
              "..     ...         ...        ...  \n",
              "795     50           6       True  \n",
              "796    110           6       True  \n",
              "797     70           6       True  \n",
              "798     80           6       True  \n",
              "799     70           6       True  \n",
              "\n",
              "[800 rows x 11 columns]"
            ]
          },
          "execution_count": 13,
          "metadata": {},
          "output_type": "execute_result"
        }
      ],
      "source": [
        "data"
      ]
    },
    {
      "cell_type": "code",
      "execution_count": 14,
      "id": "b8189335",
      "metadata": {
        "ExecuteTime": {
          "end_time": "2021-10-24T20:18:19.432056Z",
          "start_time": "2021-10-24T20:18:19.428250Z"
        },
        "id": "b8189335"
      },
      "outputs": [],
      "source": [
        "X = data.drop(columns='Legendary')\n",
        "y = data['Legendary'].astype('int')"
      ]
    },
    {
      "cell_type": "code",
      "execution_count": 15,
      "id": "ae422934",
      "metadata": {
        "colab": {
          "base_uri": "https://localhost:8080/",
          "height": 176
        },
        "id": "ae422934",
        "outputId": "5c7b3ef1-3957-4037-a714-bbc526a04a0c"
      },
      "outputs": [
        {
          "data": {
            "text/plain": [
              "Legendary\n",
              "0    735\n",
              "1     65\n",
              "Name: count, dtype: int64"
            ]
          },
          "execution_count": 15,
          "metadata": {},
          "output_type": "execute_result"
        }
      ],
      "source": [
        "y.value_counts()"
      ]
    },
    {
      "cell_type": "code",
      "execution_count": 16,
      "id": "9f08e314",
      "metadata": {
        "ExecuteTime": {
          "end_time": "2021-10-24T20:18:20.023876Z",
          "start_time": "2021-10-24T20:18:20.018390Z"
        },
        "colab": {
          "base_uri": "https://localhost:8080/",
          "height": 176
        },
        "id": "9f08e314",
        "outputId": "ebc58ea3-c7b3-4cc2-938a-8ac267a4eebf"
      },
      "outputs": [
        {
          "data": {
            "text/plain": [
              "Legendary\n",
              "0    0.91875\n",
              "1    0.08125\n",
              "Name: proportion, dtype: float64"
            ]
          },
          "execution_count": 16,
          "metadata": {},
          "output_type": "execute_result"
        }
      ],
      "source": [
        "y.value_counts(normalize=True)"
      ]
    },
    {
      "cell_type": "markdown",
      "id": "794932ac",
      "metadata": {
        "id": "794932ac"
      },
      "source": [
        "# Make some default pipeline"
      ]
    },
    {
      "cell_type": "code",
      "execution_count": 17,
      "id": "1ca1083b",
      "metadata": {
        "ExecuteTime": {
          "end_time": "2021-10-24T20:18:25.238240Z",
          "start_time": "2021-10-24T20:18:24.565781Z"
        },
        "colab": {
          "base_uri": "https://localhost:8080/",
          "height": 378
        },
        "id": "1ca1083b",
        "outputId": "212f6e0b-8437-46c9-ba58-3213449df522"
      },
      "outputs": [],
      "source": [
        "from sklearn.feature_selection import SelectKBest, SelectPercentile\n",
        "from sklearn.pipeline import Pipeline\n",
        "from sklearn.preprocessing import PolynomialFeatures, StandardScaler\n",
        "from category_encoders.leave_one_out import LeaveOneOutEncoder\n",
        "from sklearn.svm import SVC\n",
        "from sklearn.model_selection import cross_validate\n",
        "import sklearn"
      ]
    },
    {
      "cell_type": "code",
      "execution_count": 18,
      "id": "f9abafe5",
      "metadata": {
        "id": "f9abafe5"
      },
      "outputs": [
        {
          "data": {
            "text/html": [
              "<div>\n",
              "<style scoped>\n",
              "    .dataframe tbody tr th:only-of-type {\n",
              "        vertical-align: middle;\n",
              "    }\n",
              "\n",
              "    .dataframe tbody tr th {\n",
              "        vertical-align: top;\n",
              "    }\n",
              "\n",
              "    .dataframe thead th {\n",
              "        text-align: right;\n",
              "    }\n",
              "</style>\n",
              "<table border=\"1\" class=\"dataframe\">\n",
              "  <thead>\n",
              "    <tr style=\"text-align: right;\">\n",
              "      <th></th>\n",
              "      <th>Type 1</th>\n",
              "      <th>Type 2</th>\n",
              "      <th>Total</th>\n",
              "      <th>HP</th>\n",
              "      <th>Attack</th>\n",
              "      <th>Defense</th>\n",
              "      <th>Sp. Atk</th>\n",
              "      <th>Sp. Def</th>\n",
              "      <th>Speed</th>\n",
              "      <th>Generation</th>\n",
              "      <th>Legendary</th>\n",
              "    </tr>\n",
              "  </thead>\n",
              "  <tbody>\n",
              "    <tr>\n",
              "      <th>0</th>\n",
              "      <td>Grass</td>\n",
              "      <td>Poison</td>\n",
              "      <td>318</td>\n",
              "      <td>45</td>\n",
              "      <td>49</td>\n",
              "      <td>49</td>\n",
              "      <td>65</td>\n",
              "      <td>65</td>\n",
              "      <td>45</td>\n",
              "      <td>1</td>\n",
              "      <td>False</td>\n",
              "    </tr>\n",
              "    <tr>\n",
              "      <th>1</th>\n",
              "      <td>Grass</td>\n",
              "      <td>Poison</td>\n",
              "      <td>405</td>\n",
              "      <td>60</td>\n",
              "      <td>62</td>\n",
              "      <td>63</td>\n",
              "      <td>80</td>\n",
              "      <td>80</td>\n",
              "      <td>60</td>\n",
              "      <td>1</td>\n",
              "      <td>False</td>\n",
              "    </tr>\n",
              "  </tbody>\n",
              "</table>\n",
              "</div>"
            ],
            "text/plain": [
              "  Type 1  Type 2  Total  HP  Attack  Defense  Sp. Atk  Sp. Def  Speed  \\\n",
              "0  Grass  Poison    318  45      49       49       65       65     45   \n",
              "1  Grass  Poison    405  60      62       63       80       80     60   \n",
              "\n",
              "   Generation  Legendary  \n",
              "0           1      False  \n",
              "1           1      False  "
            ]
          },
          "execution_count": 18,
          "metadata": {},
          "output_type": "execute_result"
        }
      ],
      "source": [
        "data.head(2)"
      ]
    },
    {
      "cell_type": "code",
      "execution_count": 31,
      "id": "a422a95b",
      "metadata": {
        "ExecuteTime": {
          "end_time": "2021-10-24T20:18:25.243494Z",
          "start_time": "2021-10-24T20:18:25.240399Z"
        },
        "id": "a422a95b"
      },
      "outputs": [],
      "source": [
        "# define cat_cols\n",
        "\n",
        "cat_cols = ['Type 1', 'Type 2']\n",
        "\n",
        "default_pipeline = Pipeline([\n",
        "    ('cat_encoder_', LeaveOneOutEncoder(cols=cat_cols)),\n",
        "    ('scaler_', StandardScaler()),\n",
        "    ('model_', SVC(kernel='linear'))]\n",
        ")"
      ]
    },
    {
      "cell_type": "code",
      "execution_count": 32,
      "id": "7711c467",
      "metadata": {
        "ExecuteTime": {
          "end_time": "2021-10-24T20:18:31.094311Z",
          "start_time": "2021-10-24T20:18:30.089861Z"
        },
        "id": "7711c467"
      },
      "outputs": [],
      "source": [
        "cv_res1 = cross_validate(default_pipeline,\n",
        "                        X,\n",
        "                        y,\n",
        "                        cv=5,\n",
        "                        scoring='f1',\n",
        "                        n_jobs=-1,\n",
        "                        return_train_score=True\n",
        "                       )"
      ]
    },
    {
      "cell_type": "code",
      "execution_count": 33,
      "id": "70276735",
      "metadata": {
        "ExecuteTime": {
          "end_time": "2021-10-24T20:18:33.772638Z",
          "start_time": "2021-10-24T20:18:33.767530Z"
        },
        "id": "70276735"
      },
      "outputs": [
        {
          "data": {
            "text/plain": [
              "{'fit_time': array([0.00920796, 0.00688624, 0.00825119, 0.00699186, 0.00631714]),\n",
              " 'score_time': array([0.00357413, 0.00229406, 0.00329494, 0.00213289, 0.00208688]),\n",
              " 'test_score': array([0.5       , 0.72727273, 0.47619048, 0.38095238, 0.64864865]),\n",
              " 'train_score': array([0.71287129, 0.56097561, 0.6744186 , 0.7311828 , 0.72727273])}"
            ]
          },
          "execution_count": 33,
          "metadata": {},
          "output_type": "execute_result"
        }
      ],
      "source": [
        "cv_res1"
      ]
    },
    {
      "cell_type": "code",
      "execution_count": 34,
      "id": "30ac9f47",
      "metadata": {
        "ExecuteTime": {
          "end_time": "2021-10-24T20:19:02.086505Z",
          "start_time": "2021-10-24T20:19:02.082394Z"
        },
        "id": "30ac9f47"
      },
      "outputs": [
        {
          "data": {
            "text/plain": [
              "np.float64(0.5466128466128466)"
            ]
          },
          "execution_count": 34,
          "metadata": {},
          "output_type": "execute_result"
        }
      ],
      "source": [
        "cv_res1['test_score'].mean()"
      ]
    },
    {
      "cell_type": "markdown",
      "id": "66fd75f0",
      "metadata": {
        "id": "66fd75f0"
      },
      "source": [
        "# Make pipeline more complicated"
      ]
    },
    {
      "cell_type": "code",
      "execution_count": 35,
      "id": "1782aa47",
      "metadata": {
        "ExecuteTime": {
          "end_time": "2021-10-24T20:19:08.097819Z",
          "start_time": "2021-10-24T20:19:08.094458Z"
        },
        "id": "1782aa47"
      },
      "outputs": [],
      "source": [
        "# difficult pipeline\n",
        "\n",
        "pipe_dif = Pipeline([\n",
        "    ('cat_encoder_', LeaveOneOutEncoder(cols=cat_cols)),\n",
        "    ('poly_featurizer_', PolynomialFeatures(degree=4)),\n",
        "    ('scaler_', StandardScaler()),\n",
        "    ('model_', SVC(kernel='linear'))]\n",
        ")"
      ]
    },
    {
      "cell_type": "code",
      "execution_count": 36,
      "id": "d79125ad",
      "metadata": {
        "ExecuteTime": {
          "end_time": "2021-10-24T20:19:11.534278Z",
          "start_time": "2021-10-24T20:19:10.844040Z"
        },
        "id": "d79125ad"
      },
      "outputs": [
        {
          "data": {
            "text/plain": [
              "{'fit_time': array([0.02871203, 0.02355599, 0.02981114, 0.02984619, 0.02354813]),\n",
              " 'score_time': array([0.00528884, 0.00476909, 0.00475407, 0.00479102, 0.00478482]),\n",
              " 'test_score': array([0.375     , 0.88888889, 0.5       , 0.66666667, 0.53658537]),\n",
              " 'train_score': array([0.95145631, 0.89583333, 0.97142857, 0.96153846, 0.98076923])}"
            ]
          },
          "execution_count": 36,
          "metadata": {},
          "output_type": "execute_result"
        }
      ],
      "source": [
        "cv_res2 = cross_validate(pipe_dif,\n",
        "                        X,\n",
        "                        y,\n",
        "                        cv=5,\n",
        "                        scoring='f1',\n",
        "                        n_jobs=-1,\n",
        "                        return_train_score=True\n",
        "                       )\n",
        "\n",
        "cv_res2"
      ]
    },
    {
      "cell_type": "code",
      "execution_count": 37,
      "id": "fe3b2b1e",
      "metadata": {
        "ExecuteTime": {
          "end_time": "2021-10-24T20:19:28.657790Z",
          "start_time": "2021-10-24T20:19:28.653899Z"
        },
        "id": "fe3b2b1e"
      },
      "outputs": [
        {
          "data": {
            "text/plain": [
              "np.float64(0.5934281842818427)"
            ]
          },
          "execution_count": 37,
          "metadata": {},
          "output_type": "execute_result"
        }
      ],
      "source": [
        "cv_res2['test_score'].mean()"
      ]
    },
    {
      "cell_type": "markdown",
      "id": "b4c2faae",
      "metadata": {
        "id": "b4c2faae"
      },
      "source": [
        "# Introduce feature selectors"
      ]
    },
    {
      "cell_type": "code",
      "execution_count": 38,
      "id": "f0ffcfa5",
      "metadata": {
        "ExecuteTime": {
          "end_time": "2021-10-24T20:19:41.314430Z",
          "start_time": "2021-10-24T20:19:41.311959Z"
        },
        "id": "f0ffcfa5"
      },
      "outputs": [],
      "source": [
        "data_tr = pipe_dif[:-1]"
      ]
    },
    {
      "cell_type": "code",
      "execution_count": 39,
      "id": "e549da75",
      "metadata": {
        "ExecuteTime": {
          "end_time": "2021-10-24T20:19:41.681665Z",
          "start_time": "2021-10-24T20:19:41.675526Z"
        },
        "id": "e549da75"
      },
      "outputs": [
        {
          "data": {
            "text/html": [
              "<style>#sk-container-id-1 {\n",
              "  /* Definition of color scheme common for light and dark mode */\n",
              "  --sklearn-color-text: #000;\n",
              "  --sklearn-color-text-muted: #666;\n",
              "  --sklearn-color-line: gray;\n",
              "  /* Definition of color scheme for unfitted estimators */\n",
              "  --sklearn-color-unfitted-level-0: #fff5e6;\n",
              "  --sklearn-color-unfitted-level-1: #f6e4d2;\n",
              "  --sklearn-color-unfitted-level-2: #ffe0b3;\n",
              "  --sklearn-color-unfitted-level-3: chocolate;\n",
              "  /* Definition of color scheme for fitted estimators */\n",
              "  --sklearn-color-fitted-level-0: #f0f8ff;\n",
              "  --sklearn-color-fitted-level-1: #d4ebff;\n",
              "  --sklearn-color-fitted-level-2: #b3dbfd;\n",
              "  --sklearn-color-fitted-level-3: cornflowerblue;\n",
              "\n",
              "  /* Specific color for light theme */\n",
              "  --sklearn-color-text-on-default-background: var(--sg-text-color, var(--theme-code-foreground, var(--jp-content-font-color1, black)));\n",
              "  --sklearn-color-background: var(--sg-background-color, var(--theme-background, var(--jp-layout-color0, white)));\n",
              "  --sklearn-color-border-box: var(--sg-text-color, var(--theme-code-foreground, var(--jp-content-font-color1, black)));\n",
              "  --sklearn-color-icon: #696969;\n",
              "\n",
              "  @media (prefers-color-scheme: dark) {\n",
              "    /* Redefinition of color scheme for dark theme */\n",
              "    --sklearn-color-text-on-default-background: var(--sg-text-color, var(--theme-code-foreground, var(--jp-content-font-color1, white)));\n",
              "    --sklearn-color-background: var(--sg-background-color, var(--theme-background, var(--jp-layout-color0, #111)));\n",
              "    --sklearn-color-border-box: var(--sg-text-color, var(--theme-code-foreground, var(--jp-content-font-color1, white)));\n",
              "    --sklearn-color-icon: #878787;\n",
              "  }\n",
              "}\n",
              "\n",
              "#sk-container-id-1 {\n",
              "  color: var(--sklearn-color-text);\n",
              "}\n",
              "\n",
              "#sk-container-id-1 pre {\n",
              "  padding: 0;\n",
              "}\n",
              "\n",
              "#sk-container-id-1 input.sk-hidden--visually {\n",
              "  border: 0;\n",
              "  clip: rect(1px 1px 1px 1px);\n",
              "  clip: rect(1px, 1px, 1px, 1px);\n",
              "  height: 1px;\n",
              "  margin: -1px;\n",
              "  overflow: hidden;\n",
              "  padding: 0;\n",
              "  position: absolute;\n",
              "  width: 1px;\n",
              "}\n",
              "\n",
              "#sk-container-id-1 div.sk-dashed-wrapped {\n",
              "  border: 1px dashed var(--sklearn-color-line);\n",
              "  margin: 0 0.4em 0.5em 0.4em;\n",
              "  box-sizing: border-box;\n",
              "  padding-bottom: 0.4em;\n",
              "  background-color: var(--sklearn-color-background);\n",
              "}\n",
              "\n",
              "#sk-container-id-1 div.sk-container {\n",
              "  /* jupyter's `normalize.less` sets `[hidden] { display: none; }`\n",
              "     but bootstrap.min.css set `[hidden] { display: none !important; }`\n",
              "     so we also need the `!important` here to be able to override the\n",
              "     default hidden behavior on the sphinx rendered scikit-learn.org.\n",
              "     See: https://github.com/scikit-learn/scikit-learn/issues/21755 */\n",
              "  display: inline-block !important;\n",
              "  position: relative;\n",
              "}\n",
              "\n",
              "#sk-container-id-1 div.sk-text-repr-fallback {\n",
              "  display: none;\n",
              "}\n",
              "\n",
              "div.sk-parallel-item,\n",
              "div.sk-serial,\n",
              "div.sk-item {\n",
              "  /* draw centered vertical line to link estimators */\n",
              "  background-image: linear-gradient(var(--sklearn-color-text-on-default-background), var(--sklearn-color-text-on-default-background));\n",
              "  background-size: 2px 100%;\n",
              "  background-repeat: no-repeat;\n",
              "  background-position: center center;\n",
              "}\n",
              "\n",
              "/* Parallel-specific style estimator block */\n",
              "\n",
              "#sk-container-id-1 div.sk-parallel-item::after {\n",
              "  content: \"\";\n",
              "  width: 100%;\n",
              "  border-bottom: 2px solid var(--sklearn-color-text-on-default-background);\n",
              "  flex-grow: 1;\n",
              "}\n",
              "\n",
              "#sk-container-id-1 div.sk-parallel {\n",
              "  display: flex;\n",
              "  align-items: stretch;\n",
              "  justify-content: center;\n",
              "  background-color: var(--sklearn-color-background);\n",
              "  position: relative;\n",
              "}\n",
              "\n",
              "#sk-container-id-1 div.sk-parallel-item {\n",
              "  display: flex;\n",
              "  flex-direction: column;\n",
              "}\n",
              "\n",
              "#sk-container-id-1 div.sk-parallel-item:first-child::after {\n",
              "  align-self: flex-end;\n",
              "  width: 50%;\n",
              "}\n",
              "\n",
              "#sk-container-id-1 div.sk-parallel-item:last-child::after {\n",
              "  align-self: flex-start;\n",
              "  width: 50%;\n",
              "}\n",
              "\n",
              "#sk-container-id-1 div.sk-parallel-item:only-child::after {\n",
              "  width: 0;\n",
              "}\n",
              "\n",
              "/* Serial-specific style estimator block */\n",
              "\n",
              "#sk-container-id-1 div.sk-serial {\n",
              "  display: flex;\n",
              "  flex-direction: column;\n",
              "  align-items: center;\n",
              "  background-color: var(--sklearn-color-background);\n",
              "  padding-right: 1em;\n",
              "  padding-left: 1em;\n",
              "}\n",
              "\n",
              "\n",
              "/* Toggleable style: style used for estimator/Pipeline/ColumnTransformer box that is\n",
              "clickable and can be expanded/collapsed.\n",
              "- Pipeline and ColumnTransformer use this feature and define the default style\n",
              "- Estimators will overwrite some part of the style using the `sk-estimator` class\n",
              "*/\n",
              "\n",
              "/* Pipeline and ColumnTransformer style (default) */\n",
              "\n",
              "#sk-container-id-1 div.sk-toggleable {\n",
              "  /* Default theme specific background. It is overwritten whether we have a\n",
              "  specific estimator or a Pipeline/ColumnTransformer */\n",
              "  background-color: var(--sklearn-color-background);\n",
              "}\n",
              "\n",
              "/* Toggleable label */\n",
              "#sk-container-id-1 label.sk-toggleable__label {\n",
              "  cursor: pointer;\n",
              "  display: flex;\n",
              "  width: 100%;\n",
              "  margin-bottom: 0;\n",
              "  padding: 0.5em;\n",
              "  box-sizing: border-box;\n",
              "  text-align: center;\n",
              "  align-items: start;\n",
              "  justify-content: space-between;\n",
              "  gap: 0.5em;\n",
              "}\n",
              "\n",
              "#sk-container-id-1 label.sk-toggleable__label .caption {\n",
              "  font-size: 0.6rem;\n",
              "  font-weight: lighter;\n",
              "  color: var(--sklearn-color-text-muted);\n",
              "}\n",
              "\n",
              "#sk-container-id-1 label.sk-toggleable__label-arrow:before {\n",
              "  /* Arrow on the left of the label */\n",
              "  content: \"▸\";\n",
              "  float: left;\n",
              "  margin-right: 0.25em;\n",
              "  color: var(--sklearn-color-icon);\n",
              "}\n",
              "\n",
              "#sk-container-id-1 label.sk-toggleable__label-arrow:hover:before {\n",
              "  color: var(--sklearn-color-text);\n",
              "}\n",
              "\n",
              "/* Toggleable content - dropdown */\n",
              "\n",
              "#sk-container-id-1 div.sk-toggleable__content {\n",
              "  max-height: 0;\n",
              "  max-width: 0;\n",
              "  overflow: hidden;\n",
              "  text-align: left;\n",
              "  /* unfitted */\n",
              "  background-color: var(--sklearn-color-unfitted-level-0);\n",
              "}\n",
              "\n",
              "#sk-container-id-1 div.sk-toggleable__content.fitted {\n",
              "  /* fitted */\n",
              "  background-color: var(--sklearn-color-fitted-level-0);\n",
              "}\n",
              "\n",
              "#sk-container-id-1 div.sk-toggleable__content pre {\n",
              "  margin: 0.2em;\n",
              "  border-radius: 0.25em;\n",
              "  color: var(--sklearn-color-text);\n",
              "  /* unfitted */\n",
              "  background-color: var(--sklearn-color-unfitted-level-0);\n",
              "}\n",
              "\n",
              "#sk-container-id-1 div.sk-toggleable__content.fitted pre {\n",
              "  /* unfitted */\n",
              "  background-color: var(--sklearn-color-fitted-level-0);\n",
              "}\n",
              "\n",
              "#sk-container-id-1 input.sk-toggleable__control:checked~div.sk-toggleable__content {\n",
              "  /* Expand drop-down */\n",
              "  max-height: 200px;\n",
              "  max-width: 100%;\n",
              "  overflow: auto;\n",
              "}\n",
              "\n",
              "#sk-container-id-1 input.sk-toggleable__control:checked~label.sk-toggleable__label-arrow:before {\n",
              "  content: \"▾\";\n",
              "}\n",
              "\n",
              "/* Pipeline/ColumnTransformer-specific style */\n",
              "\n",
              "#sk-container-id-1 div.sk-label input.sk-toggleable__control:checked~label.sk-toggleable__label {\n",
              "  color: var(--sklearn-color-text);\n",
              "  background-color: var(--sklearn-color-unfitted-level-2);\n",
              "}\n",
              "\n",
              "#sk-container-id-1 div.sk-label.fitted input.sk-toggleable__control:checked~label.sk-toggleable__label {\n",
              "  background-color: var(--sklearn-color-fitted-level-2);\n",
              "}\n",
              "\n",
              "/* Estimator-specific style */\n",
              "\n",
              "/* Colorize estimator box */\n",
              "#sk-container-id-1 div.sk-estimator input.sk-toggleable__control:checked~label.sk-toggleable__label {\n",
              "  /* unfitted */\n",
              "  background-color: var(--sklearn-color-unfitted-level-2);\n",
              "}\n",
              "\n",
              "#sk-container-id-1 div.sk-estimator.fitted input.sk-toggleable__control:checked~label.sk-toggleable__label {\n",
              "  /* fitted */\n",
              "  background-color: var(--sklearn-color-fitted-level-2);\n",
              "}\n",
              "\n",
              "#sk-container-id-1 div.sk-label label.sk-toggleable__label,\n",
              "#sk-container-id-1 div.sk-label label {\n",
              "  /* The background is the default theme color */\n",
              "  color: var(--sklearn-color-text-on-default-background);\n",
              "}\n",
              "\n",
              "/* On hover, darken the color of the background */\n",
              "#sk-container-id-1 div.sk-label:hover label.sk-toggleable__label {\n",
              "  color: var(--sklearn-color-text);\n",
              "  background-color: var(--sklearn-color-unfitted-level-2);\n",
              "}\n",
              "\n",
              "/* Label box, darken color on hover, fitted */\n",
              "#sk-container-id-1 div.sk-label.fitted:hover label.sk-toggleable__label.fitted {\n",
              "  color: var(--sklearn-color-text);\n",
              "  background-color: var(--sklearn-color-fitted-level-2);\n",
              "}\n",
              "\n",
              "/* Estimator label */\n",
              "\n",
              "#sk-container-id-1 div.sk-label label {\n",
              "  font-family: monospace;\n",
              "  font-weight: bold;\n",
              "  display: inline-block;\n",
              "  line-height: 1.2em;\n",
              "}\n",
              "\n",
              "#sk-container-id-1 div.sk-label-container {\n",
              "  text-align: center;\n",
              "}\n",
              "\n",
              "/* Estimator-specific */\n",
              "#sk-container-id-1 div.sk-estimator {\n",
              "  font-family: monospace;\n",
              "  border: 1px dotted var(--sklearn-color-border-box);\n",
              "  border-radius: 0.25em;\n",
              "  box-sizing: border-box;\n",
              "  margin-bottom: 0.5em;\n",
              "  /* unfitted */\n",
              "  background-color: var(--sklearn-color-unfitted-level-0);\n",
              "}\n",
              "\n",
              "#sk-container-id-1 div.sk-estimator.fitted {\n",
              "  /* fitted */\n",
              "  background-color: var(--sklearn-color-fitted-level-0);\n",
              "}\n",
              "\n",
              "/* on hover */\n",
              "#sk-container-id-1 div.sk-estimator:hover {\n",
              "  /* unfitted */\n",
              "  background-color: var(--sklearn-color-unfitted-level-2);\n",
              "}\n",
              "\n",
              "#sk-container-id-1 div.sk-estimator.fitted:hover {\n",
              "  /* fitted */\n",
              "  background-color: var(--sklearn-color-fitted-level-2);\n",
              "}\n",
              "\n",
              "/* Specification for estimator info (e.g. \"i\" and \"?\") */\n",
              "\n",
              "/* Common style for \"i\" and \"?\" */\n",
              "\n",
              ".sk-estimator-doc-link,\n",
              "a:link.sk-estimator-doc-link,\n",
              "a:visited.sk-estimator-doc-link {\n",
              "  float: right;\n",
              "  font-size: smaller;\n",
              "  line-height: 1em;\n",
              "  font-family: monospace;\n",
              "  background-color: var(--sklearn-color-background);\n",
              "  border-radius: 1em;\n",
              "  height: 1em;\n",
              "  width: 1em;\n",
              "  text-decoration: none !important;\n",
              "  margin-left: 0.5em;\n",
              "  text-align: center;\n",
              "  /* unfitted */\n",
              "  border: var(--sklearn-color-unfitted-level-1) 1pt solid;\n",
              "  color: var(--sklearn-color-unfitted-level-1);\n",
              "}\n",
              "\n",
              ".sk-estimator-doc-link.fitted,\n",
              "a:link.sk-estimator-doc-link.fitted,\n",
              "a:visited.sk-estimator-doc-link.fitted {\n",
              "  /* fitted */\n",
              "  border: var(--sklearn-color-fitted-level-1) 1pt solid;\n",
              "  color: var(--sklearn-color-fitted-level-1);\n",
              "}\n",
              "\n",
              "/* On hover */\n",
              "div.sk-estimator:hover .sk-estimator-doc-link:hover,\n",
              ".sk-estimator-doc-link:hover,\n",
              "div.sk-label-container:hover .sk-estimator-doc-link:hover,\n",
              ".sk-estimator-doc-link:hover {\n",
              "  /* unfitted */\n",
              "  background-color: var(--sklearn-color-unfitted-level-3);\n",
              "  color: var(--sklearn-color-background);\n",
              "  text-decoration: none;\n",
              "}\n",
              "\n",
              "div.sk-estimator.fitted:hover .sk-estimator-doc-link.fitted:hover,\n",
              ".sk-estimator-doc-link.fitted:hover,\n",
              "div.sk-label-container:hover .sk-estimator-doc-link.fitted:hover,\n",
              ".sk-estimator-doc-link.fitted:hover {\n",
              "  /* fitted */\n",
              "  background-color: var(--sklearn-color-fitted-level-3);\n",
              "  color: var(--sklearn-color-background);\n",
              "  text-decoration: none;\n",
              "}\n",
              "\n",
              "/* Span, style for the box shown on hovering the info icon */\n",
              ".sk-estimator-doc-link span {\n",
              "  display: none;\n",
              "  z-index: 9999;\n",
              "  position: relative;\n",
              "  font-weight: normal;\n",
              "  right: .2ex;\n",
              "  padding: .5ex;\n",
              "  margin: .5ex;\n",
              "  width: min-content;\n",
              "  min-width: 20ex;\n",
              "  max-width: 50ex;\n",
              "  color: var(--sklearn-color-text);\n",
              "  box-shadow: 2pt 2pt 4pt #999;\n",
              "  /* unfitted */\n",
              "  background: var(--sklearn-color-unfitted-level-0);\n",
              "  border: .5pt solid var(--sklearn-color-unfitted-level-3);\n",
              "}\n",
              "\n",
              ".sk-estimator-doc-link.fitted span {\n",
              "  /* fitted */\n",
              "  background: var(--sklearn-color-fitted-level-0);\n",
              "  border: var(--sklearn-color-fitted-level-3);\n",
              "}\n",
              "\n",
              ".sk-estimator-doc-link:hover span {\n",
              "  display: block;\n",
              "}\n",
              "\n",
              "/* \"?\"-specific style due to the `<a>` HTML tag */\n",
              "\n",
              "#sk-container-id-1 a.estimator_doc_link {\n",
              "  float: right;\n",
              "  font-size: 1rem;\n",
              "  line-height: 1em;\n",
              "  font-family: monospace;\n",
              "  background-color: var(--sklearn-color-background);\n",
              "  border-radius: 1rem;\n",
              "  height: 1rem;\n",
              "  width: 1rem;\n",
              "  text-decoration: none;\n",
              "  /* unfitted */\n",
              "  color: var(--sklearn-color-unfitted-level-1);\n",
              "  border: var(--sklearn-color-unfitted-level-1) 1pt solid;\n",
              "}\n",
              "\n",
              "#sk-container-id-1 a.estimator_doc_link.fitted {\n",
              "  /* fitted */\n",
              "  border: var(--sklearn-color-fitted-level-1) 1pt solid;\n",
              "  color: var(--sklearn-color-fitted-level-1);\n",
              "}\n",
              "\n",
              "/* On hover */\n",
              "#sk-container-id-1 a.estimator_doc_link:hover {\n",
              "  /* unfitted */\n",
              "  background-color: var(--sklearn-color-unfitted-level-3);\n",
              "  color: var(--sklearn-color-background);\n",
              "  text-decoration: none;\n",
              "}\n",
              "\n",
              "#sk-container-id-1 a.estimator_doc_link.fitted:hover {\n",
              "  /* fitted */\n",
              "  background-color: var(--sklearn-color-fitted-level-3);\n",
              "}\n",
              "</style><div id=\"sk-container-id-1\" class=\"sk-top-container\"><div class=\"sk-text-repr-fallback\"><pre>Pipeline(steps=[(&#x27;cat_encoder_&#x27;, LeaveOneOutEncoder(cols=[&#x27;Type 1&#x27;, &#x27;Type 2&#x27;])),\n",
              "                (&#x27;poly_featurizer_&#x27;, PolynomialFeatures(degree=4)),\n",
              "                (&#x27;scaler_&#x27;, StandardScaler())])</pre><b>In a Jupyter environment, please rerun this cell to show the HTML representation or trust the notebook. <br />On GitHub, the HTML representation is unable to render, please try loading this page with nbviewer.org.</b></div><div class=\"sk-container\" hidden><div class=\"sk-item sk-dashed-wrapped\"><div class=\"sk-label-container\"><div class=\"sk-label  sk-toggleable\"><input class=\"sk-toggleable__control sk-hidden--visually\" id=\"sk-estimator-id-1\" type=\"checkbox\" ><label for=\"sk-estimator-id-1\" class=\"sk-toggleable__label  sk-toggleable__label-arrow\"><div><div>Pipeline</div></div><div><a class=\"sk-estimator-doc-link \" rel=\"noreferrer\" target=\"_blank\" href=\"https://scikit-learn.org/1.6/modules/generated/sklearn.pipeline.Pipeline.html\">?<span>Documentation for Pipeline</span></a><span class=\"sk-estimator-doc-link \">i<span>Not fitted</span></span></div></label><div class=\"sk-toggleable__content \"><pre>Pipeline(steps=[(&#x27;cat_encoder_&#x27;, LeaveOneOutEncoder(cols=[&#x27;Type 1&#x27;, &#x27;Type 2&#x27;])),\n",
              "                (&#x27;poly_featurizer_&#x27;, PolynomialFeatures(degree=4)),\n",
              "                (&#x27;scaler_&#x27;, StandardScaler())])</pre></div> </div></div><div class=\"sk-serial\"><div class=\"sk-item\"><div class=\"sk-estimator  sk-toggleable\"><input class=\"sk-toggleable__control sk-hidden--visually\" id=\"sk-estimator-id-2\" type=\"checkbox\" ><label for=\"sk-estimator-id-2\" class=\"sk-toggleable__label  sk-toggleable__label-arrow\"><div><div>LeaveOneOutEncoder</div></div></label><div class=\"sk-toggleable__content \"><pre>LeaveOneOutEncoder(cols=[&#x27;Type 1&#x27;, &#x27;Type 2&#x27;])</pre></div> </div></div><div class=\"sk-item\"><div class=\"sk-estimator  sk-toggleable\"><input class=\"sk-toggleable__control sk-hidden--visually\" id=\"sk-estimator-id-3\" type=\"checkbox\" ><label for=\"sk-estimator-id-3\" class=\"sk-toggleable__label  sk-toggleable__label-arrow\"><div><div>PolynomialFeatures</div></div><div><a class=\"sk-estimator-doc-link \" rel=\"noreferrer\" target=\"_blank\" href=\"https://scikit-learn.org/1.6/modules/generated/sklearn.preprocessing.PolynomialFeatures.html\">?<span>Documentation for PolynomialFeatures</span></a></div></label><div class=\"sk-toggleable__content \"><pre>PolynomialFeatures(degree=4)</pre></div> </div></div><div class=\"sk-item\"><div class=\"sk-estimator  sk-toggleable\"><input class=\"sk-toggleable__control sk-hidden--visually\" id=\"sk-estimator-id-4\" type=\"checkbox\" ><label for=\"sk-estimator-id-4\" class=\"sk-toggleable__label  sk-toggleable__label-arrow\"><div><div>StandardScaler</div></div><div><a class=\"sk-estimator-doc-link \" rel=\"noreferrer\" target=\"_blank\" href=\"https://scikit-learn.org/1.6/modules/generated/sklearn.preprocessing.StandardScaler.html\">?<span>Documentation for StandardScaler</span></a></div></label><div class=\"sk-toggleable__content \"><pre>StandardScaler()</pre></div> </div></div></div></div></div></div>"
            ],
            "text/plain": [
              "Pipeline(steps=[('cat_encoder_', LeaveOneOutEncoder(cols=['Type 1', 'Type 2'])),\n",
              "                ('poly_featurizer_', PolynomialFeatures(degree=4)),\n",
              "                ('scaler_', StandardScaler())])"
            ]
          },
          "execution_count": 39,
          "metadata": {},
          "output_type": "execute_result"
        }
      ],
      "source": [
        "data_tr"
      ]
    },
    {
      "cell_type": "code",
      "execution_count": 40,
      "id": "fbeb97f4",
      "metadata": {
        "id": "fbeb97f4"
      },
      "outputs": [
        {
          "data": {
            "text/plain": [
              "(800, 10)"
            ]
          },
          "execution_count": 40,
          "metadata": {},
          "output_type": "execute_result"
        }
      ],
      "source": [
        "X.shape"
      ]
    },
    {
      "cell_type": "code",
      "execution_count": 41,
      "id": "5f8b606c",
      "metadata": {
        "ExecuteTime": {
          "end_time": "2021-10-24T20:19:42.141996Z",
          "start_time": "2021-10-24T20:19:42.095336Z"
        },
        "id": "5f8b606c"
      },
      "outputs": [
        {
          "name": "stdout",
          "output_type": "stream",
          "text": [
            "data shape after transformation is (800, 1001)\n"
          ]
        }
      ],
      "source": [
        "X_tr = data_tr.fit_transform(X, y)\n",
        "print(f'data shape after transformation is {X_tr.shape}')"
      ]
    },
    {
      "cell_type": "markdown",
      "id": "65b0e2d1",
      "metadata": {
        "id": "65b0e2d1"
      },
      "source": [
        "1k признаков - многовато, добавим в пайплайн селектор"
      ]
    },
    {
      "cell_type": "markdown",
      "id": "441211f2",
      "metadata": {
        "id": "441211f2"
      },
      "source": [
        "## Фильтрационные методы\n",
        "\n",
        "Суть таких методов в том, чтобы для каждого признака посчитать некоторую метрику \"связи\" с целевым признаком. И в результате оставить топ-K признаков согласно выбранной метрике.\n",
        "\n",
        " - статистика хи-квадрат\n",
        " - метрика mutual information"
      ]
    },
    {
      "cell_type": "code",
      "execution_count": 43,
      "id": "17ab83eb",
      "metadata": {
        "ExecuteTime": {
          "end_time": "2021-10-24T20:19:58.410888Z",
          "start_time": "2021-10-24T20:19:58.408446Z"
        },
        "id": "17ab83eb"
      },
      "outputs": [],
      "source": [
        "from sklearn.feature_selection import f_classif, chi2, mutual_info_classif"
      ]
    },
    {
      "cell_type": "code",
      "execution_count": 47,
      "id": "1322e375",
      "metadata": {
        "ExecuteTime": {
          "end_time": "2021-10-24T20:20:00.536469Z",
          "start_time": "2021-10-24T20:20:00.532952Z"
        },
        "id": "1322e375"
      },
      "outputs": [],
      "source": [
        "k_best = 50\n",
        "\n",
        "pipe = Pipeline([\n",
        "    ('cat_encoder_', LeaveOneOutEncoder(cols=cat_cols)),\n",
        "    ('poly_featurizer_', PolynomialFeatures(degree=4)),\n",
        "    ('scaler_', StandardScaler()),\n",
        "    ('selector_', SelectKBest(score_func=mutual_info_classif, k=k_best)),\n",
        "    ('model_', SVC(kernel='linear'))]\n",
        ")"
      ]
    },
    {
      "cell_type": "code",
      "execution_count": 48,
      "id": "25ee7c1e",
      "metadata": {
        "ExecuteTime": {
          "end_time": "2021-10-24T20:20:18.022535Z",
          "start_time": "2021-10-24T20:20:06.144920Z"
        },
        "id": "25ee7c1e"
      },
      "outputs": [
        {
          "data": {
            "text/plain": [
              "{'fit_time': array([0.84150004, 0.82081389, 0.84545207, 0.81301594, 0.80627513]),\n",
              " 'score_time': array([0.00324011, 0.00345707, 0.0028379 , 0.00295901, 0.0031321 ]),\n",
              " 'test_score': array([0.14285714, 0.72      , 0.71428571, 0.42105263, 0.58823529]),\n",
              " 'train_score': array([0.78431373, 0.69565217, 0.75247525, 0.76      , 0.81632653])}"
            ]
          },
          "execution_count": 48,
          "metadata": {},
          "output_type": "execute_result"
        }
      ],
      "source": [
        "cv_res = cross_validate(pipe, X, y, cv=5, scoring='f1', return_train_score=True)\n",
        "cv_res"
      ]
    },
    {
      "cell_type": "code",
      "execution_count": 49,
      "id": "9fea36e8",
      "metadata": {
        "ExecuteTime": {
          "end_time": "2021-10-24T20:20:41.813570Z",
          "start_time": "2021-10-24T20:20:41.809915Z"
        },
        "id": "9fea36e8"
      },
      "outputs": [
        {
          "data": {
            "text/plain": [
              "np.float64(0.5172861565678903)"
            ]
          },
          "execution_count": 49,
          "metadata": {},
          "output_type": "execute_result"
        }
      ],
      "source": [
        "# k best нужно подбирать\n",
        "\n",
        "cv_res['test_score'].mean()"
      ]
    },
    {
      "cell_type": "markdown",
      "id": "10d4f624",
      "metadata": {
        "id": "10d4f624"
      },
      "source": [
        "## Жадный метод отбора"
      ]
    },
    {
      "cell_type": "code",
      "execution_count": 51,
      "id": "43dc3423",
      "metadata": {
        "ExecuteTime": {
          "end_time": "2021-10-24T20:20:53.902156Z",
          "start_time": "2021-10-24T20:20:53.899723Z"
        },
        "id": "43dc3423"
      },
      "outputs": [],
      "source": [
        "from sklearn.feature_selection import RFE\n",
        "from sklearn.linear_model import LogisticRegression"
      ]
    },
    {
      "cell_type": "code",
      "execution_count": 52,
      "id": "1e43160d",
      "metadata": {
        "ExecuteTime": {
          "end_time": "2021-10-24T20:25:10.673925Z",
          "start_time": "2021-10-24T20:25:10.671185Z"
        },
        "id": "1e43160d"
      },
      "outputs": [],
      "source": [
        "rfe = RFE(LogisticRegression(max_iter=1000), n_features_to_select=k_best, step=30)"
      ]
    },
    {
      "cell_type": "code",
      "execution_count": 53,
      "id": "cb0f19e0",
      "metadata": {
        "ExecuteTime": {
          "end_time": "2021-10-24T20:25:12.544188Z",
          "start_time": "2021-10-24T20:25:12.540659Z"
        },
        "id": "cb0f19e0"
      },
      "outputs": [
        {
          "data": {
            "text/plain": [
              "(800, 1001)"
            ]
          },
          "execution_count": 53,
          "metadata": {},
          "output_type": "execute_result"
        }
      ],
      "source": [
        "X_tr.shape"
      ]
    },
    {
      "cell_type": "code",
      "execution_count": 54,
      "id": "2ebc1020",
      "metadata": {
        "ExecuteTime": {
          "end_time": "2021-10-24T20:25:35.091025Z",
          "start_time": "2021-10-24T20:25:32.892926Z"
        },
        "id": "2ebc1020"
      },
      "outputs": [
        {
          "data": {
            "text/plain": [
              "(800, 50)"
            ]
          },
          "metadata": {},
          "output_type": "display_data"
        },
        {
          "data": {
            "text/plain": [
              "array([[-1.39963712, -0.46932423, -0.98555744, ..., -0.41626469,\n",
              "        -0.52135831, -0.81966779],\n",
              "       [-1.39963712, -0.39249109, -0.48479877, ..., -0.10954899,\n",
              "        -0.18003271, -0.81698899],\n",
              "       [-1.39963712, -0.2900469 ,  0.42451538, ...,  0.67405053,\n",
              "         0.73602435, -0.81341726],\n",
              "       ...,\n",
              "       [ 1.61195431,  1.21460205, -0.16049792, ...,  4.39362648,\n",
              "         2.1076934 ,  4.18343684],\n",
              "       [ 1.61195431,  1.48809144, -0.16049792, ...,  5.8291638 ,\n",
              "         2.51608978,  4.18343684],\n",
              "       [ 1.61195431, -0.05301918,  1.36562373, ...,  1.1636675 ,\n",
              "         0.19750623,  2.6404483 ]], shape=(800, 50))"
            ]
          },
          "execution_count": 54,
          "metadata": {},
          "output_type": "execute_result"
        }
      ],
      "source": [
        "res = rfe.fit_transform(X_tr, y)\n",
        "display(res.shape)\n",
        "res"
      ]
    },
    {
      "cell_type": "code",
      "execution_count": 55,
      "id": "f876207a",
      "metadata": {
        "ExecuteTime": {
          "end_time": "2021-10-24T20:27:58.635555Z",
          "start_time": "2021-10-24T20:27:58.632190Z"
        },
        "id": "f876207a"
      },
      "outputs": [],
      "source": [
        "pipe_rfe = Pipeline([\n",
        "    ('cat_encoder_', LeaveOneOutEncoder(cols=cat_cols)),\n",
        "    ('poly_featurizer_', PolynomialFeatures(degree=4)),\n",
        "    ('scaler_', StandardScaler()),\n",
        "    ('selector_', RFE(LogisticRegression(max_iter=1000),\n",
        "                      n_features_to_select=30,\n",
        "                      step=30\n",
        "                     )),\n",
        "    ('model_', SVC(kernel='linear'))])"
      ]
    },
    {
      "cell_type": "code",
      "execution_count": 56,
      "id": "17147cb6",
      "metadata": {
        "ExecuteTime": {
          "end_time": "2021-10-24T20:28:32.410710Z",
          "start_time": "2021-10-24T20:28:22.819441Z"
        },
        "id": "17147cb6"
      },
      "outputs": [
        {
          "data": {
            "text/plain": [
              "{'fit_time': array([0.61824989, 0.71821809, 0.54749393, 0.63686132, 0.58288789]),\n",
              " 'score_time': array([0.00287199, 0.00388193, 0.00298619, 0.00460386, 0.00301695]),\n",
              " 'test_score': array([0.44444444, 0.8       , 0.70967742, 0.56      , 0.66666667]),\n",
              " 'train_score': array([0.96226415, 0.86      , 0.91089109, 0.91836735, 0.89795918])}"
            ]
          },
          "execution_count": 56,
          "metadata": {},
          "output_type": "execute_result"
        }
      ],
      "source": [
        "cv_res3 = cross_validate(pipe_rfe, X, y, cv=5, scoring='f1', return_train_score=True)\n",
        "cv_res3"
      ]
    },
    {
      "cell_type": "code",
      "execution_count": 57,
      "id": "9dd127a8",
      "metadata": {
        "ExecuteTime": {
          "end_time": "2021-10-24T20:28:49.063014Z",
          "start_time": "2021-10-24T20:28:49.059094Z"
        },
        "id": "9dd127a8"
      },
      "outputs": [
        {
          "data": {
            "text/plain": [
              "np.float64(0.6361577060931899)"
            ]
          },
          "execution_count": 57,
          "metadata": {},
          "output_type": "execute_result"
        }
      ],
      "source": [
        "cv_res3['test_score'].mean()"
      ]
    },
    {
      "cell_type": "markdown",
      "id": "aba8a949",
      "metadata": {
        "id": "aba8a949"
      },
      "source": [
        "## С помощью L1 регуляризации"
      ]
    },
    {
      "cell_type": "code",
      "execution_count": 60,
      "id": "284511b8",
      "metadata": {
        "ExecuteTime": {
          "end_time": "2021-10-24T20:21:04.267409Z",
          "start_time": "2021-10-24T20:21:04.265012Z"
        },
        "id": "284511b8"
      },
      "outputs": [],
      "source": [
        "from sklearn.feature_selection import SelectFromModel"
      ]
    },
    {
      "cell_type": "code",
      "execution_count": 61,
      "id": "09825d6b",
      "metadata": {
        "ExecuteTime": {
          "end_time": "2021-10-24T20:21:05.214768Z",
          "start_time": "2021-10-24T20:21:05.212084Z"
        },
        "id": "09825d6b"
      },
      "outputs": [],
      "source": [
        "sel = SelectFromModel(LogisticRegression(penalty='l1', max_iter=1000, solver='liblinear'), threshold=1e-5)"
      ]
    },
    {
      "cell_type": "code",
      "execution_count": 62,
      "id": "0b404043",
      "metadata": {
        "ExecuteTime": {
          "end_time": "2021-10-24T20:21:06.595072Z",
          "start_time": "2021-10-24T20:21:06.468695Z"
        },
        "id": "0b404043"
      },
      "outputs": [
        {
          "data": {
            "text/plain": [
              "(800, 49)"
            ]
          },
          "metadata": {},
          "output_type": "display_data"
        },
        {
          "data": {
            "text/plain": [
              "array([[-1.20562657, -0.44705251, -0.94218651, ..., -0.52135831,\n",
              "        -0.72668962, -0.81966779],\n",
              "       [-1.20562657, -0.37458929, -0.94218651, ..., -0.18003271,\n",
              "        -0.70651232, -0.81698899],\n",
              "       [-1.20562657, -0.24576578, -0.94218651, ...,  0.73602435,\n",
              "        -0.6731154 , -0.81341726],\n",
              "       ...,\n",
              "       [-1.20562657,  0.66347512, -0.94218651, ...,  2.1076934 ,\n",
              "         4.87819432,  4.18343684],\n",
              "       [-1.20562657,  1.03195307, -0.94218651, ...,  2.51608978,\n",
              "         4.87819432,  4.18343684],\n",
              "       [-1.20562657, -0.13354138, -0.94218651, ...,  0.19750623,\n",
              "         1.93926564,  2.6404483 ]], shape=(800, 49))"
            ]
          },
          "execution_count": 62,
          "metadata": {},
          "output_type": "execute_result"
        }
      ],
      "source": [
        "# пример\n",
        "\n",
        "res = sel.fit_transform(X_tr, y)\n",
        "display(res.shape)\n",
        "res"
      ]
    },
    {
      "cell_type": "code",
      "execution_count": 63,
      "id": "029d0335",
      "metadata": {
        "ExecuteTime": {
          "end_time": "2021-10-24T20:21:07.682619Z",
          "start_time": "2021-10-24T20:21:07.679172Z"
        },
        "id": "029d0335"
      },
      "outputs": [],
      "source": [
        "pipe_lasso =  Pipeline([\n",
        "    ('cat_encoder_', LeaveOneOutEncoder(cols=cat_cols)),\n",
        "    ('poly_featurizer_', PolynomialFeatures(degree=4)),\n",
        "    ('scaler_', StandardScaler()),\n",
        "    ('selector_', SelectFromModel(LogisticRegression(penalty='l1', max_iter=1000, solver='liblinear'),\n",
        "                                  threshold=1e-5)),\n",
        "    ('model_', SVC(kernel='linear'))])"
      ]
    },
    {
      "cell_type": "code",
      "execution_count": 67,
      "id": "fd37cab6",
      "metadata": {
        "ExecuteTime": {
          "end_time": "2021-10-24T20:21:11.587486Z",
          "start_time": "2021-10-24T20:21:11.070842Z"
        },
        "id": "fd37cab6"
      },
      "outputs": [
        {
          "data": {
            "text/plain": [
              "{'fit_time': array([0.06391382, 0.05412292, 0.0469439 , 0.04279613, 0.05199099]),\n",
              " 'score_time': array([0.00377131, 0.00351119, 0.00287914, 0.00332093, 0.00260305]),\n",
              " 'test_score': array([0.44444444, 0.88      , 0.68965517, 0.58333333, 0.68421053]),\n",
              " 'train_score': array([0.92307692, 0.875     , 0.95238095, 0.97029703, 0.92929293])}"
            ]
          },
          "execution_count": 67,
          "metadata": {},
          "output_type": "execute_result"
        }
      ],
      "source": [
        "cv_res4 = cross_validate(pipe_lasso, X, y, cv=5, scoring='f1', return_train_score=True)\n",
        "cv_res4"
      ]
    },
    {
      "cell_type": "code",
      "execution_count": 68,
      "id": "e4317544",
      "metadata": {
        "id": "e4317544"
      },
      "outputs": [
        {
          "data": {
            "text/plain": [
              "np.float64(0.6563286953014721)"
            ]
          },
          "execution_count": 68,
          "metadata": {},
          "output_type": "execute_result"
        }
      ],
      "source": [
        "cv_res4['test_score'].mean()"
      ]
    },
    {
      "cell_type": "markdown",
      "id": "499ff355",
      "metadata": {
        "id": "499ff355"
      },
      "source": [
        "# Нелинейные классификаторы\n",
        "\n",
        "- SVM с ядром\n",
        "- Наивный байесовский классификатор\n",
        "- Метод k ближайших соседей"
      ]
    },
    {
      "cell_type": "code",
      "execution_count": 92,
      "id": "e5719e9d",
      "metadata": {
        "id": "e5719e9d"
      },
      "outputs": [],
      "source": [
        "pipe_lasso2 =  Pipeline([\n",
        "    ('cat_encoder_', LeaveOneOutEncoder(cols=cat_cols)),\n",
        "    ('poly_featurizer_', PolynomialFeatures(degree=4)),\n",
        "    ('scaler_', StandardScaler()),\n",
        "    ('selector_', SelectFromModel(LogisticRegression(penalty='l1', max_iter=1000, solver='liblinear'),\n",
        "                                  threshold=1e-5)),\n",
        "    ('model_', SVC(kernel='rbf', gamma=0.01))])"
      ]
    },
    {
      "cell_type": "code",
      "execution_count": 93,
      "id": "14f07ef7",
      "metadata": {
        "id": "14f07ef7"
      },
      "outputs": [
        {
          "data": {
            "text/plain": [
              "{'fit_time': array([0.05931997, 0.05366015, 0.05068707, 0.04466891, 0.05061579]),\n",
              " 'score_time': array([0.00372195, 0.0046649 , 0.00379586, 0.0036211 , 0.00335121]),\n",
              " 'test_score': array([0.52631579, 0.83333333, 0.43478261, 0.33333333, 0.7027027 ]),\n",
              " 'train_score': array([0.83870968, 0.71264368, 0.86021505, 0.87755102, 0.875     ])}"
            ]
          },
          "execution_count": 93,
          "metadata": {},
          "output_type": "execute_result"
        }
      ],
      "source": [
        "cv_res5 = cross_validate(pipe_lasso2, X, y, cv=5, scoring='f1', return_train_score=True)\n",
        "cv_res5"
      ]
    },
    {
      "cell_type": "code",
      "execution_count": 94,
      "id": "509f6dd8",
      "metadata": {
        "id": "509f6dd8"
      },
      "outputs": [
        {
          "data": {
            "text/plain": [
              "np.float64(0.5660935535077412)"
            ]
          },
          "execution_count": 94,
          "metadata": {},
          "output_type": "execute_result"
        }
      ],
      "source": [
        "cv_res5['test_score'].mean()"
      ]
    },
    {
      "cell_type": "markdown",
      "id": "989d957c",
      "metadata": {
        "id": "989d957c"
      },
      "source": [
        "Обучите наивный байесовский классификатор и метод k ближайших соседей вместо SVM в пайплайне выше."
      ]
    },
    {
      "cell_type": "code",
      "execution_count": 95,
      "id": "7a26c44f",
      "metadata": {
        "id": "7a26c44f"
      },
      "outputs": [],
      "source": [
        "from sklearn.neighbors import KNeighborsClassifier\n",
        "from sklearn.naive_bayes import MultinomialNB, GaussianNB"
      ]
    },
    {
      "cell_type": "code",
      "execution_count": 128,
      "id": "74ce0abb",
      "metadata": {
        "colab": {
          "base_uri": "https://localhost:8080/",
          "height": 207
        },
        "id": "74ce0abb",
        "outputId": "73cdb8b1-23af-4844-b393-9075d530563a"
      },
      "outputs": [],
      "source": [
        "# your code here\n",
        "pipe_knn =  Pipeline([\n",
        "    ('cat_encoder_', LeaveOneOutEncoder(cols=cat_cols)),\n",
        "    ('poly_featurizer_', PolynomialFeatures(degree=4)),\n",
        "    ('scaler_', StandardScaler()),\n",
        "    ('selector_', SelectFromModel(LogisticRegression(penalty='l1', max_iter=1000, solver='liblinear'),\n",
        "                                  threshold=1e-5)),\n",
        "    ('model_', KNeighborsClassifier(n_neighbors=5))])"
      ]
    },
    {
      "cell_type": "code",
      "execution_count": 129,
      "id": "dd8aed7b",
      "metadata": {
        "id": "dd8aed7b"
      },
      "outputs": [
        {
          "data": {
            "text/html": [
              "<style>#sk-container-id-8 {\n",
              "  /* Definition of color scheme common for light and dark mode */\n",
              "  --sklearn-color-text: #000;\n",
              "  --sklearn-color-text-muted: #666;\n",
              "  --sklearn-color-line: gray;\n",
              "  /* Definition of color scheme for unfitted estimators */\n",
              "  --sklearn-color-unfitted-level-0: #fff5e6;\n",
              "  --sklearn-color-unfitted-level-1: #f6e4d2;\n",
              "  --sklearn-color-unfitted-level-2: #ffe0b3;\n",
              "  --sklearn-color-unfitted-level-3: chocolate;\n",
              "  /* Definition of color scheme for fitted estimators */\n",
              "  --sklearn-color-fitted-level-0: #f0f8ff;\n",
              "  --sklearn-color-fitted-level-1: #d4ebff;\n",
              "  --sklearn-color-fitted-level-2: #b3dbfd;\n",
              "  --sklearn-color-fitted-level-3: cornflowerblue;\n",
              "\n",
              "  /* Specific color for light theme */\n",
              "  --sklearn-color-text-on-default-background: var(--sg-text-color, var(--theme-code-foreground, var(--jp-content-font-color1, black)));\n",
              "  --sklearn-color-background: var(--sg-background-color, var(--theme-background, var(--jp-layout-color0, white)));\n",
              "  --sklearn-color-border-box: var(--sg-text-color, var(--theme-code-foreground, var(--jp-content-font-color1, black)));\n",
              "  --sklearn-color-icon: #696969;\n",
              "\n",
              "  @media (prefers-color-scheme: dark) {\n",
              "    /* Redefinition of color scheme for dark theme */\n",
              "    --sklearn-color-text-on-default-background: var(--sg-text-color, var(--theme-code-foreground, var(--jp-content-font-color1, white)));\n",
              "    --sklearn-color-background: var(--sg-background-color, var(--theme-background, var(--jp-layout-color0, #111)));\n",
              "    --sklearn-color-border-box: var(--sg-text-color, var(--theme-code-foreground, var(--jp-content-font-color1, white)));\n",
              "    --sklearn-color-icon: #878787;\n",
              "  }\n",
              "}\n",
              "\n",
              "#sk-container-id-8 {\n",
              "  color: var(--sklearn-color-text);\n",
              "}\n",
              "\n",
              "#sk-container-id-8 pre {\n",
              "  padding: 0;\n",
              "}\n",
              "\n",
              "#sk-container-id-8 input.sk-hidden--visually {\n",
              "  border: 0;\n",
              "  clip: rect(1px 1px 1px 1px);\n",
              "  clip: rect(1px, 1px, 1px, 1px);\n",
              "  height: 1px;\n",
              "  margin: -1px;\n",
              "  overflow: hidden;\n",
              "  padding: 0;\n",
              "  position: absolute;\n",
              "  width: 1px;\n",
              "}\n",
              "\n",
              "#sk-container-id-8 div.sk-dashed-wrapped {\n",
              "  border: 1px dashed var(--sklearn-color-line);\n",
              "  margin: 0 0.4em 0.5em 0.4em;\n",
              "  box-sizing: border-box;\n",
              "  padding-bottom: 0.4em;\n",
              "  background-color: var(--sklearn-color-background);\n",
              "}\n",
              "\n",
              "#sk-container-id-8 div.sk-container {\n",
              "  /* jupyter's `normalize.less` sets `[hidden] { display: none; }`\n",
              "     but bootstrap.min.css set `[hidden] { display: none !important; }`\n",
              "     so we also need the `!important` here to be able to override the\n",
              "     default hidden behavior on the sphinx rendered scikit-learn.org.\n",
              "     See: https://github.com/scikit-learn/scikit-learn/issues/21755 */\n",
              "  display: inline-block !important;\n",
              "  position: relative;\n",
              "}\n",
              "\n",
              "#sk-container-id-8 div.sk-text-repr-fallback {\n",
              "  display: none;\n",
              "}\n",
              "\n",
              "div.sk-parallel-item,\n",
              "div.sk-serial,\n",
              "div.sk-item {\n",
              "  /* draw centered vertical line to link estimators */\n",
              "  background-image: linear-gradient(var(--sklearn-color-text-on-default-background), var(--sklearn-color-text-on-default-background));\n",
              "  background-size: 2px 100%;\n",
              "  background-repeat: no-repeat;\n",
              "  background-position: center center;\n",
              "}\n",
              "\n",
              "/* Parallel-specific style estimator block */\n",
              "\n",
              "#sk-container-id-8 div.sk-parallel-item::after {\n",
              "  content: \"\";\n",
              "  width: 100%;\n",
              "  border-bottom: 2px solid var(--sklearn-color-text-on-default-background);\n",
              "  flex-grow: 1;\n",
              "}\n",
              "\n",
              "#sk-container-id-8 div.sk-parallel {\n",
              "  display: flex;\n",
              "  align-items: stretch;\n",
              "  justify-content: center;\n",
              "  background-color: var(--sklearn-color-background);\n",
              "  position: relative;\n",
              "}\n",
              "\n",
              "#sk-container-id-8 div.sk-parallel-item {\n",
              "  display: flex;\n",
              "  flex-direction: column;\n",
              "}\n",
              "\n",
              "#sk-container-id-8 div.sk-parallel-item:first-child::after {\n",
              "  align-self: flex-end;\n",
              "  width: 50%;\n",
              "}\n",
              "\n",
              "#sk-container-id-8 div.sk-parallel-item:last-child::after {\n",
              "  align-self: flex-start;\n",
              "  width: 50%;\n",
              "}\n",
              "\n",
              "#sk-container-id-8 div.sk-parallel-item:only-child::after {\n",
              "  width: 0;\n",
              "}\n",
              "\n",
              "/* Serial-specific style estimator block */\n",
              "\n",
              "#sk-container-id-8 div.sk-serial {\n",
              "  display: flex;\n",
              "  flex-direction: column;\n",
              "  align-items: center;\n",
              "  background-color: var(--sklearn-color-background);\n",
              "  padding-right: 1em;\n",
              "  padding-left: 1em;\n",
              "}\n",
              "\n",
              "\n",
              "/* Toggleable style: style used for estimator/Pipeline/ColumnTransformer box that is\n",
              "clickable and can be expanded/collapsed.\n",
              "- Pipeline and ColumnTransformer use this feature and define the default style\n",
              "- Estimators will overwrite some part of the style using the `sk-estimator` class\n",
              "*/\n",
              "\n",
              "/* Pipeline and ColumnTransformer style (default) */\n",
              "\n",
              "#sk-container-id-8 div.sk-toggleable {\n",
              "  /* Default theme specific background. It is overwritten whether we have a\n",
              "  specific estimator or a Pipeline/ColumnTransformer */\n",
              "  background-color: var(--sklearn-color-background);\n",
              "}\n",
              "\n",
              "/* Toggleable label */\n",
              "#sk-container-id-8 label.sk-toggleable__label {\n",
              "  cursor: pointer;\n",
              "  display: flex;\n",
              "  width: 100%;\n",
              "  margin-bottom: 0;\n",
              "  padding: 0.5em;\n",
              "  box-sizing: border-box;\n",
              "  text-align: center;\n",
              "  align-items: start;\n",
              "  justify-content: space-between;\n",
              "  gap: 0.5em;\n",
              "}\n",
              "\n",
              "#sk-container-id-8 label.sk-toggleable__label .caption {\n",
              "  font-size: 0.6rem;\n",
              "  font-weight: lighter;\n",
              "  color: var(--sklearn-color-text-muted);\n",
              "}\n",
              "\n",
              "#sk-container-id-8 label.sk-toggleable__label-arrow:before {\n",
              "  /* Arrow on the left of the label */\n",
              "  content: \"▸\";\n",
              "  float: left;\n",
              "  margin-right: 0.25em;\n",
              "  color: var(--sklearn-color-icon);\n",
              "}\n",
              "\n",
              "#sk-container-id-8 label.sk-toggleable__label-arrow:hover:before {\n",
              "  color: var(--sklearn-color-text);\n",
              "}\n",
              "\n",
              "/* Toggleable content - dropdown */\n",
              "\n",
              "#sk-container-id-8 div.sk-toggleable__content {\n",
              "  max-height: 0;\n",
              "  max-width: 0;\n",
              "  overflow: hidden;\n",
              "  text-align: left;\n",
              "  /* unfitted */\n",
              "  background-color: var(--sklearn-color-unfitted-level-0);\n",
              "}\n",
              "\n",
              "#sk-container-id-8 div.sk-toggleable__content.fitted {\n",
              "  /* fitted */\n",
              "  background-color: var(--sklearn-color-fitted-level-0);\n",
              "}\n",
              "\n",
              "#sk-container-id-8 div.sk-toggleable__content pre {\n",
              "  margin: 0.2em;\n",
              "  border-radius: 0.25em;\n",
              "  color: var(--sklearn-color-text);\n",
              "  /* unfitted */\n",
              "  background-color: var(--sklearn-color-unfitted-level-0);\n",
              "}\n",
              "\n",
              "#sk-container-id-8 div.sk-toggleable__content.fitted pre {\n",
              "  /* unfitted */\n",
              "  background-color: var(--sklearn-color-fitted-level-0);\n",
              "}\n",
              "\n",
              "#sk-container-id-8 input.sk-toggleable__control:checked~div.sk-toggleable__content {\n",
              "  /* Expand drop-down */\n",
              "  max-height: 200px;\n",
              "  max-width: 100%;\n",
              "  overflow: auto;\n",
              "}\n",
              "\n",
              "#sk-container-id-8 input.sk-toggleable__control:checked~label.sk-toggleable__label-arrow:before {\n",
              "  content: \"▾\";\n",
              "}\n",
              "\n",
              "/* Pipeline/ColumnTransformer-specific style */\n",
              "\n",
              "#sk-container-id-8 div.sk-label input.sk-toggleable__control:checked~label.sk-toggleable__label {\n",
              "  color: var(--sklearn-color-text);\n",
              "  background-color: var(--sklearn-color-unfitted-level-2);\n",
              "}\n",
              "\n",
              "#sk-container-id-8 div.sk-label.fitted input.sk-toggleable__control:checked~label.sk-toggleable__label {\n",
              "  background-color: var(--sklearn-color-fitted-level-2);\n",
              "}\n",
              "\n",
              "/* Estimator-specific style */\n",
              "\n",
              "/* Colorize estimator box */\n",
              "#sk-container-id-8 div.sk-estimator input.sk-toggleable__control:checked~label.sk-toggleable__label {\n",
              "  /* unfitted */\n",
              "  background-color: var(--sklearn-color-unfitted-level-2);\n",
              "}\n",
              "\n",
              "#sk-container-id-8 div.sk-estimator.fitted input.sk-toggleable__control:checked~label.sk-toggleable__label {\n",
              "  /* fitted */\n",
              "  background-color: var(--sklearn-color-fitted-level-2);\n",
              "}\n",
              "\n",
              "#sk-container-id-8 div.sk-label label.sk-toggleable__label,\n",
              "#sk-container-id-8 div.sk-label label {\n",
              "  /* The background is the default theme color */\n",
              "  color: var(--sklearn-color-text-on-default-background);\n",
              "}\n",
              "\n",
              "/* On hover, darken the color of the background */\n",
              "#sk-container-id-8 div.sk-label:hover label.sk-toggleable__label {\n",
              "  color: var(--sklearn-color-text);\n",
              "  background-color: var(--sklearn-color-unfitted-level-2);\n",
              "}\n",
              "\n",
              "/* Label box, darken color on hover, fitted */\n",
              "#sk-container-id-8 div.sk-label.fitted:hover label.sk-toggleable__label.fitted {\n",
              "  color: var(--sklearn-color-text);\n",
              "  background-color: var(--sklearn-color-fitted-level-2);\n",
              "}\n",
              "\n",
              "/* Estimator label */\n",
              "\n",
              "#sk-container-id-8 div.sk-label label {\n",
              "  font-family: monospace;\n",
              "  font-weight: bold;\n",
              "  display: inline-block;\n",
              "  line-height: 1.2em;\n",
              "}\n",
              "\n",
              "#sk-container-id-8 div.sk-label-container {\n",
              "  text-align: center;\n",
              "}\n",
              "\n",
              "/* Estimator-specific */\n",
              "#sk-container-id-8 div.sk-estimator {\n",
              "  font-family: monospace;\n",
              "  border: 1px dotted var(--sklearn-color-border-box);\n",
              "  border-radius: 0.25em;\n",
              "  box-sizing: border-box;\n",
              "  margin-bottom: 0.5em;\n",
              "  /* unfitted */\n",
              "  background-color: var(--sklearn-color-unfitted-level-0);\n",
              "}\n",
              "\n",
              "#sk-container-id-8 div.sk-estimator.fitted {\n",
              "  /* fitted */\n",
              "  background-color: var(--sklearn-color-fitted-level-0);\n",
              "}\n",
              "\n",
              "/* on hover */\n",
              "#sk-container-id-8 div.sk-estimator:hover {\n",
              "  /* unfitted */\n",
              "  background-color: var(--sklearn-color-unfitted-level-2);\n",
              "}\n",
              "\n",
              "#sk-container-id-8 div.sk-estimator.fitted:hover {\n",
              "  /* fitted */\n",
              "  background-color: var(--sklearn-color-fitted-level-2);\n",
              "}\n",
              "\n",
              "/* Specification for estimator info (e.g. \"i\" and \"?\") */\n",
              "\n",
              "/* Common style for \"i\" and \"?\" */\n",
              "\n",
              ".sk-estimator-doc-link,\n",
              "a:link.sk-estimator-doc-link,\n",
              "a:visited.sk-estimator-doc-link {\n",
              "  float: right;\n",
              "  font-size: smaller;\n",
              "  line-height: 1em;\n",
              "  font-family: monospace;\n",
              "  background-color: var(--sklearn-color-background);\n",
              "  border-radius: 1em;\n",
              "  height: 1em;\n",
              "  width: 1em;\n",
              "  text-decoration: none !important;\n",
              "  margin-left: 0.5em;\n",
              "  text-align: center;\n",
              "  /* unfitted */\n",
              "  border: var(--sklearn-color-unfitted-level-1) 1pt solid;\n",
              "  color: var(--sklearn-color-unfitted-level-1);\n",
              "}\n",
              "\n",
              ".sk-estimator-doc-link.fitted,\n",
              "a:link.sk-estimator-doc-link.fitted,\n",
              "a:visited.sk-estimator-doc-link.fitted {\n",
              "  /* fitted */\n",
              "  border: var(--sklearn-color-fitted-level-1) 1pt solid;\n",
              "  color: var(--sklearn-color-fitted-level-1);\n",
              "}\n",
              "\n",
              "/* On hover */\n",
              "div.sk-estimator:hover .sk-estimator-doc-link:hover,\n",
              ".sk-estimator-doc-link:hover,\n",
              "div.sk-label-container:hover .sk-estimator-doc-link:hover,\n",
              ".sk-estimator-doc-link:hover {\n",
              "  /* unfitted */\n",
              "  background-color: var(--sklearn-color-unfitted-level-3);\n",
              "  color: var(--sklearn-color-background);\n",
              "  text-decoration: none;\n",
              "}\n",
              "\n",
              "div.sk-estimator.fitted:hover .sk-estimator-doc-link.fitted:hover,\n",
              ".sk-estimator-doc-link.fitted:hover,\n",
              "div.sk-label-container:hover .sk-estimator-doc-link.fitted:hover,\n",
              ".sk-estimator-doc-link.fitted:hover {\n",
              "  /* fitted */\n",
              "  background-color: var(--sklearn-color-fitted-level-3);\n",
              "  color: var(--sklearn-color-background);\n",
              "  text-decoration: none;\n",
              "}\n",
              "\n",
              "/* Span, style for the box shown on hovering the info icon */\n",
              ".sk-estimator-doc-link span {\n",
              "  display: none;\n",
              "  z-index: 9999;\n",
              "  position: relative;\n",
              "  font-weight: normal;\n",
              "  right: .2ex;\n",
              "  padding: .5ex;\n",
              "  margin: .5ex;\n",
              "  width: min-content;\n",
              "  min-width: 20ex;\n",
              "  max-width: 50ex;\n",
              "  color: var(--sklearn-color-text);\n",
              "  box-shadow: 2pt 2pt 4pt #999;\n",
              "  /* unfitted */\n",
              "  background: var(--sklearn-color-unfitted-level-0);\n",
              "  border: .5pt solid var(--sklearn-color-unfitted-level-3);\n",
              "}\n",
              "\n",
              ".sk-estimator-doc-link.fitted span {\n",
              "  /* fitted */\n",
              "  background: var(--sklearn-color-fitted-level-0);\n",
              "  border: var(--sklearn-color-fitted-level-3);\n",
              "}\n",
              "\n",
              ".sk-estimator-doc-link:hover span {\n",
              "  display: block;\n",
              "}\n",
              "\n",
              "/* \"?\"-specific style due to the `<a>` HTML tag */\n",
              "\n",
              "#sk-container-id-8 a.estimator_doc_link {\n",
              "  float: right;\n",
              "  font-size: 1rem;\n",
              "  line-height: 1em;\n",
              "  font-family: monospace;\n",
              "  background-color: var(--sklearn-color-background);\n",
              "  border-radius: 1rem;\n",
              "  height: 1rem;\n",
              "  width: 1rem;\n",
              "  text-decoration: none;\n",
              "  /* unfitted */\n",
              "  color: var(--sklearn-color-unfitted-level-1);\n",
              "  border: var(--sklearn-color-unfitted-level-1) 1pt solid;\n",
              "}\n",
              "\n",
              "#sk-container-id-8 a.estimator_doc_link.fitted {\n",
              "  /* fitted */\n",
              "  border: var(--sklearn-color-fitted-level-1) 1pt solid;\n",
              "  color: var(--sklearn-color-fitted-level-1);\n",
              "}\n",
              "\n",
              "/* On hover */\n",
              "#sk-container-id-8 a.estimator_doc_link:hover {\n",
              "  /* unfitted */\n",
              "  background-color: var(--sklearn-color-unfitted-level-3);\n",
              "  color: var(--sklearn-color-background);\n",
              "  text-decoration: none;\n",
              "}\n",
              "\n",
              "#sk-container-id-8 a.estimator_doc_link.fitted:hover {\n",
              "  /* fitted */\n",
              "  background-color: var(--sklearn-color-fitted-level-3);\n",
              "}\n",
              "</style><div id=\"sk-container-id-8\" class=\"sk-top-container\"><div class=\"sk-text-repr-fallback\"><pre>Pipeline(steps=[(&#x27;cat_encoder_&#x27;, LeaveOneOutEncoder(cols=[&#x27;Type 1&#x27;, &#x27;Type 2&#x27;])),\n",
              "                (&#x27;poly_featurizer_&#x27;, PolynomialFeatures(degree=4)),\n",
              "                (&#x27;scaler_&#x27;, StandardScaler()),\n",
              "                (&#x27;selector_&#x27;,\n",
              "                 SelectFromModel(estimator=LogisticRegression(max_iter=1000,\n",
              "                                                              penalty=&#x27;l1&#x27;,\n",
              "                                                              solver=&#x27;liblinear&#x27;),\n",
              "                                 threshold=1e-05)),\n",
              "                (&#x27;model_&#x27;, KNeighborsClassifier())])</pre><b>In a Jupyter environment, please rerun this cell to show the HTML representation or trust the notebook. <br />On GitHub, the HTML representation is unable to render, please try loading this page with nbviewer.org.</b></div><div class=\"sk-container\" hidden><div class=\"sk-item sk-dashed-wrapped\"><div class=\"sk-label-container\"><div class=\"sk-label  sk-toggleable\"><input class=\"sk-toggleable__control sk-hidden--visually\" id=\"sk-estimator-id-53\" type=\"checkbox\" ><label for=\"sk-estimator-id-53\" class=\"sk-toggleable__label  sk-toggleable__label-arrow\"><div><div>Pipeline</div></div><div><a class=\"sk-estimator-doc-link \" rel=\"noreferrer\" target=\"_blank\" href=\"https://scikit-learn.org/1.6/modules/generated/sklearn.pipeline.Pipeline.html\">?<span>Documentation for Pipeline</span></a><span class=\"sk-estimator-doc-link \">i<span>Not fitted</span></span></div></label><div class=\"sk-toggleable__content \"><pre>Pipeline(steps=[(&#x27;cat_encoder_&#x27;, LeaveOneOutEncoder(cols=[&#x27;Type 1&#x27;, &#x27;Type 2&#x27;])),\n",
              "                (&#x27;poly_featurizer_&#x27;, PolynomialFeatures(degree=4)),\n",
              "                (&#x27;scaler_&#x27;, StandardScaler()),\n",
              "                (&#x27;selector_&#x27;,\n",
              "                 SelectFromModel(estimator=LogisticRegression(max_iter=1000,\n",
              "                                                              penalty=&#x27;l1&#x27;,\n",
              "                                                              solver=&#x27;liblinear&#x27;),\n",
              "                                 threshold=1e-05)),\n",
              "                (&#x27;model_&#x27;, KNeighborsClassifier())])</pre></div> </div></div><div class=\"sk-serial\"><div class=\"sk-item\"><div class=\"sk-estimator  sk-toggleable\"><input class=\"sk-toggleable__control sk-hidden--visually\" id=\"sk-estimator-id-54\" type=\"checkbox\" ><label for=\"sk-estimator-id-54\" class=\"sk-toggleable__label  sk-toggleable__label-arrow\"><div><div>LeaveOneOutEncoder</div></div></label><div class=\"sk-toggleable__content \"><pre>LeaveOneOutEncoder(cols=[&#x27;Type 1&#x27;, &#x27;Type 2&#x27;])</pre></div> </div></div><div class=\"sk-item\"><div class=\"sk-estimator  sk-toggleable\"><input class=\"sk-toggleable__control sk-hidden--visually\" id=\"sk-estimator-id-55\" type=\"checkbox\" ><label for=\"sk-estimator-id-55\" class=\"sk-toggleable__label  sk-toggleable__label-arrow\"><div><div>PolynomialFeatures</div></div><div><a class=\"sk-estimator-doc-link \" rel=\"noreferrer\" target=\"_blank\" href=\"https://scikit-learn.org/1.6/modules/generated/sklearn.preprocessing.PolynomialFeatures.html\">?<span>Documentation for PolynomialFeatures</span></a></div></label><div class=\"sk-toggleable__content \"><pre>PolynomialFeatures(degree=4)</pre></div> </div></div><div class=\"sk-item\"><div class=\"sk-estimator  sk-toggleable\"><input class=\"sk-toggleable__control sk-hidden--visually\" id=\"sk-estimator-id-56\" type=\"checkbox\" ><label for=\"sk-estimator-id-56\" class=\"sk-toggleable__label  sk-toggleable__label-arrow\"><div><div>StandardScaler</div></div><div><a class=\"sk-estimator-doc-link \" rel=\"noreferrer\" target=\"_blank\" href=\"https://scikit-learn.org/1.6/modules/generated/sklearn.preprocessing.StandardScaler.html\">?<span>Documentation for StandardScaler</span></a></div></label><div class=\"sk-toggleable__content \"><pre>StandardScaler()</pre></div> </div></div><div class=\"sk-item sk-dashed-wrapped\"><div class=\"sk-label-container\"><div class=\"sk-label  sk-toggleable\"><input class=\"sk-toggleable__control sk-hidden--visually\" id=\"sk-estimator-id-57\" type=\"checkbox\" ><label for=\"sk-estimator-id-57\" class=\"sk-toggleable__label  sk-toggleable__label-arrow\"><div><div>selector_: SelectFromModel</div></div><div><a class=\"sk-estimator-doc-link \" rel=\"noreferrer\" target=\"_blank\" href=\"https://scikit-learn.org/1.6/modules/generated/sklearn.feature_selection.SelectFromModel.html\">?<span>Documentation for selector_: SelectFromModel</span></a></div></label><div class=\"sk-toggleable__content \"><pre>SelectFromModel(estimator=LogisticRegression(max_iter=1000, penalty=&#x27;l1&#x27;,\n",
              "                                             solver=&#x27;liblinear&#x27;),\n",
              "                threshold=1e-05)</pre></div> </div></div><div class=\"sk-parallel\"><div class=\"sk-parallel-item\"><div class=\"sk-item\"><div class=\"sk-label-container\"><div class=\"sk-label  sk-toggleable\"><input class=\"sk-toggleable__control sk-hidden--visually\" id=\"sk-estimator-id-58\" type=\"checkbox\" ><label for=\"sk-estimator-id-58\" class=\"sk-toggleable__label  sk-toggleable__label-arrow\"><div><div>estimator: LogisticRegression</div></div></label><div class=\"sk-toggleable__content \"><pre>LogisticRegression(max_iter=1000, penalty=&#x27;l1&#x27;, solver=&#x27;liblinear&#x27;)</pre></div> </div></div><div class=\"sk-serial\"><div class=\"sk-item\"><div class=\"sk-estimator  sk-toggleable\"><input class=\"sk-toggleable__control sk-hidden--visually\" id=\"sk-estimator-id-59\" type=\"checkbox\" ><label for=\"sk-estimator-id-59\" class=\"sk-toggleable__label  sk-toggleable__label-arrow\"><div><div>LogisticRegression</div></div><div><a class=\"sk-estimator-doc-link \" rel=\"noreferrer\" target=\"_blank\" href=\"https://scikit-learn.org/1.6/modules/generated/sklearn.linear_model.LogisticRegression.html\">?<span>Documentation for LogisticRegression</span></a></div></label><div class=\"sk-toggleable__content \"><pre>LogisticRegression(max_iter=1000, penalty=&#x27;l1&#x27;, solver=&#x27;liblinear&#x27;)</pre></div> </div></div></div></div></div></div></div><div class=\"sk-item\"><div class=\"sk-estimator  sk-toggleable\"><input class=\"sk-toggleable__control sk-hidden--visually\" id=\"sk-estimator-id-60\" type=\"checkbox\" ><label for=\"sk-estimator-id-60\" class=\"sk-toggleable__label  sk-toggleable__label-arrow\"><div><div>KNeighborsClassifier</div></div><div><a class=\"sk-estimator-doc-link \" rel=\"noreferrer\" target=\"_blank\" href=\"https://scikit-learn.org/1.6/modules/generated/sklearn.neighbors.KNeighborsClassifier.html\">?<span>Documentation for KNeighborsClassifier</span></a></div></label><div class=\"sk-toggleable__content \"><pre>KNeighborsClassifier()</pre></div> </div></div></div></div></div></div>"
            ],
            "text/plain": [
              "Pipeline(steps=[('cat_encoder_', LeaveOneOutEncoder(cols=['Type 1', 'Type 2'])),\n",
              "                ('poly_featurizer_', PolynomialFeatures(degree=4)),\n",
              "                ('scaler_', StandardScaler()),\n",
              "                ('selector_',\n",
              "                 SelectFromModel(estimator=LogisticRegression(max_iter=1000,\n",
              "                                                              penalty='l1',\n",
              "                                                              solver='liblinear'),\n",
              "                                 threshold=1e-05)),\n",
              "                ('model_', KNeighborsClassifier())])"
            ]
          },
          "execution_count": 129,
          "metadata": {},
          "output_type": "execute_result"
        }
      ],
      "source": [
        "pipe_knn"
      ]
    },
    {
      "cell_type": "code",
      "execution_count": 130,
      "id": "99f75ae4",
      "metadata": {
        "id": "99f75ae4"
      },
      "outputs": [
        {
          "data": {
            "text/plain": [
              "{'fit_time': array([0.06420779, 0.05651116, 0.05158997, 0.04623485, 0.05223799]),\n",
              " 'score_time': array([0.00606227, 0.00564504, 0.00591707, 0.00604987, 0.00579906]),\n",
              " 'test_score': array([0.47058824, 0.72727273, 0.38095238, 0.33333333, 0.55172414]),\n",
              " 'train_score': array([0.77083333, 0.77083333, 0.71111111, 0.78651685, 0.78787879])}"
            ]
          },
          "execution_count": 130,
          "metadata": {},
          "output_type": "execute_result"
        }
      ],
      "source": [
        "cv_res5 = cross_validate(pipe_knn, X, y, cv=5, scoring='f1', return_train_score=True)\n",
        "cv_res5"
      ]
    },
    {
      "cell_type": "code",
      "execution_count": 131,
      "id": "a0f59897",
      "metadata": {
        "id": "a0f59897"
      },
      "outputs": [
        {
          "data": {
            "text/plain": [
              "np.float64(0.4927741629567187)"
            ]
          },
          "execution_count": 131,
          "metadata": {},
          "output_type": "execute_result"
        }
      ],
      "source": [
        "cv_res5['test_score'].mean() #50"
      ]
    },
    {
      "cell_type": "markdown",
      "id": "60c4f766",
      "metadata": {
        "id": "60c4f766"
      },
      "source": [
        "С помощью GridSearch подберите гиперпараметр KNN (число соседей) внутри пайплайна."
      ]
    },
    {
      "cell_type": "code",
      "execution_count": 132,
      "id": "279b636a",
      "metadata": {
        "id": "279b636a"
      },
      "outputs": [],
      "source": [
        "from sklearn.model_selection import GridSearchCV"
      ]
    },
    {
      "cell_type": "code",
      "execution_count": 133,
      "id": "eb67eddc",
      "metadata": {
        "id": "eb67eddc"
      },
      "outputs": [],
      "source": [
        "pipe_knn =  Pipeline([\n",
        "    ('cat_encoder_', LeaveOneOutEncoder(cols=cat_cols)),\n",
        "    ('poly_featurizer_', PolynomialFeatures(degree=4)),\n",
        "    ('scaler_', StandardScaler()),\n",
        "    ('selector_', SelectFromModel(LogisticRegression(penalty='l1', max_iter=1000, solver='liblinear'),\n",
        "                                  threshold=1e-5)),\n",
        "    ('gridsearch_', GridSearchCV(estimator=KNeighborsClassifier(),\n",
        "             param_grid={'n_neighbors' : range(1,51)}))])"
      ]
    },
    {
      "cell_type": "code",
      "execution_count": 134,
      "id": "90be50ea",
      "metadata": {
        "id": "90be50ea"
      },
      "outputs": [
        {
          "data": {
            "text/plain": [
              "{'fit_time': array([0.47104597, 0.46585393, 0.47804999, 0.44499993, 0.47837281]),\n",
              " 'score_time': array([0.00616598, 0.00524211, 0.00546622, 0.00627208, 0.00611615]),\n",
              " 'test_score': array([0.26666667, 0.63157895, 0.3       , 0.33333333, 0.47619048]),\n",
              " 'train_score': array([0.45070423, 0.41176471, 0.66666667, 0.69047619, 0.65      ])}"
            ]
          },
          "execution_count": 134,
          "metadata": {},
          "output_type": "execute_result"
        }
      ],
      "source": [
        "cv_res5 = cross_validate(pipe_knn, X, y, cv=5, scoring='f1', return_train_score=True)\n",
        "cv_res5"
      ]
    },
    {
      "cell_type": "code",
      "execution_count": 135,
      "id": "46365a06",
      "metadata": {
        "id": "46365a06"
      },
      "outputs": [
        {
          "data": {
            "text/plain": [
              "np.float64(0.4015538847117794)"
            ]
          },
          "execution_count": 135,
          "metadata": {},
          "output_type": "execute_result"
        }
      ],
      "source": [
        "cv_res5['test_score'].mean()"
      ]
    },
    {
      "cell_type": "markdown",
      "id": "7c18a3ad",
      "metadata": {
        "id": "7c18a3ad"
      },
      "source": [
        "# Сохранение и загрузка модели"
      ]
    },
    {
      "cell_type": "code",
      "execution_count": 136,
      "id": "b533a422",
      "metadata": {
        "id": "b533a422"
      },
      "outputs": [],
      "source": [
        "import pickle"
      ]
    },
    {
      "cell_type": "markdown",
      "id": "24b4fdc2",
      "metadata": {
        "id": "24b4fdc2"
      },
      "source": [
        "Обучим лучшую модель на всех данных и сохраним её в файл."
      ]
    },
    {
      "cell_type": "code",
      "execution_count": 142,
      "id": "0BE5OqnG8kwh",
      "metadata": {
        "id": "0BE5OqnG8kwh"
      },
      "outputs": [],
      "source": [
        "pipe_knn.fit(X, y)\n",
        "model = pipe_knn"
      ]
    },
    {
      "cell_type": "code",
      "execution_count": 143,
      "id": "17f6bf9d",
      "metadata": {
        "id": "17f6bf9d"
      },
      "outputs": [],
      "source": [
        "filename = 'best_model.pickle'\n",
        "pickle.dump(model, open(filename, 'wb'))"
      ]
    },
    {
      "cell_type": "markdown",
      "id": "89f7ce8f",
      "metadata": {
        "id": "89f7ce8f"
      },
      "source": [
        "Загрузка модели из файла"
      ]
    },
    {
      "cell_type": "code",
      "execution_count": 144,
      "id": "d0e7371a",
      "metadata": {
        "id": "d0e7371a"
      },
      "outputs": [],
      "source": [
        "loaded_model = pickle.load(open(filename, 'rb'))"
      ]
    },
    {
      "cell_type": "code",
      "execution_count": 145,
      "id": "b83e1dbe",
      "metadata": {},
      "outputs": [
        {
          "data": {
            "text/plain": [
              "array([0, 0, 0, 0, 0, 0, 0, 0, 1, 0, 0, 0, 0, 0, 0, 0, 0, 0, 0, 0, 0, 0,\n",
              "       0, 0, 0, 0, 0, 0, 0, 0, 0, 0, 0, 0, 0, 0, 0, 0, 0, 0, 0, 0, 0, 0,\n",
              "       0, 0, 0, 0, 0, 0, 0, 0, 0, 0, 0, 0, 0, 0, 0, 0, 0, 0, 0, 0, 0, 0,\n",
              "       0, 0, 0, 0, 0, 0, 0, 0, 0, 0, 0, 0, 0, 0, 0, 0, 0, 0, 0, 0, 0, 0,\n",
              "       0, 0, 0, 0, 0, 0, 0, 0, 0, 0, 0, 0, 0, 0, 0, 0, 0, 0, 0, 0, 0, 0,\n",
              "       0, 0, 0, 0, 0, 0, 0, 0, 0, 0, 0, 0, 0, 0, 0, 0, 0, 0, 0, 0, 0, 0,\n",
              "       0, 0, 0, 0, 0, 0, 0, 0, 0, 0, 0, 0, 0, 0, 0, 0, 0, 0, 0, 0, 0, 0,\n",
              "       0, 0, 1, 0, 0, 0, 0, 0, 0, 1, 1, 0, 0, 0, 0, 0, 0, 0, 0, 0, 0, 0,\n",
              "       0, 0, 0, 0, 0, 0, 0, 0, 0, 0, 0, 0, 0, 0, 0, 0, 0, 0, 0, 0, 0, 0,\n",
              "       0, 0, 0, 0, 0, 0, 0, 0, 0, 0, 0, 0, 0, 0, 0, 0, 0, 0, 0, 0, 0, 0,\n",
              "       0, 0, 0, 0, 0, 0, 0, 0, 0, 0, 0, 0, 0, 0, 0, 0, 0, 0, 0, 0, 0, 0,\n",
              "       0, 0, 0, 0, 0, 0, 0, 0, 0, 0, 0, 0, 0, 0, 0, 0, 0, 0, 0, 0, 0, 0,\n",
              "       0, 0, 0, 0, 0, 1, 1, 0, 0, 0, 0, 0, 0, 0, 0, 0, 0, 0, 0, 0, 0, 0,\n",
              "       0, 0, 0, 0, 0, 0, 0, 0, 0, 0, 0, 0, 0, 0, 0, 0, 0, 0, 0, 0, 0, 0,\n",
              "       0, 0, 0, 0, 0, 1, 0, 0, 0, 0, 0, 0, 0, 0, 0, 0, 0, 0, 0, 0, 0, 0,\n",
              "       0, 0, 0, 0, 0, 0, 0, 0, 0, 0, 0, 0, 0, 0, 0, 0, 0, 0, 0, 0, 0, 0,\n",
              "       0, 0, 0, 0, 0, 0, 0, 0, 0, 0, 0, 0, 0, 0, 0, 0, 0, 0, 0, 0, 0, 0,\n",
              "       0, 0, 0, 0, 0, 0, 0, 0, 0, 0, 0, 0, 0, 0, 0, 0, 0, 0, 0, 0, 0, 0,\n",
              "       0, 0, 0, 0, 0, 0, 0, 0, 0, 0, 0, 0, 0, 0, 0, 0, 0, 1, 0, 1, 0, 1,\n",
              "       1, 1, 1, 1, 1, 0, 0, 1, 1, 1, 1, 1, 0, 1, 0, 0, 0, 0, 0, 0, 0, 0,\n",
              "       0, 0, 0, 0, 0, 0, 0, 0, 0, 0, 0, 0, 0, 0, 0, 0, 0, 0, 0, 0, 0, 0,\n",
              "       0, 0, 0, 0, 0, 0, 0, 0, 0, 0, 0, 0, 0, 0, 0, 0, 0, 0, 0, 0, 0, 0,\n",
              "       0, 0, 0, 0, 0, 0, 0, 0, 0, 1, 1, 0, 0, 0, 0, 0, 0, 0, 0, 0, 0, 0,\n",
              "       0, 0, 0, 0, 0, 0, 0, 0, 0, 0, 0, 0, 0, 0, 0, 0, 0, 0, 0, 0, 0, 0,\n",
              "       0, 0, 0, 0, 0, 0, 0, 0, 0, 0, 0, 0, 0, 0, 0, 1, 1, 1, 1, 0, 1, 0,\n",
              "       1, 1, 1, 0, 0, 0, 0, 0, 0, 0, 0, 0, 0, 0, 0, 0, 0, 0, 0, 0, 0, 0,\n",
              "       0, 0, 0, 0, 0, 0, 0, 0, 0, 0, 0, 0, 0, 0, 0, 0, 0, 0, 0, 0, 0, 0,\n",
              "       0, 0, 0, 0, 0, 0, 0, 0, 0, 0, 0, 0, 0, 0, 0, 0, 0, 0, 0, 0, 0, 0,\n",
              "       0, 0, 0, 0, 0, 0, 0, 0, 0, 0, 0, 0, 0, 0, 0, 0, 0, 0, 0, 0, 0, 0,\n",
              "       0, 0, 0, 0, 0, 0, 0, 0, 0, 0, 0, 0, 0, 0, 0, 0, 0, 0, 0, 0, 0, 0,\n",
              "       0, 0, 0, 0, 0, 0, 0, 0, 0, 0, 0, 0, 0, 0, 0, 0, 0, 0, 0, 0, 0, 0,\n",
              "       0, 0, 0, 0, 0, 0, 0, 0, 0, 0, 0, 0, 0, 0, 0, 0, 0, 0, 0, 0, 1, 1,\n",
              "       1, 0, 1, 1, 1, 0, 1, 1, 1, 0, 0, 0, 0, 0, 0, 0, 0, 0, 0, 0, 0, 0,\n",
              "       0, 0, 0, 0, 0, 0, 0, 0, 0, 0, 0, 0, 0, 0, 0, 0, 0, 0, 0, 0, 0, 0,\n",
              "       0, 0, 0, 0, 0, 0, 0, 0, 0, 0, 0, 0, 0, 0, 0, 0, 0, 0, 0, 0, 0, 0,\n",
              "       0, 0, 0, 0, 0, 0, 1, 0, 0, 0, 0, 0, 0, 0, 0, 0, 0, 0, 0, 0, 0, 1,\n",
              "       1, 1, 0, 0, 1, 0, 1, 1])"
            ]
          },
          "execution_count": 145,
          "metadata": {},
          "output_type": "execute_result"
        }
      ],
      "source": [
        "loaded_model.predict(X)"
      ]
    },
    {
      "cell_type": "markdown",
      "id": "b2ca11ab",
      "metadata": {
        "id": "b2ca11ab"
      },
      "source": [
        "Второй вариант"
      ]
    },
    {
      "cell_type": "code",
      "execution_count": 146,
      "id": "f1213313",
      "metadata": {
        "id": "f1213313"
      },
      "outputs": [],
      "source": [
        "import joblib\n",
        "\n",
        "filename = 'best_model.joblib'\n",
        "joblib.dump(model, filename)\n",
        "\n",
        "loaded_model = joblib.load(filename)"
      ]
    },
    {
      "cell_type": "code",
      "execution_count": 147,
      "id": "c8ec107f",
      "metadata": {},
      "outputs": [
        {
          "data": {
            "text/plain": [
              "array([0, 0, 0, 0, 0, 0, 0, 0, 1, 0, 0, 0, 0, 0, 0, 0, 0, 0, 0, 0, 0, 0,\n",
              "       0, 0, 0, 0, 0, 0, 0, 0, 0, 0, 0, 0, 0, 0, 0, 0, 0, 0, 0, 0, 0, 0,\n",
              "       0, 0, 0, 0, 0, 0, 0, 0, 0, 0, 0, 0, 0, 0, 0, 0, 0, 0, 0, 0, 0, 0,\n",
              "       0, 0, 0, 0, 0, 0, 0, 0, 0, 0, 0, 0, 0, 0, 0, 0, 0, 0, 0, 0, 0, 0,\n",
              "       0, 0, 0, 0, 0, 0, 0, 0, 0, 0, 0, 0, 0, 0, 0, 0, 0, 0, 0, 0, 0, 0,\n",
              "       0, 0, 0, 0, 0, 0, 0, 0, 0, 0, 0, 0, 0, 0, 0, 0, 0, 0, 0, 0, 0, 0,\n",
              "       0, 0, 0, 0, 0, 0, 0, 0, 0, 0, 0, 0, 0, 0, 0, 0, 0, 0, 0, 0, 0, 0,\n",
              "       0, 0, 1, 0, 0, 0, 0, 0, 0, 1, 1, 0, 0, 0, 0, 0, 0, 0, 0, 0, 0, 0,\n",
              "       0, 0, 0, 0, 0, 0, 0, 0, 0, 0, 0, 0, 0, 0, 0, 0, 0, 0, 0, 0, 0, 0,\n",
              "       0, 0, 0, 0, 0, 0, 0, 0, 0, 0, 0, 0, 0, 0, 0, 0, 0, 0, 0, 0, 0, 0,\n",
              "       0, 0, 0, 0, 0, 0, 0, 0, 0, 0, 0, 0, 0, 0, 0, 0, 0, 0, 0, 0, 0, 0,\n",
              "       0, 0, 0, 0, 0, 0, 0, 0, 0, 0, 0, 0, 0, 0, 0, 0, 0, 0, 0, 0, 0, 0,\n",
              "       0, 0, 0, 0, 0, 1, 1, 0, 0, 0, 0, 0, 0, 0, 0, 0, 0, 0, 0, 0, 0, 0,\n",
              "       0, 0, 0, 0, 0, 0, 0, 0, 0, 0, 0, 0, 0, 0, 0, 0, 0, 0, 0, 0, 0, 0,\n",
              "       0, 0, 0, 0, 0, 1, 0, 0, 0, 0, 0, 0, 0, 0, 0, 0, 0, 0, 0, 0, 0, 0,\n",
              "       0, 0, 0, 0, 0, 0, 0, 0, 0, 0, 0, 0, 0, 0, 0, 0, 0, 0, 0, 0, 0, 0,\n",
              "       0, 0, 0, 0, 0, 0, 0, 0, 0, 0, 0, 0, 0, 0, 0, 0, 0, 0, 0, 0, 0, 0,\n",
              "       0, 0, 0, 0, 0, 0, 0, 0, 0, 0, 0, 0, 0, 0, 0, 0, 0, 0, 0, 0, 0, 0,\n",
              "       0, 0, 0, 0, 0, 0, 0, 0, 0, 0, 0, 0, 0, 0, 0, 0, 0, 1, 0, 1, 0, 1,\n",
              "       1, 1, 1, 1, 1, 0, 0, 1, 1, 1, 1, 1, 0, 1, 0, 0, 0, 0, 0, 0, 0, 0,\n",
              "       0, 0, 0, 0, 0, 0, 0, 0, 0, 0, 0, 0, 0, 0, 0, 0, 0, 0, 0, 0, 0, 0,\n",
              "       0, 0, 0, 0, 0, 0, 0, 0, 0, 0, 0, 0, 0, 0, 0, 0, 0, 0, 0, 0, 0, 0,\n",
              "       0, 0, 0, 0, 0, 0, 0, 0, 0, 1, 1, 0, 0, 0, 0, 0, 0, 0, 0, 0, 0, 0,\n",
              "       0, 0, 0, 0, 0, 0, 0, 0, 0, 0, 0, 0, 0, 0, 0, 0, 0, 0, 0, 0, 0, 0,\n",
              "       0, 0, 0, 0, 0, 0, 0, 0, 0, 0, 0, 0, 0, 0, 0, 1, 1, 1, 1, 0, 1, 0,\n",
              "       1, 1, 1, 0, 0, 0, 0, 0, 0, 0, 0, 0, 0, 0, 0, 0, 0, 0, 0, 0, 0, 0,\n",
              "       0, 0, 0, 0, 0, 0, 0, 0, 0, 0, 0, 0, 0, 0, 0, 0, 0, 0, 0, 0, 0, 0,\n",
              "       0, 0, 0, 0, 0, 0, 0, 0, 0, 0, 0, 0, 0, 0, 0, 0, 0, 0, 0, 0, 0, 0,\n",
              "       0, 0, 0, 0, 0, 0, 0, 0, 0, 0, 0, 0, 0, 0, 0, 0, 0, 0, 0, 0, 0, 0,\n",
              "       0, 0, 0, 0, 0, 0, 0, 0, 0, 0, 0, 0, 0, 0, 0, 0, 0, 0, 0, 0, 0, 0,\n",
              "       0, 0, 0, 0, 0, 0, 0, 0, 0, 0, 0, 0, 0, 0, 0, 0, 0, 0, 0, 0, 0, 0,\n",
              "       0, 0, 0, 0, 0, 0, 0, 0, 0, 0, 0, 0, 0, 0, 0, 0, 0, 0, 0, 0, 1, 1,\n",
              "       1, 0, 1, 1, 1, 0, 1, 1, 1, 0, 0, 0, 0, 0, 0, 0, 0, 0, 0, 0, 0, 0,\n",
              "       0, 0, 0, 0, 0, 0, 0, 0, 0, 0, 0, 0, 0, 0, 0, 0, 0, 0, 0, 0, 0, 0,\n",
              "       0, 0, 0, 0, 0, 0, 0, 0, 0, 0, 0, 0, 0, 0, 0, 0, 0, 0, 0, 0, 0, 0,\n",
              "       0, 0, 0, 0, 0, 0, 1, 0, 0, 0, 0, 0, 0, 0, 0, 0, 0, 0, 0, 0, 0, 1,\n",
              "       1, 1, 0, 0, 1, 0, 1, 1])"
            ]
          },
          "execution_count": 147,
          "metadata": {},
          "output_type": "execute_result"
        }
      ],
      "source": [
        "loaded_model.predict(X)"
      ]
    },
    {
      "cell_type": "code",
      "execution_count": null,
      "id": "fe236916",
      "metadata": {},
      "outputs": [],
      "source": [
        "# Сохранить список библиотек с версиями\n",
        "!pip freeze > requirements.txt\n",
        "\n",
        "# Если Anaconda/Miniconda\n",
        "# Создание виртуального окружения и установка зависимостей\n",
        "# !conda create -n \"main313\" python=3.13\n",
        "# !conda activate main313\n",
        "# !pip install -r requirements.txt #установит все библиотеки из requirements.txt"
      ]
    },
    {
      "cell_type": "markdown",
      "id": "a91a9627",
      "metadata": {
        "id": "a91a9627"
      },
      "source": [
        "Почитать подробнее про сохранение модели в файл и загрузку из файла тут: https://machinelearningmastery.com/save-load-machine-learning-models-python-scikit-learn/"
      ]
    }
  ],
  "metadata": {
    "colab": {
      "provenance": []
    },
    "kernelspec": {
      "display_name": "main312",
      "language": "python",
      "name": "python3"
    },
    "language_info": {
      "codemirror_mode": {
        "name": "ipython",
        "version": 3
      },
      "file_extension": ".py",
      "mimetype": "text/x-python",
      "name": "python",
      "nbconvert_exporter": "python",
      "pygments_lexer": "ipython3",
      "version": "3.12.8"
    },
    "toc": {
      "base_numbering": 1,
      "nav_menu": {},
      "number_sections": true,
      "sideBar": true,
      "skip_h1_title": false,
      "title_cell": "Table of Contents",
      "title_sidebar": "Contents",
      "toc_cell": false,
      "toc_position": {},
      "toc_section_display": true,
      "toc_window_display": false
    }
  },
  "nbformat": 4,
  "nbformat_minor": 5
}
