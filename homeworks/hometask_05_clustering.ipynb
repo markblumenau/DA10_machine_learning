{
  "cells": [
    {
      "cell_type": "markdown",
      "metadata": {
        "id": "rZOA7MoXtA-e"
      },
      "source": [
        "# Часть 1: K-Means\n",
        "## Кластеризация исполнителей по жанрам"
      ]
    },
    {
      "cell_type": "markdown",
      "metadata": {
        "id": "kabxpe1rpmPc"
      },
      "source": [
        "В этом задании вы попробуете кластеризовать исполнителей по жанрам на основе данных о прослушивании.\n",
        "\n",
        "В матрице sample_matrix по строкам стоят пользователи, а по столбцам - исполнители.\n",
        "\n",
        "Для каждой пары (пользователь,исполнитель) в таблице стоит число - доля (процент) прослушивания этого исполнителя выбранным пользователем."
      ]
    },
    {
      "cell_type": "markdown",
      "metadata": {
        "id": "wF3gCvLCtYyv"
      },
      "source": [
        "## Импорт библиотек, загрузка данных"
      ]
    },
    {
      "cell_type": "code",
      "execution_count": null,
      "metadata": {
        "id": "uprlaM05NGvI"
      },
      "outputs": [],
      "source": [
        "import pandas as pd"
      ]
    },
    {
      "cell_type": "code",
      "execution_count": null,
      "metadata": {},
      "outputs": [],
      "source": [
        "!pip install openpyxl"
      ]
    },
    {
      "cell_type": "code",
      "execution_count": null,
      "metadata": {
        "id": "BeE8Io3_uhi3"
      },
      "outputs": [],
      "source": [
        "ratings = pd.read_excel(\n",
        "    \"./sample_matrix.xlsx\",\n",
        "    engine='openpyxl'\n",
        "    )"
      ]
    },
    {
      "cell_type": "code",
      "execution_count": null,
      "metadata": {
        "colab": {
          "base_uri": "https://localhost:8080/",
          "height": 253
        },
        "id": "ZD0jf_i1Oy5d",
        "outputId": "8f746c85-9476-42df-852b-537f2112eb03"
      },
      "outputs": [],
      "source": [
        "ratings.head()"
      ]
    },
    {
      "cell_type": "markdown",
      "metadata": {
        "id": "WqKY6bd2vfGK"
      },
      "source": [
        "## Задание"
      ]
    },
    {
      "cell_type": "markdown",
      "metadata": {
        "id": "pHTPXIEvp_9f"
      },
      "source": [
        "Транспонируем матрицу ratings, чтобы по строкам стояли исполнители."
      ]
    },
    {
      "cell_type": "code",
      "execution_count": null,
      "metadata": {
        "id": "BfKDPzjoPxKE"
      },
      "outputs": [],
      "source": [
        "ratings = ratings.T"
      ]
    },
    {
      "cell_type": "markdown",
      "metadata": {
        "id": "B9tfrtCoqFbQ"
      },
      "source": [
        "Выкиньте строку под названием `user`."
      ]
    },
    {
      "cell_type": "code",
      "execution_count": null,
      "metadata": {
        "id": "FNMhITClOeyN"
      },
      "outputs": [],
      "source": [
        "# ваш код здесь"
      ]
    },
    {
      "cell_type": "markdown",
      "metadata": {
        "id": "eKZfzlnMBO-M"
      },
      "source": [
        "## Вопрос для Quiz\n",
        "\n",
        "Сколько строк осталось в матрице ratings?"
      ]
    },
    {
      "cell_type": "markdown",
      "metadata": {
        "id": "rxxnjpNVqJYN"
      },
      "source": [
        "Заполните пропуски нулями."
      ]
    },
    {
      "cell_type": "code",
      "execution_count": null,
      "metadata": {
        "id": "iKduzcA2OiFV"
      },
      "outputs": [],
      "source": [
        "# ваш код здесь"
      ]
    },
    {
      "cell_type": "markdown",
      "metadata": {
        "id": "j3ca2KiJqL9J"
      },
      "source": [
        "Нормализуйте данные при помощи `normalize`."
      ]
    },
    {
      "cell_type": "code",
      "execution_count": null,
      "metadata": {
        "id": "CVxxov5dqSb2"
      },
      "outputs": [],
      "source": [
        "from sklearn.preprocessing import normalize\n",
        "\n",
        "# ваш код здесь"
      ]
    },
    {
      "cell_type": "markdown",
      "metadata": {
        "id": "Ne6bESslqUXp"
      },
      "source": [
        "Примените KMeans с 5ю кластерами на преобразованной матрице (сделайте fit, а затем вычислите кластеры при помощи predict)."
      ]
    },
    {
      "cell_type": "code",
      "execution_count": null,
      "metadata": {
        "id": "cP13pV-dNo5s"
      },
      "outputs": [],
      "source": [
        "from sklearn.cluster import KMeans\n",
        "\n",
        "# ваш код здесь"
      ]
    },
    {
      "cell_type": "markdown",
      "metadata": {
        "id": "uZk0MMMUqiYM"
      },
      "source": [
        "Выведите на экран центры кластеров (центроиды)"
      ]
    },
    {
      "cell_type": "code",
      "execution_count": null,
      "metadata": {
        "id": "6mBQ-C1Bqmm3"
      },
      "outputs": [],
      "source": [
        "# ваш код здесь\n",
        "\n",
        "centroids = ..."
      ]
    },
    {
      "cell_type": "markdown",
      "metadata": {
        "id": "9eFLNiA_CRFq"
      },
      "source": [
        "Для каждого кластера найдем топ-10 исполнителей, наиболее близких к центроидам соотвествующего кластера.\n",
        "\n",
        "Схожесть исполнителей будем считать по косинусной мере (spatial.distance.cosine).\n",
        "\n",
        "## Quiz\n",
        "\n",
        "Вычислите расстояние между \"the beatles\" и \"coldplay\". Ответ округлите до сотых.\n"
      ]
    },
    {
      "cell_type": "code",
      "execution_count": null,
      "metadata": {
        "id": "oYtgZwSOCiHG"
      },
      "outputs": [],
      "source": [
        "from scipy import spatial\n",
        "\n",
        "# ваш код здесь"
      ]
    },
    {
      "cell_type": "markdown",
      "metadata": {
        "id": "BM3k07IRqnhF"
      },
      "source": [
        "Ниже для вашего удобства написана функция, принимающая на вход:\n",
        "* np.array points - все точки кластера\n",
        "* pt - центроид кластера\n",
        "* K = 10 - число\n",
        "Функция возвращает K индексов объектов (строк в массиве points), ближайших к центроиду."
      ]
    },
    {
      "cell_type": "code",
      "execution_count": null,
      "metadata": {
        "id": "8f-Pm9pNBYW2"
      },
      "outputs": [],
      "source": [
        "def pClosest(points, pt, K=10):\n",
        "    ind = [i[0] for i in sorted(enumerate(points), key=lambda x: spatial.distance.cosine(x[1], pt))]\n",
        "\n",
        "    return ind[:K]"
      ]
    },
    {
      "cell_type": "markdown",
      "metadata": {
        "id": "JPE-V0c9B_AC"
      },
      "source": [
        "Примените функцию pClosest (или придумайте свой подход) и выведите для каждого кластера названия топ-10 исполнителей, ближайших к центроиду."
      ]
    },
    {
      "cell_type": "code",
      "execution_count": null,
      "metadata": {
        "id": "PX1NO6CJqutV"
      },
      "outputs": [],
      "source": [
        "# ваш код здесь"
      ]
    },
    {
      "cell_type": "markdown",
      "metadata": {
        "id": "fk8TRHInqv_j"
      },
      "source": [
        "## Quiz\n",
        "\n",
        "Проинтерпретируйте результат. Что можно сказать о смысле кластеров?"
      ]
    },
    {
      "cell_type": "markdown",
      "metadata": {
        "id": "INk3CCWLa-ZJ"
      },
      "source": [
        "# Часть 2: сравнение алгоритмов кластеризации"
      ]
    },
    {
      "cell_type": "code",
      "execution_count": null,
      "metadata": {
        "colab": {
          "base_uri": "https://localhost:8080/",
          "height": 447
        },
        "id": "4fgkK-YubAzW",
        "outputId": "defcf8f5-78f8-44d5-ec81-900e7621d79f"
      },
      "outputs": [],
      "source": [
        "from matplotlib import pyplot as plt\n",
        "from sklearn.datasets import make_moons\n",
        "\n",
        "data = make_moons(n_samples=100, noise=0.1, random_state=42)\n",
        "\n",
        "X = data[0]\n",
        "y = data[1]\n",
        "\n",
        "plt.scatter(X[:,0], X[:,1], c=y)"
      ]
    },
    {
      "cell_type": "markdown",
      "metadata": {
        "id": "9d0WxvzgcDG6"
      },
      "source": [
        "Далее вы попробуете разные кластеризации для поиска кластеров. Также замеряйте время работы каждого метода."
      ]
    },
    {
      "cell_type": "markdown",
      "metadata": {
        "id": "E8Aj-5rMbv19"
      },
      "source": [
        "Попробуйте найти кластеры при помощи KMeans"
      ]
    },
    {
      "cell_type": "code",
      "execution_count": null,
      "metadata": {
        "id": "rcZyFe8KbPze"
      },
      "outputs": [],
      "source": [
        "# ваш код здесь"
      ]
    },
    {
      "cell_type": "markdown",
      "metadata": {
        "id": "KQCV8we8b1OD"
      },
      "source": [
        "## Quiz\n",
        "\n",
        "Подберите $\\varepsilon$ и min_samples в DBSCAN, чтобы наилучшим образом найти кластеры.\n",
        "Ищите гиперпараметры из диапазонов:\n",
        "* eps in [0.05, 0.1, 0.2, 0.28, 0.3, 0.32]\n",
        "* min_samples in [4, 5, 6, 7]"
      ]
    },
    {
      "cell_type": "code",
      "execution_count": null,
      "metadata": {
        "id": "XVFoaJqtb6z9"
      },
      "outputs": [],
      "source": [
        "# ваш код здесь"
      ]
    },
    {
      "cell_type": "markdown",
      "metadata": {
        "id": "gVT2XXpXb7iY"
      },
      "source": [
        "## Quiz\n",
        "\n",
        "Используйте иерархическую кластеризацию для поиска кластеров.\n",
        "Задайте в методе 2 кластера. Подберите гиперпараметр linkage из списка ['ward', 'complete', 'average', 'single'], дающий наилучший результат."
      ]
    },
    {
      "cell_type": "code",
      "execution_count": null,
      "metadata": {
        "id": "o1K8jDR7b_BW"
      },
      "outputs": [],
      "source": [
        "from sclearn.cluster import AgglomerativeClustering\n",
        "\n",
        "# ваш код здесь"
      ]
    },
    {
      "cell_type": "markdown",
      "metadata": {
        "id": "JpBvTJi1b_16"
      },
      "source": [
        "## Quiz\n",
        "\n",
        "Попробуйте найти кластеры при помощи спектральной кластеризации.\n",
        "Задайте 2 кластера, affinity='nearest_neighbors'. Подберите гиперпараметр n_neighbors из диапазона [1,2,...,19], чтобы добиться наилучшего результата."
      ]
    },
    {
      "cell_type": "code",
      "execution_count": null,
      "metadata": {
        "id": "XqAacOmXcCPv"
      },
      "outputs": [],
      "source": [
        "# ваш код здесь"
      ]
    },
    {
      "cell_type": "markdown",
      "metadata": {
        "id": "7e-_7M4PcID8"
      },
      "source": [
        "## Quiz\n",
        "\n",
        "Сделайте выводы: какой метод сработал лучше других? какой метод сработал быстрее? есть ли метод, наилучший и по качеству, и по времени одновременно?"
      ]
    }
  ],
  "metadata": {
    "colab": {
      "provenance": []
    },
    "kernelspec": {
      "display_name": "main312",
      "language": "python",
      "name": "python3"
    },
    "language_info": {
      "codemirror_mode": {
        "name": "ipython",
        "version": 3
      },
      "file_extension": ".py",
      "mimetype": "text/x-python",
      "name": "python",
      "nbconvert_exporter": "python",
      "pygments_lexer": "ipython3",
      "version": "3.12.8"
    }
  },
  "nbformat": 4,
  "nbformat_minor": 0
}
