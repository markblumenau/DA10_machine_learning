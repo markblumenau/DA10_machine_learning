{
  "cells": [
    {
      "cell_type": "markdown",
      "metadata": {
        "_uuid": "21c25e4f8bb31570029fd6b069131a5d00f84cf1",
        "id": "3-tVAicKr1C7"
      },
      "source": [
        "# Домашнее задание 1"
      ]
    },
    {
      "cell_type": "markdown",
      "metadata": {
        "id": "BQQyylzKr4qC"
      },
      "source": [
        "Все задания ниже имеют равный вес."
      ]
    },
    {
      "cell_type": "markdown",
      "metadata": {
        "id": "5HLoyae8xQ1l"
      },
      "source": [
        "## Описание данных"
      ]
    },
    {
      "cell_type": "markdown",
      "metadata": {
        "id": "vpSnDrAVr1C9"
      },
      "source": [
        "В папке Data находится информация о студентах. Всего 10 групп студентов.  \n",
        "Файлы делятся на две категории:\n",
        "*   Students_info_i - информация о студентах из группы i\n",
        "*   Students_marks_i - оценки студентов из группы i за экзамены\n",
        "\n"
      ]
    },
    {
      "cell_type": "markdown",
      "metadata": {
        "id": "3przp22Ir1C9"
      },
      "source": [
        "Одно из важных достоинств pandas $-$ это удобные методы реляционного взаимодействия с данными, аналогичные, например, возможностям SQL для слияния и конкатенации таблиц: merge, join, concat. Наличие готовых методов позволяет не реализовывать самостоятельно поэлементную обработку данных и оперировать сразу целыми таблицами данных.\n",
        "\n",
        "Подробно об этих методах посмотрите тут:\n",
        "\n",
        " https://www.kaggle.com/residentmario/renaming-and-combining#Combining"
      ]
    },
    {
      "cell_type": "markdown",
      "metadata": {
        "id": "mcbGj3CoxYqm"
      },
      "source": [
        "## Практика"
      ]
    },
    {
      "cell_type": "code",
      "execution_count": null,
      "metadata": {
        "id": "OOiCLymw1F5B"
      },
      "outputs": [],
      "source": [
        "# импортируем библиотеку Pandas\n",
        "import pandas as pd"
      ]
    },
    {
      "cell_type": "code",
      "execution_count": null,
      "metadata": {
        "id": "McFB9a_B9bAd"
      },
      "outputs": [],
      "source": [
        "%%capture\n",
        "# загружаем данные\n",
        "# Original\n",
        "# !wget https://github.com/hse-ds/iad-intro-ds/raw/refs/heads/master/2022/homeworks/Data.zip\n",
        "!wget https://github.com/markblumenau/DA10_machine_learning/raw/refs/heads/main/homeworks/hw1/Data.zip"
      ]
    },
    {
      "cell_type": "code",
      "execution_count": null,
      "metadata": {
        "colab": {
          "base_uri": "https://localhost:8080/"
        },
        "id": "ef78rqK6-U_j",
        "outputId": "f2778ecb-fa41-437c-9030-24106ee089a4"
      },
      "outputs": [
        {
          "name": "stdout",
          "output_type": "stream",
          "text": [
            "total 312K\n",
            "drwxr-xr-x 1 root root 4.0K Sep 10 07:18 .\n",
            "drwxr-xr-x 1 root root 4.0K Sep 10 07:17 ..\n",
            "drwxr-xr-x 4 root root 4.0K Sep  6 13:22 .config\n",
            "-rw-r--r-- 1 root root 293K Sep 10 07:18 Data.zip\n",
            "drwxr-xr-x 1 root root 4.0K Sep  6 13:22 sample_data\n"
          ]
        }
      ],
      "source": [
        "# проверяем загрузку (наличие файла Data.zip)\n",
        "!ls -lah"
      ]
    },
    {
      "cell_type": "code",
      "execution_count": null,
      "metadata": {
        "colab": {
          "base_uri": "https://localhost:8080/"
        },
        "id": "xECazP09-iId",
        "outputId": "feea7d0f-5262-4a4f-bc00-c6845dbfeb64"
      },
      "outputs": [
        {
          "name": "stdout",
          "output_type": "stream",
          "text": [
            "Archive:  Data.zip\n",
            "  End-of-central-directory signature not found.  Either this file is not\n",
            "  a zipfile, or it constitutes one disk of a multi-part archive.  In the\n",
            "  latter case the central directory and zipfile comment will be found on\n",
            "  the last disk(s) of this archive.\n",
            "unzip:  cannot find zipfile directory in one of Data.zip or\n",
            "        Data.zip.zip, and cannot find Data.zip.ZIP, period.\n"
          ]
        }
      ],
      "source": [
        "# разархивируем данные\n",
        "!unzip Data.zip\n"
      ]
    },
    {
      "cell_type": "code",
      "execution_count": null,
      "metadata": {
        "colab": {
          "base_uri": "https://localhost:8080/"
        },
        "id": "m0n50cN0-72n",
        "outputId": "975e8f3b-632a-4151-938e-cb93544922d0"
      },
      "outputs": [
        {
          "name": "stdout",
          "output_type": "stream",
          "text": [
            "-rw-r--r-- 1 root root 293K Sep 10 07:07 Data.zip\n"
          ]
        }
      ],
      "source": [
        "# смотрим что получилось\n",
        "!ls -lah Data.zip"
      ]
    },
    {
      "cell_type": "markdown",
      "metadata": {
        "id": "3kQnuewfr1C9"
      },
      "source": [
        "### Задание 1"
      ]
    },
    {
      "cell_type": "markdown",
      "metadata": {
        "id": "0QHaDoSi_OZd"
      },
      "source": [
        "Соберите всю информацию о студентах в одну таблицу df. В получившейся таблице должна быть информация и оценки всех студентов из всех групп. Напечатайте несколько строк таблицы для демонстрации результата"
      ]
    },
    {
      "cell_type": "code",
      "execution_count": null,
      "metadata": {
        "id": "pjzfuMd6r1C9"
      },
      "outputs": [],
      "source": [
        "# ваш код здесь\n",
        "..."
      ]
    },
    {
      "cell_type": "markdown",
      "metadata": {
        "_uuid": "8524af4cbd2f7b7810e8a3095a74c9fe1df7eafa",
        "id": "YaAQdtmer1C-"
      },
      "source": [
        "### Задание 2"
      ]
    },
    {
      "cell_type": "markdown",
      "metadata": {
        "id": "mrtj9C2l_TVv"
      },
      "source": [
        "Удалите столбец index у полученной таблицы. Напечатайте первые 10 строк таблицы"
      ]
    },
    {
      "cell_type": "code",
      "execution_count": null,
      "metadata": {
        "_uuid": "fe62eee87b9b94ab923f57b55eaf0554612aa9e9",
        "id": "QbZjjfk2r1C-"
      },
      "outputs": [],
      "source": [
        "# ваш код здесь\n",
        "...\n"
      ]
    },
    {
      "cell_type": "markdown",
      "metadata": {
        "_uuid": "5fcd622942b7ecfc318934c6a245d3bb3bf01e84",
        "id": "gLnD6YPkr1C-"
      },
      "source": [
        "### Задание 3"
      ]
    },
    {
      "cell_type": "markdown",
      "metadata": {
        "id": "iSS1wJLqKoBm"
      },
      "source": [
        "Выведите на экран размеры полученной таблицы"
      ]
    },
    {
      "cell_type": "code",
      "execution_count": null,
      "metadata": {
        "_uuid": "16281cd7b4e941ebed8ca2e1b42f62f55d838684",
        "id": "iQQlxhAJr1C-"
      },
      "outputs": [],
      "source": [
        "# ваш код здесь\n",
        "..."
      ]
    },
    {
      "cell_type": "markdown",
      "metadata": {
        "_uuid": "fe8e3d58d29ca25dbbcf001392377643e6ff9a36",
        "id": "i4C0EUhTr1C-"
      },
      "source": [
        "### Задание 4"
      ]
    },
    {
      "cell_type": "markdown",
      "metadata": {
        "id": "XKhfHhnuKq4m"
      },
      "source": [
        "Выведите на экран статистические характеристики числовых столбцов таблицы (минимум, максимум, среднее значение, стандартное отклонение)"
      ]
    },
    {
      "cell_type": "code",
      "execution_count": null,
      "metadata": {
        "_uuid": "e3d4bb80d2c4251fe517c24fcf08c5ff2d67b8aa",
        "id": "twppg5yZr1C-"
      },
      "outputs": [],
      "source": [
        "# ваш код здесь\n",
        "..."
      ]
    },
    {
      "cell_type": "markdown",
      "metadata": {
        "_uuid": "b26b7de83485ecb3b8a0a7865a596e24527c7b2f",
        "id": "BhS_xiIDr1C_"
      },
      "source": [
        "### Задание 5"
      ]
    },
    {
      "cell_type": "markdown",
      "metadata": {
        "id": "utIlUSPeKvnJ"
      },
      "source": [
        "Проверьте, есть ли в таблице пропущенные значения"
      ]
    },
    {
      "cell_type": "code",
      "execution_count": null,
      "metadata": {
        "_uuid": "4eac3f8f83d07c6e58ad1576fe0e773f37034a2f",
        "id": "TXlZ2JKZr1C_"
      },
      "outputs": [],
      "source": [
        "# ваш код здесь\n",
        "..."
      ]
    },
    {
      "cell_type": "markdown",
      "metadata": {
        "id": "KOXkgrCsr1C_"
      },
      "source": [
        "### Задание 6"
      ]
    },
    {
      "cell_type": "markdown",
      "metadata": {
        "id": "Ua3muRwsKyWZ"
      },
      "source": [
        "Выведите на экран средние баллы студентов по каждому предмету (`math`, `reading`, `writing`)\n",
        "\n",
        "Здесь и далее, если вам мешают пропуски -- считайте средние и т. д. по тем студентам, у которых есть необходимые значения."
      ]
    },
    {
      "cell_type": "code",
      "execution_count": null,
      "metadata": {
        "id": "h2pGYA-Wr1C_"
      },
      "outputs": [],
      "source": [
        "# ваш код здесь\n",
        "..."
      ]
    },
    {
      "cell_type": "markdown",
      "metadata": {
        "id": "fczoCZJTr1DA"
      },
      "source": [
        "### Задание 7"
      ]
    },
    {
      "cell_type": "markdown",
      "metadata": {
        "id": "18pWMoCbK6Bm"
      },
      "source": [
        "Как зависят оценки от того, проходил ли студент курс для подготовки к сдаче экзамена (test preparation course)?\n",
        "\n",
        "Выведите на экран для каждого предмета в отдельности средний балл студентов, проходивших курс для подготовки к экзамену и не проходивших курс."
      ]
    },
    {
      "cell_type": "code",
      "execution_count": null,
      "metadata": {
        "id": "ZhWK8xVCr1DA"
      },
      "outputs": [],
      "source": [
        "# ваш код здесь\n",
        "..."
      ]
    },
    {
      "cell_type": "markdown",
      "metadata": {
        "id": "0HoILF9Er1DA"
      },
      "source": [
        "### Задание 8"
      ]
    },
    {
      "cell_type": "markdown",
      "metadata": {
        "id": "3dvqwn7XMl4L"
      },
      "source": [
        "Выведите на экран все различные значения из столбца `lunch`"
      ]
    },
    {
      "cell_type": "code",
      "execution_count": null,
      "metadata": {
        "id": "6l_XMKFbr1DA"
      },
      "outputs": [],
      "source": [
        "# ваш код здесь\n",
        "..."
      ]
    },
    {
      "cell_type": "markdown",
      "metadata": {
        "id": "8vG57VtAr1DA"
      },
      "source": [
        "### Задание 9"
      ]
    },
    {
      "cell_type": "markdown",
      "metadata": {
        "id": "qdsFzJmVMy6w"
      },
      "source": [
        "Переименуйте колонку `parental level of education` в `education`, а `test preparation course` в `test preparation` с помощью метода pandas [`rename`](https://pandas.pydata.org/pandas-docs/stable/reference/api/pandas.DataFrame.rename.html)"
      ]
    },
    {
      "cell_type": "code",
      "execution_count": null,
      "metadata": {
        "id": "K7p_wEhzr1DB"
      },
      "outputs": [],
      "source": [
        "# ваш код здесь\n",
        "..."
      ]
    },
    {
      "cell_type": "markdown",
      "metadata": {
        "id": "_Ft8TrDbM_ud"
      },
      "source": [
        "### Задание 10"
      ]
    },
    {
      "cell_type": "markdown",
      "metadata": {
        "id": "6NGpIYJzr1DB"
      },
      "source": [
        "**Зафиксируем минимальный балл для сдачи экзамена**"
      ]
    },
    {
      "cell_type": "code",
      "execution_count": null,
      "metadata": {
        "id": "kxHBHeU6r1DB"
      },
      "outputs": [],
      "source": [
        "passmark = 50"
      ]
    },
    {
      "cell_type": "markdown",
      "metadata": {
        "id": "xTjgdXGMr1DB"
      },
      "source": [
        "**Ответьте на вопросы**\n",
        "* Какая доля студентов сдала экзамен по математике (passmark > 50)?\n",
        "* Какая доля студентов, проходивших курс подготовки к экзамену, сдала экзамен по математике?\n",
        "* Какая доля женщин, не проходивших курс подготовки к экзамену, не сдала экзамен по математике?"
      ]
    },
    {
      "cell_type": "code",
      "execution_count": null,
      "metadata": {
        "id": "5v8uB_2er1DB"
      },
      "outputs": [],
      "source": [
        "# ваш код здесь\n",
        "..."
      ]
    },
    {
      "cell_type": "code",
      "execution_count": null,
      "metadata": {
        "id": "Mwm_tNJ7NGvx"
      },
      "outputs": [],
      "source": [
        "# ваш код здесь\n",
        "..."
      ]
    },
    {
      "cell_type": "code",
      "execution_count": null,
      "metadata": {
        "id": "XYmblIG_NIQg"
      },
      "outputs": [],
      "source": [
        "# ваш код здесь\n",
        "..."
      ]
    },
    {
      "cell_type": "markdown",
      "metadata": {
        "id": "LysYnT_pr1DB"
      },
      "source": [
        "### Задание 11"
      ]
    },
    {
      "cell_type": "markdown",
      "metadata": {
        "id": "izOBIWgqMY_S"
      },
      "source": [
        "С помощью `groupby` выполните задания ниже. Также выведите время выполнения каждого из заданий.\n",
        "* Для каждой этнической группы выведите средний балл за экзамен по чтению\n",
        "* Для каждого уровня образования выведите минимальный балл за экзамен по письму"
      ]
    },
    {
      "cell_type": "code",
      "execution_count": null,
      "metadata": {
        "id": "TvC6MauJr1DB"
      },
      "outputs": [],
      "source": [
        "# ваш код здесь\n",
        "..."
      ]
    },
    {
      "cell_type": "code",
      "execution_count": null,
      "metadata": {
        "id": "ZKo39lexMeh0"
      },
      "outputs": [],
      "source": [
        "# ваш код здесь\n",
        "..."
      ]
    },
    {
      "cell_type": "markdown",
      "metadata": {
        "id": "iufsl6Rvr1DB"
      },
      "source": [
        "### Задание 12"
      ]
    },
    {
      "cell_type": "markdown",
      "metadata": {
        "id": "nyv-U8ARMTlg"
      },
      "source": [
        "Выполните задание 11 с помощью циклов. Сравните время выполнения"
      ]
    },
    {
      "cell_type": "code",
      "execution_count": null,
      "metadata": {
        "id": "R_sP5oy3r1DC"
      },
      "outputs": [],
      "source": [
        "# ваш код здесь\n",
        "..."
      ]
    },
    {
      "cell_type": "markdown",
      "metadata": {
        "id": "eeqPh0-ar1DC"
      },
      "source": [
        "### Задание 13"
      ]
    },
    {
      "cell_type": "markdown",
      "metadata": {
        "id": "vOZzthhpMEis"
      },
      "source": [
        "Выведите на экран средние баллы студентов по каждому предмету в зависимости от пола и уровня образования.  \n",
        "То есть должно получиться количество групп, равных 2 * (число уровней образования), и для каждой такой группы выведите средний балл по каждому из предметов.\n",
        "\n",
        "Это можно сделать с помощью сводных таблиц ([pivot_table](https://www.kaggle.com/kamilpolak/tutorial-how-to-use-pivot-table-in-pandas))"
      ]
    },
    {
      "cell_type": "code",
      "execution_count": null,
      "metadata": {
        "id": "QHbHlJT6r1DC"
      },
      "outputs": [],
      "source": [
        "# ваш код здесь\n",
        "..."
      ]
    },
    {
      "cell_type": "markdown",
      "metadata": {
        "_uuid": "3e832cb427c4314582d1953a41b8c78db75e30e3",
        "id": "K2dzmojsr1DC"
      },
      "source": [
        "### Задание 14"
      ]
    },
    {
      "cell_type": "markdown",
      "metadata": {
        "id": "G5EgmLmALpsb"
      },
      "source": [
        "Сколько студентов успешно сдали экзамен по математике?\n",
        "\n",
        "Создайте новый столбец в таблице `df` под названием `Math_PassStatus` и запишите в него F, если студент не сдал экзамен по математике (балл за экзамен < passmark), и P иначе.\n",
        "\n",
        "Посчитайте количество студентов, сдавших и не сдавших экзамен по математике.\n",
        "\n",
        "Сделайте аналогичные шаги для экзаменов по чтению и письму."
      ]
    },
    {
      "cell_type": "code",
      "execution_count": null,
      "metadata": {
        "_uuid": "f43cddb72cc96b30df84bc0de83a4d9170904340",
        "id": "6CWO_CTMr1DC"
      },
      "outputs": [],
      "source": [
        "# ваш код здесь\n",
        "..."
      ]
    },
    {
      "cell_type": "markdown",
      "metadata": {
        "_uuid": "b753c90914ee65501e2ed263ea614d88a381c472",
        "id": "0qNtF6SJr1DC"
      },
      "source": [
        "### Задание 15"
      ]
    },
    {
      "cell_type": "markdown",
      "metadata": {
        "id": "sp71dDr3Lb-L"
      },
      "source": [
        "Сколько студентов успешно сдали все экзамены?\n",
        "\n",
        "Создайте столбец `OverAll_PassStatus` и запишите в него для каждого студента 'F', если студент не сдал хотя бы один из трех экзаменов, а иначе 'P'.\n",
        "\n",
        "Посчитайте количество студентов, которые сдали все экзамены."
      ]
    },
    {
      "cell_type": "code",
      "execution_count": null,
      "metadata": {
        "_uuid": "e98f895a022b967cab801447b616222439fe9d84",
        "id": "8bZEVcDMr1DC"
      },
      "outputs": [],
      "source": [
        "# ваш код здесь\n",
        "..."
      ]
    },
    {
      "cell_type": "markdown",
      "metadata": {
        "_uuid": "3af9c6cb4cbfff66d4ae09509f10b8b6ce33075d",
        "id": "oezdmPXGr1DC"
      },
      "source": [
        "### Задание 16"
      ]
    },
    {
      "cell_type": "markdown",
      "metadata": {
        "id": "hLJJR1GqLDc0"
      },
      "source": [
        "Переведем баллы в оценки\n",
        "\n",
        "**Система перевода баллов в оценки**\n",
        "*   [90;100] = A\n",
        "*   [80;90) = B\n",
        "*   [70;80) = C\n",
        "*   [60;70) = D\n",
        "*   [50;60) = E\n",
        "*   [0;50) = F (Fail)\n",
        "\n",
        "Создайте вспомогательную функцию, которая будет по среднему баллу за три экзамена выставлять оценку студенту по данным выше критериям.\n",
        "\n",
        "Создайте столбец `Grade` и запишите в него оценку каждого студента.\n",
        "\n",
        "Выведите количество студентов, получивших каждую из оценок."
      ]
    },
    {
      "cell_type": "code",
      "execution_count": null,
      "metadata": {
        "_uuid": "04707c5be4237020b906d2ac705a0db3d620506f",
        "colab": {
          "base_uri": "https://localhost:8080/"
        },
        "id": "tLSML7yrr1DD",
        "outputId": "757d8e6a-3f15-4f00-93b0-2a50f562bb38"
      },
      "outputs": [
        {
          "data": {
            "text/plain": [
              "Ellipsis"
            ]
          },
          "execution_count": 29,
          "metadata": {},
          "output_type": "execute_result"
        }
      ],
      "source": [
        "def GetGrade(average_mark):\n",
        "    # ваш код здесь\n",
        "    ...\n",
        "\n",
        "# ваш код здесь\n",
        "..."
      ]
    }
  ],
  "metadata": {
    "colab": {
      "provenance": []
    },
    "kernelspec": {
      "display_name": "Python 3 (ipykernel)",
      "language": "python",
      "name": "python3"
    },
    "language_info": {
      "codemirror_mode": {
        "name": "ipython",
        "version": 3
      },
      "file_extension": ".py",
      "mimetype": "text/x-python",
      "name": "python",
      "nbconvert_exporter": "python",
      "pygments_lexer": "ipython3",
      "version": "3.9.12"
    }
  },
  "nbformat": 4,
  "nbformat_minor": 0
}
